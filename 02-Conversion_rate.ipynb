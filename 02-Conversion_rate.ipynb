{
 "cells": [
  {
   "cell_type": "code",
   "execution_count": 1,
   "metadata": {},
   "outputs": [],
   "source": [
    "import time\n",
    "start_time = time.time()"
   ]
  },
  {
   "cell_type": "markdown",
   "metadata": {},
   "source": [
    "<img src=\"data:image/png;base64,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\" alt=\"DSW LOGO\" />"
   ]
  },
  {
   "cell_type": "markdown",
   "metadata": {
    "colab_type": "text",
    "id": "0eiKSLYG8XvO"
   },
   "source": [
    "# Challenge : predict conversions 🏆🏆\n",
    "\n",
    "This is the template that shows the different steps of the challenge. In this notebook, all the training/predictions steps are implemented for a very basic model (logistic regression with only one variable). Please use this template and feel free to change the preprocessing/training steps to get the model with the best f1-score ! May the force be with you 🧨🧨  \n",
    "\n",
    "**For a detailed description of this project, please refer to *02-Conversion_rate_challenge.ipynb*.**"
   ]
  },
  {
   "cell_type": "markdown",
   "metadata": {},
   "source": [
    "# Import libraries"
   ]
  },
  {
   "cell_type": "code",
   "execution_count": 2,
   "metadata": {},
   "outputs": [
    {
     "name": "stdout",
     "output_type": "stream",
     "text": [
      "\u001b[31mERROR: pip's dependency resolver does not currently take into account all the packages that are installed. This behaviour is the source of the following dependency conflicts.\n",
      "pyldavis 3.3.1 requires numpy>=1.20.0, but you have numpy 1.19.5 which is incompatible.\u001b[0m\n"
     ]
    }
   ],
   "source": [
    "!pip install plotly==5.0.0 -q\n",
    "!pip install -U scikit-learn -q"
   ]
  },
  {
   "cell_type": "code",
   "execution_count": 3,
   "metadata": {
    "colab": {},
    "colab_type": "code",
    "id": "AGhdl7Bt2xZd"
   },
   "outputs": [],
   "source": [
    "import pandas as pd\n",
    "import numpy as np\n",
    "\n",
    "from scipy import stats\n",
    "\n",
    "# explicitly require this experimental feature\n",
    "from sklearn.experimental import enable_halving_search_cv, enable_hist_gradient_boosting\n",
    "\n",
    "from sklearn.model_selection import train_test_split\n",
    "from sklearn.pipeline import Pipeline\n",
    "from sklearn.impute import SimpleImputer, KNNImputer\n",
    "from sklearn.preprocessing import  OneHotEncoder, StandardScaler, LabelEncoder\n",
    "from sklearn.compose import ColumnTransformer\n",
    "from sklearn.linear_model import LogisticRegression\n",
    "from sklearn.tree import DecisionTreeClassifier\n",
    "from sklearn.ensemble import RandomForestClassifier, AdaBoostClassifier\n",
    "from sklearn.ensemble import HistGradientBoostingClassifier, GradientBoostingClassifier\n",
    "from sklearn.svm import SVC\n",
    "from sklearn.model_selection import GridSearchCV, HalvingGridSearchCV\n",
    "from sklearn.metrics import accuracy_score, f1_score, confusion_matrix, classification_report, auc\n",
    "from sklearn.metrics import precision_recall_curve, plot_precision_recall_curve, roc_curve, average_precision_score\n",
    "\n",
    "import seaborn as sns\n",
    "import matplotlib.pyplot as plt\n",
    "import plotly.express as px\n",
    "import plotly.graph_objects as go\n",
    "import plotly.io as pio\n",
    "\n",
    "from plotly.subplots import make_subplots\n",
    "\n",
    "# setting Jedha color palette as default\n",
    "pio.templates[\"jedha\"] = go.layout.Template(\n",
    "    layout_colorway=[\"#4B9AC7\", \"#4BE8E0\", \"#9DD4F3\", \"#97FBF6\", \"#2A7FAF\", \"#23B1AB\", \"#0E3449\", \"#015955\"]\n",
    ")\n",
    "pio.templates.default = \"jedha\"\n",
    "pio.renderers.default = \"iframe\" # to be replaced by \"iframe\" if working on JULIE\n",
    "from IPython.display import display"
   ]
  },
  {
   "cell_type": "markdown",
   "metadata": {
    "colab_type": "text",
    "id": "LHgro65rxKF7"
   },
   "source": [
    "# Read file with labels"
   ]
  },
  {
   "cell_type": "code",
   "execution_count": 4,
   "metadata": {
    "colab": {
     "base_uri": "https://localhost:8080/",
     "height": 34
    },
    "colab_type": "code",
    "id": "W1AU8AH8u0qd",
    "outputId": "00698a97-027b-493b-a2e4-33fdcc295abb"
   },
   "outputs": [
    {
     "name": "stdout",
     "output_type": "stream",
     "text": [
      "Set with labels : (284580, 6)\n"
     ]
    }
   ],
   "source": [
    "data = pd.read_csv('conversion_data_train.csv')\n",
    "print('Set with labels :', data.shape)"
   ]
  },
  {
   "cell_type": "code",
   "execution_count": 5,
   "metadata": {},
   "outputs": [
    {
     "data": {
      "text/html": [
       "<div>\n",
       "<style scoped>\n",
       "    .dataframe tbody tr th:only-of-type {\n",
       "        vertical-align: middle;\n",
       "    }\n",
       "\n",
       "    .dataframe tbody tr th {\n",
       "        vertical-align: top;\n",
       "    }\n",
       "\n",
       "    .dataframe thead th {\n",
       "        text-align: right;\n",
       "    }\n",
       "</style>\n",
       "<table border=\"1\" class=\"dataframe\">\n",
       "  <thead>\n",
       "    <tr style=\"text-align: right;\">\n",
       "      <th></th>\n",
       "      <th>country</th>\n",
       "      <th>age</th>\n",
       "      <th>new_user</th>\n",
       "      <th>source</th>\n",
       "      <th>total_pages_visited</th>\n",
       "      <th>converted</th>\n",
       "    </tr>\n",
       "  </thead>\n",
       "  <tbody>\n",
       "    <tr>\n",
       "      <th>0</th>\n",
       "      <td>China</td>\n",
       "      <td>22</td>\n",
       "      <td>1</td>\n",
       "      <td>Direct</td>\n",
       "      <td>2</td>\n",
       "      <td>0</td>\n",
       "    </tr>\n",
       "    <tr>\n",
       "      <th>1</th>\n",
       "      <td>UK</td>\n",
       "      <td>21</td>\n",
       "      <td>1</td>\n",
       "      <td>Ads</td>\n",
       "      <td>3</td>\n",
       "      <td>0</td>\n",
       "    </tr>\n",
       "    <tr>\n",
       "      <th>2</th>\n",
       "      <td>Germany</td>\n",
       "      <td>20</td>\n",
       "      <td>0</td>\n",
       "      <td>Seo</td>\n",
       "      <td>14</td>\n",
       "      <td>1</td>\n",
       "    </tr>\n",
       "    <tr>\n",
       "      <th>3</th>\n",
       "      <td>US</td>\n",
       "      <td>23</td>\n",
       "      <td>1</td>\n",
       "      <td>Seo</td>\n",
       "      <td>3</td>\n",
       "      <td>0</td>\n",
       "    </tr>\n",
       "    <tr>\n",
       "      <th>4</th>\n",
       "      <td>US</td>\n",
       "      <td>28</td>\n",
       "      <td>1</td>\n",
       "      <td>Direct</td>\n",
       "      <td>3</td>\n",
       "      <td>0</td>\n",
       "    </tr>\n",
       "  </tbody>\n",
       "</table>\n",
       "</div>"
      ],
      "text/plain": [
       "   country  age  new_user  source  total_pages_visited  converted\n",
       "0    China   22         1  Direct                    2          0\n",
       "1       UK   21         1     Ads                    3          0\n",
       "2  Germany   20         0     Seo                   14          1\n",
       "3       US   23         1     Seo                    3          0\n",
       "4       US   28         1  Direct                    3          0"
      ]
     },
     "execution_count": 5,
     "metadata": {},
     "output_type": "execute_result"
    }
   ],
   "source": [
    "data.head()"
   ]
  },
  {
   "cell_type": "code",
   "execution_count": 6,
   "metadata": {},
   "outputs": [
    {
     "data": {
      "text/html": [
       "<div>\n",
       "<style scoped>\n",
       "    .dataframe tbody tr th:only-of-type {\n",
       "        vertical-align: middle;\n",
       "    }\n",
       "\n",
       "    .dataframe tbody tr th {\n",
       "        vertical-align: top;\n",
       "    }\n",
       "\n",
       "    .dataframe thead th {\n",
       "        text-align: right;\n",
       "    }\n",
       "</style>\n",
       "<table border=\"1\" class=\"dataframe\">\n",
       "  <thead>\n",
       "    <tr style=\"text-align: right;\">\n",
       "      <th></th>\n",
       "      <th>country</th>\n",
       "      <th>age</th>\n",
       "      <th>new_user</th>\n",
       "      <th>source</th>\n",
       "      <th>total_pages_visited</th>\n",
       "      <th>converted</th>\n",
       "    </tr>\n",
       "  </thead>\n",
       "  <tbody>\n",
       "    <tr>\n",
       "      <th>count</th>\n",
       "      <td>9180</td>\n",
       "      <td>9180.000000</td>\n",
       "      <td>9180.000000</td>\n",
       "      <td>9180</td>\n",
       "      <td>9180.000000</td>\n",
       "      <td>9180.0</td>\n",
       "    </tr>\n",
       "    <tr>\n",
       "      <th>unique</th>\n",
       "      <td>4</td>\n",
       "      <td>NaN</td>\n",
       "      <td>NaN</td>\n",
       "      <td>3</td>\n",
       "      <td>NaN</td>\n",
       "      <td>NaN</td>\n",
       "    </tr>\n",
       "    <tr>\n",
       "      <th>top</th>\n",
       "      <td>US</td>\n",
       "      <td>NaN</td>\n",
       "      <td>NaN</td>\n",
       "      <td>Seo</td>\n",
       "      <td>NaN</td>\n",
       "      <td>NaN</td>\n",
       "    </tr>\n",
       "    <tr>\n",
       "      <th>freq</th>\n",
       "      <td>6070</td>\n",
       "      <td>NaN</td>\n",
       "      <td>NaN</td>\n",
       "      <td>4585</td>\n",
       "      <td>NaN</td>\n",
       "      <td>NaN</td>\n",
       "    </tr>\n",
       "    <tr>\n",
       "      <th>mean</th>\n",
       "      <td>NaN</td>\n",
       "      <td>26.567647</td>\n",
       "      <td>0.298584</td>\n",
       "      <td>NaN</td>\n",
       "      <td>14.560022</td>\n",
       "      <td>1.0</td>\n",
       "    </tr>\n",
       "    <tr>\n",
       "      <th>std</th>\n",
       "      <td>NaN</td>\n",
       "      <td>7.085390</td>\n",
       "      <td>0.457662</td>\n",
       "      <td>NaN</td>\n",
       "      <td>3.959594</td>\n",
       "      <td>0.0</td>\n",
       "    </tr>\n",
       "    <tr>\n",
       "      <th>min</th>\n",
       "      <td>NaN</td>\n",
       "      <td>17.000000</td>\n",
       "      <td>0.000000</td>\n",
       "      <td>NaN</td>\n",
       "      <td>2.000000</td>\n",
       "      <td>1.0</td>\n",
       "    </tr>\n",
       "    <tr>\n",
       "      <th>25%</th>\n",
       "      <td>NaN</td>\n",
       "      <td>21.000000</td>\n",
       "      <td>0.000000</td>\n",
       "      <td>NaN</td>\n",
       "      <td>12.000000</td>\n",
       "      <td>1.0</td>\n",
       "    </tr>\n",
       "    <tr>\n",
       "      <th>50%</th>\n",
       "      <td>NaN</td>\n",
       "      <td>25.000000</td>\n",
       "      <td>0.000000</td>\n",
       "      <td>NaN</td>\n",
       "      <td>14.000000</td>\n",
       "      <td>1.0</td>\n",
       "    </tr>\n",
       "    <tr>\n",
       "      <th>75%</th>\n",
       "      <td>NaN</td>\n",
       "      <td>31.000000</td>\n",
       "      <td>1.000000</td>\n",
       "      <td>NaN</td>\n",
       "      <td>17.000000</td>\n",
       "      <td>1.0</td>\n",
       "    </tr>\n",
       "    <tr>\n",
       "      <th>max</th>\n",
       "      <td>NaN</td>\n",
       "      <td>123.000000</td>\n",
       "      <td>1.000000</td>\n",
       "      <td>NaN</td>\n",
       "      <td>29.000000</td>\n",
       "      <td>1.0</td>\n",
       "    </tr>\n",
       "  </tbody>\n",
       "</table>\n",
       "</div>"
      ],
      "text/plain": [
       "       country          age     new_user source  total_pages_visited  \\\n",
       "count     9180  9180.000000  9180.000000   9180          9180.000000   \n",
       "unique       4          NaN          NaN      3                  NaN   \n",
       "top         US          NaN          NaN    Seo                  NaN   \n",
       "freq      6070          NaN          NaN   4585                  NaN   \n",
       "mean       NaN    26.567647     0.298584    NaN            14.560022   \n",
       "std        NaN     7.085390     0.457662    NaN             3.959594   \n",
       "min        NaN    17.000000     0.000000    NaN             2.000000   \n",
       "25%        NaN    21.000000     0.000000    NaN            12.000000   \n",
       "50%        NaN    25.000000     0.000000    NaN            14.000000   \n",
       "75%        NaN    31.000000     1.000000    NaN            17.000000   \n",
       "max        NaN   123.000000     1.000000    NaN            29.000000   \n",
       "\n",
       "        converted  \n",
       "count      9180.0  \n",
       "unique        NaN  \n",
       "top           NaN  \n",
       "freq          NaN  \n",
       "mean          1.0  \n",
       "std           0.0  \n",
       "min           1.0  \n",
       "25%           1.0  \n",
       "50%           1.0  \n",
       "75%           1.0  \n",
       "max           1.0  "
      ]
     },
     "execution_count": 6,
     "metadata": {},
     "output_type": "execute_result"
    }
   ],
   "source": [
    "mask = data[\"converted\"] == 1\n",
    "data_c = data.loc[mask,:]\n",
    "data_c.describe(include=\"all\")"
   ]
  },
  {
   "cell_type": "markdown",
   "metadata": {
    "colab_type": "text",
    "id": "0XwjKBc63B1n"
   },
   "source": [
    "# Explore dataset"
   ]
  },
  {
   "cell_type": "code",
   "execution_count": 7,
   "metadata": {
    "colab": {},
    "colab_type": "code",
    "id": "NM0feCss5sLZ"
   },
   "outputs": [],
   "source": [
    "# The dataset is quite big : you must create a sample of the dataset before making any visualizations !\n",
    "data_sample = data.sample(10000)\n",
    "#data = data.sample(10000)"
   ]
  },
  {
   "cell_type": "code",
   "execution_count": 8,
   "metadata": {},
   "outputs": [
    {
     "data": {
      "text/plain": [
       "Index(['country', 'age', 'new_user', 'source', 'total_pages_visited',\n",
       "       'converted'],\n",
       "      dtype='object')"
      ]
     },
     "execution_count": 8,
     "metadata": {},
     "output_type": "execute_result"
    }
   ],
   "source": [
    "data_sample.columns"
   ]
  },
  {
   "cell_type": "code",
   "execution_count": 9,
   "metadata": {},
   "outputs": [
    {
     "data": {
      "text/plain": [
       "<AxesSubplot:xlabel='country', ylabel='count'>"
      ]
     },
     "execution_count": 9,
     "metadata": {},
     "output_type": "execute_result"
    },
    {
     "data": {
      "image/png": "[encoded data removed]",
      "text/plain": [
       "<Figure size 432x288 with 1 Axes>"
      ]
     },
     "metadata": {
      "needs_background": "light"
     },
     "output_type": "display_data"
    }
   ],
   "source": [
    "sns.countplot(x=data['country'])"
   ]
  },
  {
   "cell_type": "code",
   "execution_count": 10,
   "metadata": {},
   "outputs": [
    {
     "data": {
      "text/html": [
       "<iframe\n",
       "    scrolling=\"no\"\n",
       "    width=\"100%\"\n",
       "    height=\"545px\"\n",
       "    src=\"iframe_figures/figure_10.html\"\n",
       "    frameborder=\"0\"\n",
       "    allowfullscreen\n",
       "></iframe>\n"
      ]
     },
     "metadata": {},
     "output_type": "display_data"
    }
   ],
   "source": [
    "px.histogram(data, x='country')"
   ]
  },
  {
   "cell_type": "code",
   "execution_count": null,
   "metadata": {},
   "outputs": [],
   "source": []
  },
  {
   "cell_type": "code",
   "execution_count": 11,
   "metadata": {},
   "outputs": [
    {
     "data": {
      "text/plain": [
       "<AxesSubplot:xlabel='country', ylabel='count'>"
      ]
     },
     "execution_count": 11,
     "metadata": {},
     "output_type": "execute_result"
    },
    {
     "data": {
      "image/png": "[encoded data removed]",
      "text/plain": [
       "<Figure size 432x288 with 1 Axes>"
      ]
     },
     "metadata": {
      "needs_background": "light"
     },
     "output_type": "display_data"
    }
   ],
   "source": [
    "sns.countplot(x=data_c['country'])"
   ]
  },
  {
   "cell_type": "code",
   "execution_count": 12,
   "metadata": {},
   "outputs": [
    {
     "data": {
      "text/plain": [
       "<AxesSubplot:xlabel='new_user', ylabel='count'>"
      ]
     },
     "execution_count": 12,
     "metadata": {},
     "output_type": "execute_result"
    },
    {
     "data": {
      "image/png": "[encoded data removed]",
      "text/plain": [
       "<Figure size 432x288 with 1 Axes>"
      ]
     },
     "metadata": {
      "needs_background": "light"
     },
     "output_type": "display_data"
    }
   ],
   "source": [
    "sns.countplot(x=data['new_user'])"
   ]
  },
  {
   "cell_type": "code",
   "execution_count": 13,
   "metadata": {},
   "outputs": [
    {
     "data": {
      "text/plain": [
       "<AxesSubplot:xlabel='new_user', ylabel='count'>"
      ]
     },
     "execution_count": 13,
     "metadata": {},
     "output_type": "execute_result"
    },
    {
     "data": {
      "image/png": "[encoded data removed]",
      "text/plain": [
       "<Figure size 432x288 with 1 Axes>"
      ]
     },
     "metadata": {
      "needs_background": "light"
     },
     "output_type": "display_data"
    }
   ],
   "source": [
    "sns.countplot(x=data_c['new_user'])"
   ]
  },
  {
   "cell_type": "code",
   "execution_count": 14,
   "metadata": {},
   "outputs": [
    {
     "data": {
      "text/plain": [
       "<AxesSubplot:xlabel='source', ylabel='count'>"
      ]
     },
     "execution_count": 14,
     "metadata": {},
     "output_type": "execute_result"
    },
    {
     "data": {
      "image/png": "[encoded data removed]",
      "text/plain": [
       "<Figure size 432x288 with 1 Axes>"
      ]
     },
     "metadata": {
      "needs_background": "light"
     },
     "output_type": "display_data"
    }
   ],
   "source": [
    "sns.countplot(x=data['source'])"
   ]
  },
  {
   "cell_type": "code",
   "execution_count": 15,
   "metadata": {},
   "outputs": [
    {
     "data": {
      "text/plain": [
       "<AxesSubplot:xlabel='source', ylabel='count'>"
      ]
     },
     "execution_count": 15,
     "metadata": {},
     "output_type": "execute_result"
    },
    {
     "data": {
      "image/png": "[encoded data removed]",
      "text/plain": [
       "<Figure size 432x288 with 1 Axes>"
      ]
     },
     "metadata": {
      "needs_background": "light"
     },
     "output_type": "display_data"
    }
   ],
   "source": [
    "sns.countplot(x=data_c['source'])"
   ]
  },
  {
   "cell_type": "code",
   "execution_count": 16,
   "metadata": {},
   "outputs": [
    {
     "data": {
      "text/plain": [
       "<AxesSubplot:xlabel='total_pages_visited'>"
      ]
     },
     "execution_count": 16,
     "metadata": {},
     "output_type": "execute_result"
    },
    {
     "data": {
      "image/png": "[encoded data removed]",
      "text/plain": [
       "<Figure size 432x288 with 1 Axes>"
      ]
     },
     "metadata": {
      "needs_background": "light"
     },
     "output_type": "display_data"
    }
   ],
   "source": [
    "sns.boxplot(x=data[\"total_pages_visited\"])"
   ]
  },
  {
   "cell_type": "code",
   "execution_count": 17,
   "metadata": {},
   "outputs": [
    {
     "data": {
      "text/plain": [
       "<AxesSubplot:xlabel='total_pages_visited'>"
      ]
     },
     "execution_count": 17,
     "metadata": {},
     "output_type": "execute_result"
    },
    {
     "data": {
      "image/png": "[encoded data removed]",
      "text/plain": [
       "<Figure size 432x288 with 1 Axes>"
      ]
     },
     "metadata": {
      "needs_background": "light"
     },
     "output_type": "display_data"
    }
   ],
   "source": [
    "sns.boxplot(x=data_c[\"total_pages_visited\"])"
   ]
  },
  {
   "cell_type": "code",
   "execution_count": 18,
   "metadata": {},
   "outputs": [
    {
     "data": {
      "text/plain": [
       "<AxesSubplot:xlabel='age'>"
      ]
     },
     "execution_count": 18,
     "metadata": {},
     "output_type": "execute_result"
    },
    {
     "data": {
      "image/png": "[encoded data removed]",
      "text/plain": [
       "<Figure size 432x288 with 1 Axes>"
      ]
     },
     "metadata": {
      "needs_background": "light"
     },
     "output_type": "display_data"
    }
   ],
   "source": [
    "sns.boxplot(x=data[\"age\"])"
   ]
  },
  {
   "cell_type": "code",
   "execution_count": 19,
   "metadata": {},
   "outputs": [
    {
     "data": {
      "text/plain": [
       "<AxesSubplot:xlabel='age'>"
      ]
     },
     "execution_count": 19,
     "metadata": {},
     "output_type": "execute_result"
    },
    {
     "data": {
      "image/png": "[encoded data removed]",
      "text/plain": [
       "<Figure size 432x288 with 1 Axes>"
      ]
     },
     "metadata": {
      "needs_background": "light"
     },
     "output_type": "display_data"
    }
   ],
   "source": [
    "sns.boxplot(x=data_c[\"age\"])"
   ]
  },
  {
   "cell_type": "code",
   "execution_count": null,
   "metadata": {},
   "outputs": [],
   "source": []
  },
  {
   "cell_type": "code",
   "execution_count": null,
   "metadata": {},
   "outputs": [],
   "source": []
  },
  {
   "cell_type": "code",
   "execution_count": 20,
   "metadata": {},
   "outputs": [
    {
     "data": {
      "text/plain": [
       "Index(['country', 'age', 'new_user', 'source', 'total_pages_visited',\n",
       "       'converted'],\n",
       "      dtype='object')"
      ]
     },
     "execution_count": 20,
     "metadata": {},
     "output_type": "execute_result"
    }
   ],
   "source": [
    "data_sample.columns"
   ]
  },
  {
   "cell_type": "code",
   "execution_count": 21,
   "metadata": {},
   "outputs": [
    {
     "data": {
      "text/plain": [
       "<seaborn.axisgrid.FacetGrid at 0x7ffd804266a0>"
      ]
     },
     "execution_count": 21,
     "metadata": {},
     "output_type": "execute_result"
    },
    {
     "data": {
      "image/png": "[encoded data removed]",
      "text/plain": [
       "<Figure size 360x360 with 1 Axes>"
      ]
     },
     "metadata": {
      "needs_background": "light"
     },
     "output_type": "display_data"
    }
   ],
   "source": [
    "sns.lmplot(x = 'total_pages_visited', y = 'converted', data = data_sample, logistic = True)"
   ]
  },
  {
   "cell_type": "code",
   "execution_count": 22,
   "metadata": {},
   "outputs": [
    {
     "data": {
      "text/plain": [
       "<seaborn.axisgrid.FacetGrid at 0x7ffd92fed040>"
      ]
     },
     "execution_count": 22,
     "metadata": {},
     "output_type": "execute_result"
    },
    {
     "data": {
      "image/png": "[encoded data removed]",
      "text/plain": [
       "<Figure size 360x360 with 1 Axes>"
      ]
     },
     "metadata": {
      "needs_background": "light"
     },
     "output_type": "display_data"
    }
   ],
   "source": [
    "sns.lmplot(x = 'age', y = 'converted', data = data_sample, logistic = True)"
   ]
  },
  {
   "cell_type": "code",
   "execution_count": 23,
   "metadata": {},
   "outputs": [
    {
     "name": "stdout",
     "output_type": "stream",
     "text": [
      "Number of rows : 284580\n",
      "\n",
      "Display of dataset: \n"
     ]
    },
    {
     "data": {
      "text/html": [
       "<div>\n",
       "<style scoped>\n",
       "    .dataframe tbody tr th:only-of-type {\n",
       "        vertical-align: middle;\n",
       "    }\n",
       "\n",
       "    .dataframe tbody tr th {\n",
       "        vertical-align: top;\n",
       "    }\n",
       "\n",
       "    .dataframe thead th {\n",
       "        text-align: right;\n",
       "    }\n",
       "</style>\n",
       "<table border=\"1\" class=\"dataframe\">\n",
       "  <thead>\n",
       "    <tr style=\"text-align: right;\">\n",
       "      <th></th>\n",
       "      <th>country</th>\n",
       "      <th>age</th>\n",
       "      <th>new_user</th>\n",
       "      <th>source</th>\n",
       "      <th>total_pages_visited</th>\n",
       "      <th>converted</th>\n",
       "    </tr>\n",
       "  </thead>\n",
       "  <tbody>\n",
       "    <tr>\n",
       "      <th>0</th>\n",
       "      <td>China</td>\n",
       "      <td>22</td>\n",
       "      <td>1</td>\n",
       "      <td>Direct</td>\n",
       "      <td>2</td>\n",
       "      <td>0</td>\n",
       "    </tr>\n",
       "    <tr>\n",
       "      <th>1</th>\n",
       "      <td>UK</td>\n",
       "      <td>21</td>\n",
       "      <td>1</td>\n",
       "      <td>Ads</td>\n",
       "      <td>3</td>\n",
       "      <td>0</td>\n",
       "    </tr>\n",
       "    <tr>\n",
       "      <th>2</th>\n",
       "      <td>Germany</td>\n",
       "      <td>20</td>\n",
       "      <td>0</td>\n",
       "      <td>Seo</td>\n",
       "      <td>14</td>\n",
       "      <td>1</td>\n",
       "    </tr>\n",
       "    <tr>\n",
       "      <th>3</th>\n",
       "      <td>US</td>\n",
       "      <td>23</td>\n",
       "      <td>1</td>\n",
       "      <td>Seo</td>\n",
       "      <td>3</td>\n",
       "      <td>0</td>\n",
       "    </tr>\n",
       "    <tr>\n",
       "      <th>4</th>\n",
       "      <td>US</td>\n",
       "      <td>28</td>\n",
       "      <td>1</td>\n",
       "      <td>Direct</td>\n",
       "      <td>3</td>\n",
       "      <td>0</td>\n",
       "    </tr>\n",
       "  </tbody>\n",
       "</table>\n",
       "</div>"
      ],
      "text/plain": [
       "   country  age  new_user  source  total_pages_visited  converted\n",
       "0    China   22         1  Direct                    2          0\n",
       "1       UK   21         1     Ads                    3          0\n",
       "2  Germany   20         0     Seo                   14          1\n",
       "3       US   23         1     Seo                    3          0\n",
       "4       US   28         1  Direct                    3          0"
      ]
     },
     "metadata": {},
     "output_type": "display_data"
    },
    {
     "name": "stdout",
     "output_type": "stream",
     "text": [
      "\n",
      "Basics statistics: \n"
     ]
    },
    {
     "data": {
      "text/html": [
       "<div>\n",
       "<style scoped>\n",
       "    .dataframe tbody tr th:only-of-type {\n",
       "        vertical-align: middle;\n",
       "    }\n",
       "\n",
       "    .dataframe tbody tr th {\n",
       "        vertical-align: top;\n",
       "    }\n",
       "\n",
       "    .dataframe thead th {\n",
       "        text-align: right;\n",
       "    }\n",
       "</style>\n",
       "<table border=\"1\" class=\"dataframe\">\n",
       "  <thead>\n",
       "    <tr style=\"text-align: right;\">\n",
       "      <th></th>\n",
       "      <th>country</th>\n",
       "      <th>age</th>\n",
       "      <th>new_user</th>\n",
       "      <th>source</th>\n",
       "      <th>total_pages_visited</th>\n",
       "      <th>converted</th>\n",
       "    </tr>\n",
       "  </thead>\n",
       "  <tbody>\n",
       "    <tr>\n",
       "      <th>count</th>\n",
       "      <td>284580</td>\n",
       "      <td>284580.000000</td>\n",
       "      <td>284580.000000</td>\n",
       "      <td>284580</td>\n",
       "      <td>284580.000000</td>\n",
       "      <td>284580.000000</td>\n",
       "    </tr>\n",
       "    <tr>\n",
       "      <th>unique</th>\n",
       "      <td>4</td>\n",
       "      <td>NaN</td>\n",
       "      <td>NaN</td>\n",
       "      <td>3</td>\n",
       "      <td>NaN</td>\n",
       "      <td>NaN</td>\n",
       "    </tr>\n",
       "    <tr>\n",
       "      <th>top</th>\n",
       "      <td>US</td>\n",
       "      <td>NaN</td>\n",
       "      <td>NaN</td>\n",
       "      <td>Seo</td>\n",
       "      <td>NaN</td>\n",
       "      <td>NaN</td>\n",
       "    </tr>\n",
       "    <tr>\n",
       "      <th>freq</th>\n",
       "      <td>160124</td>\n",
       "      <td>NaN</td>\n",
       "      <td>NaN</td>\n",
       "      <td>139477</td>\n",
       "      <td>NaN</td>\n",
       "      <td>NaN</td>\n",
       "    </tr>\n",
       "    <tr>\n",
       "      <th>mean</th>\n",
       "      <td>NaN</td>\n",
       "      <td>30.564203</td>\n",
       "      <td>0.685452</td>\n",
       "      <td>NaN</td>\n",
       "      <td>4.873252</td>\n",
       "      <td>0.032258</td>\n",
       "    </tr>\n",
       "    <tr>\n",
       "      <th>std</th>\n",
       "      <td>NaN</td>\n",
       "      <td>8.266789</td>\n",
       "      <td>0.464336</td>\n",
       "      <td>NaN</td>\n",
       "      <td>3.341995</td>\n",
       "      <td>0.176685</td>\n",
       "    </tr>\n",
       "    <tr>\n",
       "      <th>min</th>\n",
       "      <td>NaN</td>\n",
       "      <td>17.000000</td>\n",
       "      <td>0.000000</td>\n",
       "      <td>NaN</td>\n",
       "      <td>1.000000</td>\n",
       "      <td>0.000000</td>\n",
       "    </tr>\n",
       "    <tr>\n",
       "      <th>25%</th>\n",
       "      <td>NaN</td>\n",
       "      <td>24.000000</td>\n",
       "      <td>0.000000</td>\n",
       "      <td>NaN</td>\n",
       "      <td>2.000000</td>\n",
       "      <td>0.000000</td>\n",
       "    </tr>\n",
       "    <tr>\n",
       "      <th>50%</th>\n",
       "      <td>NaN</td>\n",
       "      <td>30.000000</td>\n",
       "      <td>1.000000</td>\n",
       "      <td>NaN</td>\n",
       "      <td>4.000000</td>\n",
       "      <td>0.000000</td>\n",
       "    </tr>\n",
       "    <tr>\n",
       "      <th>75%</th>\n",
       "      <td>NaN</td>\n",
       "      <td>36.000000</td>\n",
       "      <td>1.000000</td>\n",
       "      <td>NaN</td>\n",
       "      <td>7.000000</td>\n",
       "      <td>0.000000</td>\n",
       "    </tr>\n",
       "    <tr>\n",
       "      <th>max</th>\n",
       "      <td>NaN</td>\n",
       "      <td>123.000000</td>\n",
       "      <td>1.000000</td>\n",
       "      <td>NaN</td>\n",
       "      <td>29.000000</td>\n",
       "      <td>1.000000</td>\n",
       "    </tr>\n",
       "  </tbody>\n",
       "</table>\n",
       "</div>"
      ],
      "text/plain": [
       "       country            age       new_user  source  total_pages_visited  \\\n",
       "count   284580  284580.000000  284580.000000  284580        284580.000000   \n",
       "unique       4            NaN            NaN       3                  NaN   \n",
       "top         US            NaN            NaN     Seo                  NaN   \n",
       "freq    160124            NaN            NaN  139477                  NaN   \n",
       "mean       NaN      30.564203       0.685452     NaN             4.873252   \n",
       "std        NaN       8.266789       0.464336     NaN             3.341995   \n",
       "min        NaN      17.000000       0.000000     NaN             1.000000   \n",
       "25%        NaN      24.000000       0.000000     NaN             2.000000   \n",
       "50%        NaN      30.000000       1.000000     NaN             4.000000   \n",
       "75%        NaN      36.000000       1.000000     NaN             7.000000   \n",
       "max        NaN     123.000000       1.000000     NaN            29.000000   \n",
       "\n",
       "            converted  \n",
       "count   284580.000000  \n",
       "unique            NaN  \n",
       "top               NaN  \n",
       "freq              NaN  \n",
       "mean         0.032258  \n",
       "std          0.176685  \n",
       "min          0.000000  \n",
       "25%          0.000000  \n",
       "50%          0.000000  \n",
       "75%          0.000000  \n",
       "max          1.000000  "
      ]
     },
     "metadata": {},
     "output_type": "display_data"
    },
    {
     "name": "stdout",
     "output_type": "stream",
     "text": [
      "\n",
      "Percentage of missing values: \n"
     ]
    },
    {
     "data": {
      "text/plain": [
       "country                0.0\n",
       "age                    0.0\n",
       "new_user               0.0\n",
       "source                 0.0\n",
       "total_pages_visited    0.0\n",
       "converted              0.0\n",
       "dtype: float64"
      ]
     },
     "metadata": {},
     "output_type": "display_data"
    }
   ],
   "source": [
    "# Basic stats\n",
    "print(\"Number of rows : {}\".format(data.shape[0]))\n",
    "print()\n",
    "\n",
    "print(\"Display of dataset: \")\n",
    "display(data.head())\n",
    "print()\n",
    "\n",
    "print(\"Basics statistics: \")\n",
    "data_desc = data.describe(include='all')\n",
    "display(data_desc)\n",
    "print()\n",
    "\n",
    "print(\"Percentage of missing values: \")\n",
    "display(100*data.isnull().sum()/data.shape[0])"
   ]
  },
  {
   "cell_type": "code",
   "execution_count": 24,
   "metadata": {},
   "outputs": [
    {
     "data": {
      "text/plain": [
       "Index(['country', 'age', 'new_user', 'source', 'total_pages_visited',\n",
       "       'converted'],\n",
       "      dtype='object')"
      ]
     },
     "execution_count": 24,
     "metadata": {},
     "output_type": "execute_result"
    }
   ],
   "source": [
    "data.columns"
   ]
  },
  {
   "cell_type": "code",
   "execution_count": 110,
   "metadata": {},
   "outputs": [
    {
     "data": {
      "text/plain": [
       "<AxesSubplot:>"
      ]
     },
     "execution_count": 110,
     "metadata": {},
     "output_type": "execute_result"
    },
    {
     "data": {
      "image/png": "[encoded data removed]",
      "text/plain": [
       "<Figure size 720x504 with 2 Axes>"
      ]
     },
     "metadata": {
      "needs_background": "light"
     },
     "output_type": "display_data"
    }
   ],
   "source": [
    "# heat map to check for correlation between the numeric features\n",
    "plt.figure(figsize= (10,7))\n",
    "sns.heatmap(data[['age', 'new_user', 'total_pages_visited']].corr(), annot= True)"
   ]
  },
  {
   "cell_type": "code",
   "execution_count": 25,
   "metadata": {},
   "outputs": [
    {
     "data": {
      "text/plain": [
       "<seaborn.axisgrid.FacetGrid at 0x7ffd91101bb0>"
      ]
     },
     "execution_count": 25,
     "metadata": {},
     "output_type": "execute_result"
    },
    {
     "data": {
      "image/png": "[encoded data removed]",
      "text/plain": [
       "<Figure size 360x360 with 1 Axes>"
      ]
     },
     "metadata": {
      "needs_background": "light"
     },
     "output_type": "display_data"
    }
   ],
   "source": [
    "sns.catplot(x=\"country\", y=\"converted\", data=data, kind=\"bar\")"
   ]
  },
  {
   "cell_type": "code",
   "execution_count": 26,
   "metadata": {},
   "outputs": [
    {
     "data": {
      "text/plain": [
       "<seaborn.axisgrid.FacetGrid at 0x7ffd911016d0>"
      ]
     },
     "execution_count": 26,
     "metadata": {},
     "output_type": "execute_result"
    },
    {
     "data": {
      "image/png": "[encoded data removed]",
      "text/plain": [
       "<Figure size 360x360 with 1 Axes>"
      ]
     },
     "metadata": {
      "needs_background": "light"
     },
     "output_type": "display_data"
    }
   ],
   "source": [
    "sns.catplot(x=\"source\", y=\"converted\", data=data, kind=\"bar\")"
   ]
  },
  {
   "cell_type": "code",
   "execution_count": 27,
   "metadata": {},
   "outputs": [
    {
     "data": {
      "text/plain": [
       "<seaborn.axisgrid.FacetGrid at 0x7ffd93008970>"
      ]
     },
     "execution_count": 27,
     "metadata": {},
     "output_type": "execute_result"
    },
    {
     "data": {
      "image/png": "[encoded data removed]",
      "text/plain": [
       "<Figure size 360x360 with 1 Axes>"
      ]
     },
     "metadata": {
      "needs_background": "light"
     },
     "output_type": "display_data"
    }
   ],
   "source": [
    "sns.catplot(x=\"new_user\", y=\"converted\", data=data, kind=\"bar\")"
   ]
  },
  {
   "cell_type": "code",
   "execution_count": 28,
   "metadata": {},
   "outputs": [],
   "source": [
    "mask = data[\"country\"] == \"China\""
   ]
  },
  {
   "cell_type": "code",
   "execution_count": 29,
   "metadata": {},
   "outputs": [],
   "source": [
    "data_china = data.loc[mask,:]"
   ]
  },
  {
   "cell_type": "code",
   "execution_count": 30,
   "metadata": {},
   "outputs": [
    {
     "data": {
      "text/plain": [
       "<seaborn.axisgrid.FacetGrid at 0x7ffd90a98df0>"
      ]
     },
     "execution_count": 30,
     "metadata": {},
     "output_type": "execute_result"
    },
    {
     "data": {
      "image/png": "[encoded data removed]",
      "text/plain": [
       "<Figure size 360x360 with 1 Axes>"
      ]
     },
     "metadata": {
      "needs_background": "light"
     },
     "output_type": "display_data"
    }
   ],
   "source": [
    "sns.catplot(x=\"new_user\", y=\"converted\", data= data_china, kind=\"bar\")"
   ]
  },
  {
   "cell_type": "code",
   "execution_count": 31,
   "metadata": {},
   "outputs": [
    {
     "data": {
      "text/plain": [
       "<seaborn.axisgrid.FacetGrid at 0x7ffd90a98c70>"
      ]
     },
     "execution_count": 31,
     "metadata": {},
     "output_type": "execute_result"
    },
    {
     "data": {
      "image/png": "[encoded data removed]",
      "text/plain": [
       "<Figure size 360x360 with 1 Axes>"
      ]
     },
     "metadata": {
      "needs_background": "light"
     },
     "output_type": "display_data"
    }
   ],
   "source": [
    "sns.catplot(x=\"source\", y=\"converted\", data= data_china, kind=\"bar\")"
   ]
  },
  {
   "cell_type": "code",
   "execution_count": 32,
   "metadata": {},
   "outputs": [
    {
     "data": {
      "text/plain": [
       "<AxesSubplot:xlabel='age'>"
      ]
     },
     "execution_count": 32,
     "metadata": {},
     "output_type": "execute_result"
    },
    {
     "data": {
      "image/png": "[encoded data removed]",
      "text/plain": [
       "<Figure size 432x288 with 1 Axes>"
      ]
     },
     "metadata": {
      "needs_background": "light"
     },
     "output_type": "display_data"
    }
   ],
   "source": [
    "sns.boxplot(x=data_china[\"age\"])"
   ]
  },
  {
   "cell_type": "code",
   "execution_count": 33,
   "metadata": {},
   "outputs": [
    {
     "data": {
      "text/plain": [
       "<AxesSubplot:xlabel='total_pages_visited'>"
      ]
     },
     "execution_count": 33,
     "metadata": {},
     "output_type": "execute_result"
    },
    {
     "data": {
      "image/png": "[encoded data removed]",
      "text/plain": [
       "<Figure size 432x288 with 1 Axes>"
      ]
     },
     "metadata": {
      "needs_background": "light"
     },
     "output_type": "display_data"
    }
   ],
   "source": [
    "sns.boxplot(x=data_china[\"total_pages_visited\"])"
   ]
  },
  {
   "cell_type": "markdown",
   "metadata": {
    "colab_type": "text",
    "id": "70MwsoCS3QD5"
   },
   "source": [
    "# Make your model"
   ]
  },
  {
   "cell_type": "markdown",
   "metadata": {
    "colab_type": "text",
    "id": "dPh1qPTf3wZU"
   },
   "source": [
    "## Choose variables to use in the model, and create train and test sets\n",
    "**From the EDA, we know that the most useful feature is total_pages_visited. Let's create a baseline model by using at first only this feature : in the next cells, we'll make preprocessings and train a simple (univariate) logistic regression.**"
   ]
  },
  {
   "cell_type": "code",
   "execution_count": 34,
   "metadata": {},
   "outputs": [
    {
     "data": {
      "text/html": [
       "<div>\n",
       "<style scoped>\n",
       "    .dataframe tbody tr th:only-of-type {\n",
       "        vertical-align: middle;\n",
       "    }\n",
       "\n",
       "    .dataframe tbody tr th {\n",
       "        vertical-align: top;\n",
       "    }\n",
       "\n",
       "    .dataframe thead th {\n",
       "        text-align: right;\n",
       "    }\n",
       "</style>\n",
       "<table border=\"1\" class=\"dataframe\">\n",
       "  <thead>\n",
       "    <tr style=\"text-align: right;\">\n",
       "      <th></th>\n",
       "      <th>country</th>\n",
       "      <th>age</th>\n",
       "      <th>new_user</th>\n",
       "      <th>source</th>\n",
       "      <th>total_pages_visited</th>\n",
       "      <th>converted</th>\n",
       "    </tr>\n",
       "  </thead>\n",
       "  <tbody>\n",
       "    <tr>\n",
       "      <th>0</th>\n",
       "      <td>China</td>\n",
       "      <td>22</td>\n",
       "      <td>1</td>\n",
       "      <td>Direct</td>\n",
       "      <td>2</td>\n",
       "      <td>0</td>\n",
       "    </tr>\n",
       "    <tr>\n",
       "      <th>1</th>\n",
       "      <td>UK</td>\n",
       "      <td>21</td>\n",
       "      <td>1</td>\n",
       "      <td>Ads</td>\n",
       "      <td>3</td>\n",
       "      <td>0</td>\n",
       "    </tr>\n",
       "    <tr>\n",
       "      <th>2</th>\n",
       "      <td>Germany</td>\n",
       "      <td>20</td>\n",
       "      <td>0</td>\n",
       "      <td>Seo</td>\n",
       "      <td>14</td>\n",
       "      <td>1</td>\n",
       "    </tr>\n",
       "    <tr>\n",
       "      <th>3</th>\n",
       "      <td>US</td>\n",
       "      <td>23</td>\n",
       "      <td>1</td>\n",
       "      <td>Seo</td>\n",
       "      <td>3</td>\n",
       "      <td>0</td>\n",
       "    </tr>\n",
       "    <tr>\n",
       "      <th>4</th>\n",
       "      <td>US</td>\n",
       "      <td>28</td>\n",
       "      <td>1</td>\n",
       "      <td>Direct</td>\n",
       "      <td>3</td>\n",
       "      <td>0</td>\n",
       "    </tr>\n",
       "  </tbody>\n",
       "</table>\n",
       "</div>"
      ],
      "text/plain": [
       "   country  age  new_user  source  total_pages_visited  converted\n",
       "0    China   22         1  Direct                    2          0\n",
       "1       UK   21         1     Ads                    3          0\n",
       "2  Germany   20         0     Seo                   14          1\n",
       "3       US   23         1     Seo                    3          0\n",
       "4       US   28         1  Direct                    3          0"
      ]
     },
     "execution_count": 34,
     "metadata": {},
     "output_type": "execute_result"
    }
   ],
   "source": [
    "data.head()"
   ]
  },
  {
   "cell_type": "code",
   "execution_count": 35,
   "metadata": {
    "colab": {},
    "colab_type": "code",
    "id": "sjEHMGoY3kMB"
   },
   "outputs": [],
   "source": [
    "features_list = ['country', 'age', 'new_user', 'source',\"total_pages_visited\"]\n",
    "numeric_features = [1,4]\n",
    "categorical_features = [0,2]\n",
    "target_variable = 'converted'"
   ]
  },
  {
   "cell_type": "code",
   "execution_count": 36,
   "metadata": {
    "colab": {
     "base_uri": "https://localhost:8080/",
     "height": 50
    },
    "colab_type": "code",
    "id": "SV5E9KMs4xcq",
    "outputId": "9d1ed76e-e82e-45e7-f3e5-6d47962caa5a"
   },
   "outputs": [
    {
     "name": "stdout",
     "output_type": "stream",
     "text": [
      "Explanatory variables :  Index(['country', 'age', 'new_user', 'source', 'total_pages_visited'], dtype='object')\n",
      "\n"
     ]
    }
   ],
   "source": [
    "X = data.loc[:, features_list]\n",
    "Y = data.loc[:, target_variable]\n",
    "\n",
    "print('Explanatory variables : ', X.columns)\n",
    "print()"
   ]
  },
  {
   "cell_type": "code",
   "execution_count": 37,
   "metadata": {
    "colab": {
     "base_uri": "https://localhost:8080/",
     "height": 67
    },
    "colab_type": "code",
    "id": "W8K5DQEvvQgl",
    "outputId": "d280ebc9-4d4b-4723-b9fe-32513f898abc"
   },
   "outputs": [
    {
     "name": "stdout",
     "output_type": "stream",
     "text": [
      "Dividing into train and test sets...\n",
      "...Done.\n",
      "\n"
     ]
    }
   ],
   "source": [
    "# Divide dataset Train set & Test set \n",
    "print(\"Dividing into train and test sets...\")\n",
    "X_train, X_test, Y_train, Y_test = train_test_split(X, Y, test_size=0.3, random_state=0, stratify=Y)\n",
    "print(\"...Done.\")\n",
    "print()"
   ]
  },
  {
   "cell_type": "code",
   "execution_count": 38,
   "metadata": {
    "colab": {
     "base_uri": "https://localhost:8080/",
     "height": 218
    },
    "colab_type": "code",
    "id": "vVu0eXQD4xVc",
    "outputId": "83a5f553-f50d-44dc-d12a-6cb21e74e4d7"
   },
   "outputs": [
    {
     "name": "stdout",
     "output_type": "stream",
     "text": [
      "Convert pandas DataFrames to numpy arrays...\n",
      "...Done\n",
      "[['US' 46 0 'Direct' 4]\n",
      " ['US' 30 1 'Seo' 7]\n",
      " ['China' 34 1 'Ads' 1]\n",
      " ['US' 25 1 'Ads' 6]\n",
      " ['US' 36 1 'Ads' 1]]\n",
      "[['China' 25 1 'Seo' 7]\n",
      " ['US' 19 1 'Ads' 12]]\n",
      "\n",
      "[0 0 0 0 0]\n",
      "[0 1]\n"
     ]
    }
   ],
   "source": [
    "# Convert pandas DataFrames to numpy arrays before using scikit-learn\n",
    "print(\"Convert pandas DataFrames to numpy arrays...\")\n",
    "X_train = X_train.values\n",
    "X_test = X_test.values\n",
    "Y_train = Y_train.values\n",
    "Y_test = Y_test.values\n",
    "print(\"...Done\")\n",
    "\n",
    "print(X_train[0:5,:])\n",
    "print(X_test[0:2,:])\n",
    "print()\n",
    "print(Y_train[0:5])\n",
    "print(Y_test[0:2])"
   ]
  },
  {
   "cell_type": "code",
   "execution_count": 39,
   "metadata": {},
   "outputs": [
    {
     "data": {
      "text/plain": [
       "array([0, 1])"
      ]
     },
     "execution_count": 39,
     "metadata": {},
     "output_type": "execute_result"
    }
   ],
   "source": [
    "np.unique(Y_train)"
   ]
  },
  {
   "cell_type": "code",
   "execution_count": 40,
   "metadata": {},
   "outputs": [
    {
     "name": "stdout",
     "output_type": "stream",
     "text": [
      "[[     0 192780]\n",
      " [     1   6426]]\n"
     ]
    }
   ],
   "source": [
    "(unique, counts) = np.unique(Y_train, return_counts=True)\n",
    "frequencies = np.asarray((unique, counts)).T\n",
    "print(frequencies)"
   ]
  },
  {
   "cell_type": "markdown",
   "metadata": {
    "colab_type": "text",
    "id": "7b_aU7ij7K3Q"
   },
   "source": [
    "## Training pipeline"
   ]
  },
  {
   "cell_type": "code",
   "execution_count": 41,
   "metadata": {},
   "outputs": [
    {
     "name": "stdout",
     "output_type": "stream",
     "text": [
      "Performing preprocessings on train set...\n",
      "[['US' 46 0 'Direct' 4]\n",
      " ['US' 30 1 'Seo' 7]\n",
      " ['China' 34 1 'Ads' 1]\n",
      " ['US' 25 1 'Ads' 6]\n",
      " ['US' 36 1 'Ads' 1]]\n",
      "...Done.\n",
      "[[ 1.86335862 -0.26235872  0.          0.          1.          0.        ]\n",
      " [-0.07028352  0.63563837  0.          0.          1.          1.        ]\n",
      " [ 0.41312702 -1.1603558   0.          0.          0.          1.        ]\n",
      " [-0.67454668  0.33630601  0.          0.          1.          1.        ]\n",
      " [ 0.65483228 -1.1603558   0.          0.          1.          1.        ]]\n",
      "\n",
      "Performing preprocessings on test set...\n",
      "[['China' 25 1 'Seo' 7]\n",
      " ['US' 19 1 'Ads' 12]\n",
      " ['US' 34 0 'Ads' 5]\n",
      " ['US' 38 0 'Seo' 7]\n",
      " ['US' 23 1 'Seo' 9]]\n",
      "...Done.\n",
      "[[-0.67454668  0.63563837  0.          0.          0.          1.        ]\n",
      " [-1.39966248  2.13230018  0.          0.          1.          1.        ]\n",
      " [ 0.41312702  0.03697365  0.          0.          1.          0.        ]\n",
      " [ 0.89653755  0.63563837  0.          0.          1.          0.        ]\n",
      " [-0.91625195  1.23430309  0.          0.          1.          1.        ]]\n",
      "\n"
     ]
    }
   ],
   "source": [
    "# Create pipeline for numeric features\n",
    "numeric_transformer = Pipeline(steps=[\n",
    "    ('scaler', StandardScaler())\n",
    "])\n",
    "\n",
    "# Create pipeline for categorical features\n",
    "categorical_transformer = Pipeline(\n",
    "    steps=[\n",
    "    ('encoder', OneHotEncoder(drop='first')) # first column will be dropped to avoid creating correlations between features\n",
    "    ])\n",
    "\n",
    "# Use ColumnTransformer to make a preprocessor object that describes all the treatments to be done\n",
    "preprocessor = ColumnTransformer(\n",
    "    transformers=[\n",
    "        ('num', numeric_transformer, numeric_features),\n",
    "        ('cat', categorical_transformer, categorical_features)\n",
    "    ])\n",
    "\n",
    "\n",
    "# Preprocessings on train set\n",
    "print(\"Performing preprocessings on train set...\")\n",
    "print(X_train[0:5,:])\n",
    "X_train = preprocessor.fit_transform(X_train)\n",
    "print('...Done.')\n",
    "print(X_train[0:5,:])\n",
    "print()\n",
    "\n",
    "# Preprocessings on test set\n",
    "print(\"Performing preprocessings on test set...\")\n",
    "print(X_test[0:5,:])\n",
    "X_test = preprocessor.transform(X_test) # Don't fit again !! The test set is used for validating decisions\n",
    "print('...Done.')\n",
    "print(X_test[0:5,:])\n",
    "print()\n",
    "\n",
    "\n"
   ]
  },
  {
   "cell_type": "code",
   "execution_count": 42,
   "metadata": {},
   "outputs": [],
   "source": [
    "# replace missing values (here no missing values)\n",
    "imputer = KNNImputer()\n",
    "\n",
    "X_train = imputer.fit_transform(X_train)\n",
    "X_test = imputer.transform(X_test)"
   ]
  },
  {
   "cell_type": "code",
   "execution_count": 43,
   "metadata": {
    "colab": {
     "base_uri": "https://localhost:8080/",
     "height": 104
    },
    "colab_type": "code",
    "id": "1qhidLbq7o-5",
    "outputId": "6bfb746c-1ff4-41c9-b0d6-a98fd09a444d"
   },
   "outputs": [
    {
     "name": "stdout",
     "output_type": "stream",
     "text": [
      "Train LogisticRegression model...\n",
      "CPU times: user 689 ms, sys: 1.58 s, total: 2.27 s\n",
      "Wall time: 564 ms\n",
      "...Done.\n",
      "Train DecisionTree model...\n",
      "CPU times: user 197 ms, sys: 503 ms, total: 701 ms\n",
      "Wall time: 137 ms\n",
      "...Done.\n",
      "Train RandomForestClassifier model...\n",
      "CPU times: user 4.96 s, sys: 474 ms, total: 5.43 s\n",
      "Wall time: 4.94 s\n",
      "...Done.\n",
      "Train SVM model...\n",
      "CPU times: user 4min 3s, sys: 843 ms, total: 4min 3s\n",
      "Wall time: 4min 4s\n",
      "...Done.\n"
     ]
    }
   ],
   "source": [
    "# Train model\n",
    "print(\"Train LogisticRegression model...\")\n",
    "classifier = LogisticRegression()  \n",
    "%time classifier.fit(X_train, Y_train)\n",
    "print(\"...Done.\")\n",
    "\n",
    "print(\"Train DecisionTree model...\")\n",
    "dtc = DecisionTreeClassifier() \n",
    "%time dtc.fit(X_train, Y_train)\n",
    "print(\"...Done.\")\n",
    "\n",
    "print(\"Train RandomForestClassifier model...\")\n",
    "rfc = RandomForestClassifier()  \n",
    "%time rfc.fit(X_train, Y_train)\n",
    "print(\"...Done.\")\n",
    "\n",
    "print(\"Train SVM model...\")\n",
    "svm = SVC()\n",
    "%time svm.fit(X_train, Y_train)\n",
    "print(\"...Done.\")\n",
    "\n"
   ]
  },
  {
   "cell_type": "markdown",
   "metadata": {},
   "source": [
    "## Train predictions for the 3 models"
   ]
  },
  {
   "cell_type": "code",
   "execution_count": 44,
   "metadata": {
    "colab": {
     "base_uri": "https://localhost:8080/",
     "height": 84
    },
    "colab_type": "code",
    "id": "Au2TK_vw7rD-",
    "outputId": "702789a8-4631-4c29-f297-e4b2901f3195"
   },
   "outputs": [
    {
     "name": "stdout",
     "output_type": "stream",
     "text": [
      "Predictions on training set with LogisticRegression model...\n",
      "CPU times: user 2.42 ms, sys: 2.14 ms, total: 4.57 ms\n",
      "Wall time: 1.34 ms\n",
      "...Done.\n",
      "[0 0 0 ... 0 0 0]\n",
      "\n",
      "Predictions on training set with DecisionTree model...\n",
      "CPU times: user 22.6 ms, sys: 52.5 ms, total: 75.1 ms\n",
      "Wall time: 15.4 ms\n",
      "...Done.\n",
      "[0 0 0 ... 0 0 0]\n",
      "\n",
      "Predictions on training set with RandomForestClassifier model...\n",
      "CPU times: user 1.66 s, sys: 915 ms, total: 2.57 s\n",
      "Wall time: 1.54 s\n",
      "...Done.\n",
      "[0 0 0 ... 0 0 0]\n",
      "\n",
      "Predictions on training set with SVM model...\n",
      "CPU times: user 2min 17s, sys: 299 ms, total: 2min 17s\n",
      "Wall time: 2min 17s\n",
      "...Done.\n",
      "[0 0 0 ... 0 0 0]\n",
      "\n"
     ]
    }
   ],
   "source": [
    "# Predictions on training set with LogisticRegression model\n",
    "print(\"Predictions on training set with LogisticRegression model...\")\n",
    "%time Y_train_pred_classifier = classifier.predict(X_train)\n",
    "print(\"...Done.\")\n",
    "print(Y_train_pred_classifier)\n",
    "print()\n",
    "\n",
    "# Predictions on training set with DecisionTree model\n",
    "print(\"Predictions on training set with DecisionTree model...\")\n",
    "%time Y_train_pred_dtc = dtc.predict(X_train)\n",
    "print(\"...Done.\")\n",
    "print(Y_train_pred_dtc)\n",
    "print()\n",
    "\n",
    "# Predictions on training set with RandomForestClassifier model\n",
    "print(\"Predictions on training set with RandomForestClassifier model...\")\n",
    "%time Y_train_pred_rfc = rfc.predict(X_train)\n",
    "print(\"...Done.\")\n",
    "print(Y_train_pred_rfc)\n",
    "print()\n",
    "\n",
    "# Predictions on training set with SVM model\n",
    "print(\"Predictions on training set with SVM model...\")\n",
    "%time Y_train_pred_svm = svm.predict(X_train)\n",
    "print(\"...Done.\")\n",
    "print(Y_train_pred_svm)\n",
    "print()"
   ]
  },
  {
   "cell_type": "markdown",
   "metadata": {
    "colab_type": "text",
    "id": "7TY_v9uH_CE7"
   },
   "source": [
    "## Test predictions for the 3 models"
   ]
  },
  {
   "cell_type": "code",
   "execution_count": 45,
   "metadata": {
    "colab": {
     "base_uri": "https://localhost:8080/",
     "height": 84
    },
    "colab_type": "code",
    "id": "QS1XrzzE_jQI",
    "outputId": "866a96d2-4180-4bd1-ce54-ba052e75d485"
   },
   "outputs": [
    {
     "name": "stdout",
     "output_type": "stream",
     "text": [
      "Predictions on testing set with LogisticRegression model...\n",
      "CPU times: user 1.23 ms, sys: 1.52 ms, total: 2.75 ms\n",
      "Wall time: 925 µs\n",
      "...Done.\n",
      "\n",
      "Predictions on testing set with DecisionTree model...\n",
      "CPU times: user 8.48 ms, sys: 14.2 ms, total: 22.7 ms\n",
      "Wall time: 6.42 ms\n",
      "...Done.\n",
      "[0 0 0 ... 0 0 0]\n",
      "\n",
      "Predictions on testing set with RandomForestClassifier model...\n",
      "CPU times: user 799 ms, sys: 978 ms, total: 1.78 s\n",
      "Wall time: 658 ms\n",
      "...Done.\n",
      "\n",
      "Predictions on testing set with SVM model...\n",
      "CPU times: user 58.3 s, sys: 67.8 ms, total: 58.4 s\n",
      "Wall time: 58.4 s\n",
      "...Done.\n",
      "\n"
     ]
    }
   ],
   "source": [
    "# Predictions on testing set with LogisticRegression model\n",
    "print(\"Predictions on testing set with LogisticRegression model...\")\n",
    "%time Y_test_pred_classifier = classifier.predict(X_test)\n",
    "print(\"...Done.\")\n",
    "print()\n",
    "\n",
    "# Predictions on testing set with DecisionTree model\n",
    "print(\"Predictions on testing set with DecisionTree model...\")\n",
    "%time Y_test_pred_dtc = dtc.predict(X_test)\n",
    "print(\"...Done.\")\n",
    "print(Y_test_pred_dtc)\n",
    "print()\n",
    "\n",
    "# Predictions on testing set with RandomForestClassifier model\n",
    "print(\"Predictions on testing set with RandomForestClassifier model...\")\n",
    "%time Y_test_pred_rfc = rfc.predict(X_test)\n",
    "print(\"...Done.\")\n",
    "print()\n",
    "\n",
    "# Predictions on testing set with SVM model\n",
    "print(\"Predictions on testing set with SVM model...\")\n",
    "%time Y_test_pred_svm = svm.predict(X_test)\n",
    "print(\"...Done.\")\n",
    "print()"
   ]
  },
  {
   "cell_type": "markdown",
   "metadata": {
    "colab_type": "text",
    "id": "zxJCTlz0_2it"
   },
   "source": [
    "## Performance assessment"
   ]
  },
  {
   "cell_type": "code",
   "execution_count": 46,
   "metadata": {
    "colab": {
     "base_uri": "https://localhost:8080/",
     "height": 50
    },
    "colab_type": "code",
    "id": "6x7p1nyr_3UV",
    "outputId": "8e5b91ba-ca06-4486-d808-37a6aaaa8cf7"
   },
   "outputs": [
    {
     "name": "stdout",
     "output_type": "stream",
     "text": [
      "f1-score on train set for LogisticRegression :  0.7646602944975459\n",
      "f1-score on test set for LogisticRegression:  0.7590216519647153\n",
      "f1-score on train set for DecisionTreeClassifier :  0.7843103448275862\n",
      "f1-score on test set for DEcisionTreeClassifier:  0.7361616161616161\n",
      "f1-score on train set for RandomForestClassifier :  0.7867734787796148\n",
      "f1-score on test set for RandomForestClassifier:  0.741389607804101\n",
      "f1-score on train set for SVM :  0.7557758696999203\n",
      "f1-score on test set for SVM:  0.7484082973916615\n"
     ]
    }
   ],
   "source": [
    "# WARNING : Use the same score as the one that will be used by Kaggle !\n",
    "# Here, the f1-score will be used to assess the performances on the leaderboard\n",
    "print(\"f1-score on train set for LogisticRegression : \", f1_score(Y_train, Y_train_pred_classifier))\n",
    "print(\"f1-score on test set for LogisticRegression: \", f1_score(Y_test, Y_test_pred_classifier))\n",
    "print(\"f1-score on train set for DecisionTreeClassifier : \", f1_score(Y_train, Y_train_pred_dtc))\n",
    "print(\"f1-score on test set for DEcisionTreeClassifier: \", f1_score(Y_test, Y_test_pred_dtc))\n",
    "print(\"f1-score on train set for RandomForestClassifier : \", f1_score(Y_train, Y_train_pred_rfc))\n",
    "print(\"f1-score on test set for RandomForestClassifier: \", f1_score(Y_test, Y_test_pred_rfc))\n",
    "print(\"f1-score on train set for SVM : \", f1_score(Y_train, Y_train_pred_svm))\n",
    "print(\"f1-score on test set for SVM: \", f1_score(Y_test, Y_test_pred_svm))"
   ]
  },
  {
   "cell_type": "code",
   "execution_count": 47,
   "metadata": {
    "colab": {
     "base_uri": "https://localhost:8080/",
     "height": 151
    },
    "colab_type": "code",
    "id": "KhDTCeBy__JK",
    "outputId": "72c82d66-d765-437e-e9ef-4ccc80e7183f"
   },
   "outputs": [
    {
     "name": "stdout",
     "output_type": "stream",
     "text": [
      "Confusion matrix on train set for LogisticRegression: \n",
      "[[192033    747]\n",
      " [  1986   4440]]\n",
      "\n",
      "Confusion matrix on test set for LogisticRegression: \n",
      "[[82279   341]\n",
      " [  861  1893]]\n",
      "\n",
      "Confusion matrix on train set for DecisionTreeClassifier: \n",
      "[[192155    625]\n",
      " [  1877   4549]]\n",
      "\n",
      "Confusion matrix on test set for DecisionTreeClassifier: \n",
      "[[82246   374]\n",
      " [  932  1822]]\n",
      "\n",
      "Confusion matrix on train set for RandomForestClassifier: \n",
      "[[192088    692]\n",
      " [  1810   4616]]\n",
      "\n",
      "Confusion matrix on test set for RandomForestClassifier: \n",
      "[[82213   407]\n",
      " [  892  1862]]\n",
      "\n",
      "Confusion matrix on train set for SVM: \n",
      "[[192178    602]\n",
      " [  2157   4269]]\n",
      "\n",
      "Confusion matrix on test set for SVM: \n",
      "[[82327   293]\n",
      " [  932  1822]]\n",
      "\n"
     ]
    }
   ],
   "source": [
    "# You can also check more performance metrics to better understand what your model is doing\n",
    "print(\"Confusion matrix on train set for LogisticRegression: \")\n",
    "print(confusion_matrix(Y_train, Y_train_pred_classifier))\n",
    "print()\n",
    "print(\"Confusion matrix on test set for LogisticRegression: \")\n",
    "print(confusion_matrix(Y_test, Y_test_pred_classifier))\n",
    "print()\n",
    "print(\"Confusion matrix on train set for DecisionTreeClassifier: \")\n",
    "print(confusion_matrix(Y_train, Y_train_pred_dtc))\n",
    "print()\n",
    "print(\"Confusion matrix on test set for DecisionTreeClassifier: \")\n",
    "print(confusion_matrix(Y_test, Y_test_pred_dtc))\n",
    "print()\n",
    "print(\"Confusion matrix on train set for RandomForestClassifier: \")\n",
    "print(confusion_matrix(Y_train, Y_train_pred_rfc))\n",
    "print()\n",
    "print(\"Confusion matrix on test set for RandomForestClassifier: \")\n",
    "print(confusion_matrix(Y_test, Y_test_pred_rfc))\n",
    "print()\n",
    "print(\"Confusion matrix on train set for SVM: \")\n",
    "print(confusion_matrix(Y_train, Y_train_pred_svm))\n",
    "print()\n",
    "print(\"Confusion matrix on test set for SVM: \")\n",
    "print(confusion_matrix(Y_test, Y_test_pred_svm))\n",
    "print()"
   ]
  },
  {
   "cell_type": "code",
   "execution_count": 48,
   "metadata": {},
   "outputs": [
    {
     "data": {
      "image/png": "[encoded data removed]",
      "text/plain": [
       "<Figure size 1440x1440 with 16 Axes>"
      ]
     },
     "metadata": {
      "needs_background": "light"
     },
     "output_type": "display_data"
    }
   ],
   "source": [
    "fig, axs = plt.subplots(4, 2, figsize=(20, 20))\n",
    "\n",
    "\n",
    "cm = confusion_matrix(Y_train, Y_train_pred_classifier, normalize=\"true\")\n",
    "sns.heatmap(cm, annot=True, fmt=\".2f\", ax=axs[0, 0])\n",
    "axs[0, 0].set_title(\"Classifier on train\")\n",
    "\n",
    "cm2 = confusion_matrix(Y_test, Y_test_pred_classifier, normalize=\"true\")\n",
    "sns.heatmap(cm2, annot=True, fmt=\".2f\", ax=axs[0, 1])\n",
    "axs[0, 1].set_title(\"Classifier on test\")\n",
    "\n",
    "cm3 = confusion_matrix(Y_train, Y_train_pred_dtc, normalize=\"true\")\n",
    "sns.heatmap(cm3, annot=True, fmt=\".2f\", ax=axs[1, 0])\n",
    "axs[1, 0].set_title(\"dtc on train\")\n",
    "\n",
    "cm4 = confusion_matrix(Y_test, Y_test_pred_dtc, normalize=\"true\")\n",
    "sns.heatmap(cm4, annot=True, fmt=\".2f\", ax=axs[1, 1])\n",
    "axs[1, 1].set_title(\"dtc on test\")\n",
    "\n",
    "cm5 = confusion_matrix(Y_train, Y_train_pred_rfc, normalize=\"true\")\n",
    "sns.heatmap(cm5, annot=True, fmt=\".2f\", ax=axs[2, 0])\n",
    "axs[2, 0].set_title(\"rfc on train\")\n",
    "\n",
    "cm6 = confusion_matrix(Y_test, Y_test_pred_rfc, normalize=\"true\")\n",
    "sns.heatmap(cm6, annot=True, fmt=\".2f\", ax=axs[2, 1])\n",
    "axs[2, 1].set_title(\"rfc on test\")\n",
    "\n",
    "cm7 = confusion_matrix(Y_train, Y_train_pred_svm, normalize=\"true\")\n",
    "sns.heatmap(cm7, annot=True, fmt=\".2f\", ax=axs[3, 0])\n",
    "axs[3, 0].set_title(\"svm on train\")\n",
    "\n",
    "cm8 = confusion_matrix(Y_test, Y_test_pred_svm, normalize=\"true\")\n",
    "sns.heatmap(cm8, annot=True, fmt=\".2f\", ax=axs[3, 1])\n",
    "axs[3, 1].set_title(\"svm on test\")\n",
    "\n",
    "plt.show()"
   ]
  },
  {
   "cell_type": "markdown",
   "metadata": {},
   "source": [
    "## Instantiation of the models with optimisation of parameters: Grid Search"
   ]
  },
  {
   "cell_type": "code",
   "execution_count": 106,
   "metadata": {},
   "outputs": [
    {
     "name": "stdout",
     "output_type": "stream",
     "text": [
      "HalvingGridSearchCV(cv=10, estimator=LogisticRegression(), n_jobs=-1,\n",
      "                    param_grid={'C': array([1.e-03, 1.e-02, 1.e-01, 1.e+00, 1.e+01, 1.e+02, 1.e+03])},\n",
      "                    refit=<function _refit_callable at 0x7ffd9061e820>,\n",
      "                    scoring='f1', verbose=2)\n",
      "HalvingGridSearchCV(cv=10, estimator=DecisionTreeClassifier(), n_jobs=-1,\n",
      "                    param_grid={'class_weight': ['balanced', None],\n",
      "                                'criterion': ['gini', 'entropy'],\n",
      "                                'max_depth': array([ 3,  5,  7,  9, 11, 13, 15, 17, 19]),\n",
      "                                'min_samples_leaf': array([1, 3, 5, 7, 9]),\n",
      "                                'min_samples_split': array([2, 4, 6, 8])},\n",
      "                    refit=<function _refit_callable at 0x7ffd9061e820>,\n",
      "                    scoring='f1', verbose=2)\n",
      "HalvingGridSearchCV(cv=10, estimator=RandomForestClassifier(), n_jobs=-1,\n",
      "                    param_grid={'class_weight': ['balanced',\n",
      "                                                 'balanced_subsample', None],\n",
      "                                'criterion': ['gini', 'entropy'],\n",
      "                                'max_depth': array([ 3,  7, 11, 15, 19]),\n",
      "                                'min_samples_leaf': array([1, 3, 5, 7, 9]),\n",
      "                                'min_samples_split': array([2, 4, 6, 8]),\n",
      "                                'n_estimators': array([ 20,  60, 100, 140])},\n",
      "                    refit=<function _refit_callable at 0x7ffd9061e820>,\n",
      "                    scoring='f1', verbose=2)\n"
     ]
    },
    {
     "ename": "NameError",
     "evalue": "name 'svc' is not defined",
     "output_type": "error",
     "traceback": [
      "\u001b[0;31m---------------------------------------------------------------------------\u001b[0m",
      "\u001b[0;31mNameError\u001b[0m                                 Traceback (most recent call last)",
      "\u001b[0;32m<ipython-input-106-b5af495db5dd>\u001b[0m in \u001b[0;36m<module>\u001b[0;34m\u001b[0m\n\u001b[1;32m     42\u001b[0m                   \"gamma\": [10.0**i for i in np.arange(-1,3,1)]}\n\u001b[1;32m     43\u001b[0m \u001b[0;34m\u001b[0m\u001b[0m\n\u001b[0;32m---> 44\u001b[0;31m grid_svm = GridSearchCV(svc, param_grid=param_grid_svm, cv=10,\n\u001b[0m\u001b[1;32m     45\u001b[0m                                verbose=2, n_jobs=-1, return_train_score=True, scoring='f1')\n\u001b[1;32m     46\u001b[0m \u001b[0mprint\u001b[0m\u001b[0;34m(\u001b[0m\u001b[0mgrid_svm\u001b[0m\u001b[0;34m)\u001b[0m\u001b[0;34m\u001b[0m\u001b[0;34m\u001b[0m\u001b[0m\n",
      "\u001b[0;31mNameError\u001b[0m: name 'svc' is not defined"
     ]
    }
   ],
   "source": [
    "# Instantiation of the models\n",
    "classifier = LogisticRegression()\n",
    "dtc = DecisionTreeClassifier()\n",
    "rfc = RandomForestClassifier()\n",
    "\n",
    "\n",
    "param_grid_logClass = {\"C\":np.logspace(-3,3,7)}\n",
    "\n",
    "grid_logClass = HalvingGridSearchCV(classifier, param_grid=param_grid_logClass, cv=10, \n",
    "                             verbose=2, n_jobs=-1, return_train_score=True, scoring='f1')\n",
    "print(grid_logClass)\n",
    "\n",
    "\n",
    "param_grid_dtc = {\"max_depth\":np.arange(3,20,2),\n",
    "                 \"criterion\" : [\"gini\", \"entropy\"],\n",
    "                 \"min_samples_split\": np.arange(2,9,2),\n",
    "                 \"min_samples_leaf\":np.arange(1,10,2),\n",
    "                  \"class_weight\":[\"balanced\",None]\n",
    "                }\n",
    "\n",
    "grid_dtc = HalvingGridSearchCV(dtc, param_grid=param_grid_dtc, \n",
    "                        cv=10, verbose=2, n_jobs=-1, \n",
    "                        return_train_score=True, scoring='f1')\n",
    "print(grid_dtc)\n",
    "\n",
    "\n",
    "param_grid_rfc = {\"n_estimators\": np.arange(20,141,40),\n",
    "                 \"max_depth\": np.arange(3,20,4),\n",
    "                 \"criterion\" : [\"gini\", \"entropy\"],\n",
    "                 'min_samples_split': np.arange(2,9,2),\n",
    "                 \"min_samples_leaf\": np.arange(1,10,2),\n",
    "                  \"class_weight\": [\"balanced\", \"balanced_subsample\",None]\n",
    "                }\n",
    "\n",
    "grid_rfc = HalvingGridSearchCV(rfc, param_grid=param_grid_rfc, \n",
    "                cv=10, verbose=2, n_jobs=-1, \n",
    "                return_train_score=True, scoring='f1')\n",
    "print(grid_rfc)\n",
    "\n",
    "param_grid_svm = {\"kernel\":[\"poly\"],\n",
    "                  \"C\":[10.0**i for i in np.arange(-5,-1,1)],\n",
    "                  \"gamma\": [10.0**i for i in np.arange(-1,3,1)]}\n",
    "\n",
    "grid_svm = GridSearchCV(svc, param_grid=param_grid_svm, cv=10,\n",
    "                               verbose=2, n_jobs=-1, return_train_score=True, scoring='f1')\n",
    "print(grid_svm)"
   ]
  },
  {
   "cell_type": "code",
   "execution_count": 50,
   "metadata": {},
   "outputs": [
    {
     "name": "stdout",
     "output_type": "stream",
     "text": [
      "n_iterations: 2\n",
      "n_required_iterations: 2\n",
      "n_possible_iterations: 2\n",
      "min_resources_: 66402\n",
      "max_resources_: 199206\n",
      "aggressive_elimination: False\n",
      "factor: 3\n",
      "----------\n",
      "iter: 0\n",
      "n_candidates: 7\n",
      "n_resources: 66402\n",
      "Fitting 10 folds for each of 7 candidates, totalling 70 fits\n",
      "----------\n",
      "iter: 1\n",
      "n_candidates: 3\n",
      "n_resources: 199206\n",
      "Fitting 10 folds for each of 3 candidates, totalling 30 fits\n",
      "CPU times: user 585 ms, sys: 803 ms, total: 1.39 s\n",
      "Wall time: 4.38 s\n",
      "n_iterations: 5\n",
      "n_required_iterations: 6\n",
      "n_possible_iterations: 5\n",
      "min_resources_: 819\n",
      "max_resources_: 199206\n",
      "aggressive_elimination: False\n",
      "factor: 3\n",
      "----------\n",
      "iter: 0\n",
      "n_candidates: 720\n",
      "n_resources: 819\n",
      "Fitting 10 folds for each of 720 candidates, totalling 7200 fits\n"
     ]
    },
    {
     "name": "stderr",
     "output_type": "stream",
     "text": [
      "/Users/jd/opt/anaconda3/lib/python3.8/site-packages/joblib/externals/loky/process_executor.py:688: UserWarning:\n",
      "\n",
      "A worker stopped while some jobs were given to the executor. This can be caused by a too short worker timeout or by a memory leak.\n",
      "\n"
     ]
    },
    {
     "name": "stdout",
     "output_type": "stream",
     "text": [
      "----------\n",
      "iter: 1\n",
      "n_candidates: 240\n",
      "n_resources: 2457\n",
      "Fitting 10 folds for each of 240 candidates, totalling 2400 fits\n",
      "----------\n",
      "iter: 2\n",
      "n_candidates: 80\n",
      "n_resources: 7371\n",
      "Fitting 10 folds for each of 80 candidates, totalling 800 fits\n",
      "----------\n",
      "iter: 3\n",
      "n_candidates: 27\n",
      "n_resources: 22113\n",
      "Fitting 10 folds for each of 27 candidates, totalling 270 fits\n",
      "----------\n",
      "iter: 4\n",
      "n_candidates: 9\n",
      "n_resources: 66339\n",
      "Fitting 10 folds for each of 9 candidates, totalling 90 fits\n",
      "CPU times: user 3.1 s, sys: 557 ms, total: 3.66 s\n",
      "Wall time: 8.72 s\n",
      "n_iterations: 8\n",
      "n_required_iterations: 8\n",
      "n_possible_iterations: 8\n",
      "min_resources_: 91\n",
      "max_resources_: 199206\n",
      "aggressive_elimination: False\n",
      "factor: 3\n",
      "----------\n",
      "iter: 0\n",
      "n_candidates: 2400\n",
      "n_resources: 91\n",
      "Fitting 10 folds for each of 2400 candidates, totalling 24000 fits\n",
      "----------\n",
      "iter: 1\n",
      "n_candidates: 800\n",
      "n_resources: 273\n",
      "Fitting 10 folds for each of 800 candidates, totalling 8000 fits\n",
      "----------\n",
      "iter: 2\n",
      "n_candidates: 267\n",
      "n_resources: 819\n",
      "Fitting 10 folds for each of 267 candidates, totalling 2670 fits\n",
      "----------\n",
      "iter: 3\n",
      "n_candidates: 89\n",
      "n_resources: 2457\n",
      "Fitting 10 folds for each of 89 candidates, totalling 890 fits\n",
      "----------\n",
      "iter: 4\n",
      "n_candidates: 30\n",
      "n_resources: 7371\n",
      "Fitting 10 folds for each of 30 candidates, totalling 300 fits\n",
      "----------\n",
      "iter: 5\n",
      "n_candidates: 10\n",
      "n_resources: 22113\n",
      "Fitting 10 folds for each of 10 candidates, totalling 100 fits\n"
     ]
    },
    {
     "name": "stderr",
     "output_type": "stream",
     "text": [
      "/Users/jd/opt/anaconda3/lib/python3.8/site-packages/joblib/externals/loky/process_executor.py:688: UserWarning:\n",
      "\n",
      "A worker stopped while some jobs were given to the executor. This can be caused by a too short worker timeout or by a memory leak.\n",
      "\n"
     ]
    },
    {
     "name": "stdout",
     "output_type": "stream",
     "text": [
      "----------\n",
      "iter: 6\n",
      "n_candidates: 4\n",
      "n_resources: 66339\n",
      "Fitting 10 folds for each of 4 candidates, totalling 40 fits\n"
     ]
    },
    {
     "name": "stderr",
     "output_type": "stream",
     "text": [
      "/Users/jd/opt/anaconda3/lib/python3.8/site-packages/joblib/externals/loky/process_executor.py:688: UserWarning:\n",
      "\n",
      "A worker stopped while some jobs were given to the executor. This can be caused by a too short worker timeout or by a memory leak.\n",
      "\n"
     ]
    },
    {
     "name": "stdout",
     "output_type": "stream",
     "text": [
      "----------\n",
      "iter: 7\n",
      "n_candidates: 2\n",
      "n_resources: 199017\n",
      "Fitting 10 folds for each of 2 candidates, totalling 20 fits\n"
     ]
    },
    {
     "name": "stderr",
     "output_type": "stream",
     "text": [
      "/Users/jd/opt/anaconda3/lib/python3.8/site-packages/joblib/externals/loky/process_executor.py:688: UserWarning:\n",
      "\n",
      "A worker stopped while some jobs were given to the executor. This can be caused by a too short worker timeout or by a memory leak.\n",
      "\n"
     ]
    },
    {
     "name": "stdout",
     "output_type": "stream",
     "text": [
      "CPU times: user 31.2 s, sys: 2.49 s, total: 33.7 s\n",
      "Wall time: 9min 36s\n",
      "CPU times: user 3min 2s, sys: 428 ms, total: 3min 2s\n",
      "Wall time: 3min 2s\n"
     ]
    },
    {
     "data": {
      "text/plain": [
       "SVC(C=0.0001, gamma=10.0, kernel='poly')"
      ]
     },
     "execution_count": 50,
     "metadata": {},
     "output_type": "execute_result"
    }
   ],
   "source": [
    "%time grid_logClass.fit(X_train, Y_train)\n",
    "%time grid_dtc.fit(X_train, Y_train)\n",
    "%time grid_rfc.fit(X_train, Y_train)\n",
    "#for svm we use preoptimates parameters (time of optimisation: very long)\n",
    "#grid_svm = SVC(kernel=\"poly\", C=0.0001, gamma=10.0)\n",
    "%time grid_svm.fit(X_train, Y_train)"
   ]
  },
  {
   "cell_type": "code",
   "execution_count": 51,
   "metadata": {},
   "outputs": [
    {
     "name": "stdout",
     "output_type": "stream",
     "text": [
      "the best set of parameters for the LogisticRegression is : \n",
      " {'C': 100.0} \n",
      " the best set of parameters for the Decision Tree is : \n",
      " {'class_weight': None, 'criterion': 'entropy', 'max_depth': 9, 'min_samples_leaf': 5, 'min_samples_split': 6} \n",
      " the best set of parameters for the random forest is : \n",
      " {'class_weight': 'balanced', 'criterion': 'entropy', 'max_depth': 11, 'min_samples_leaf': 3, 'min_samples_split': 2, 'n_estimators': 100}\n"
     ]
    }
   ],
   "source": [
    "print(\"the best set of parameters for the LogisticRegression is : \\n {0} \\n the best set of parameters for the Decision Tree is : \\n {1} \\n the best set of parameters for the random forest is : \\n {2}\".format(grid_logClass.best_params_, grid_dtc.best_params_, grid_rfc.best_params_))"
   ]
  },
  {
   "cell_type": "code",
   "execution_count": 52,
   "metadata": {},
   "outputs": [
    {
     "name": "stdout",
     "output_type": "stream",
     "text": [
      "Train scores for LogClass best model are : \n",
      " [0.7674240977658965, 0.7655905738097518, 0.7651160569299837, 0.7672356250595976, 0.7627898064763365, 0.7639115027296237, 0.7626988690818478, 0.7635283976630591, 0.7658923621068731, 0.7649196633511859] \n",
      " Train scores for rf best model are : \n",
      " [0.7555555555555556, 0.7189189189189189, 0.7643678160919541, 0.7765726681127982, 0.748743718592965, 0.7524271844660194, 0.7347931873479319, 0.7488584474885844, 0.7798165137614678, 0.7751937984496123] \n",
      " Train scores for dtc best model are : \n",
      " [0.6666666666666666, 0.888888888888889, 0.888888888888889, 0.7272727272727273, 0.6666666666666667, 0.75, 0.9090909090909091, 0.6, 0.7272727272727272, 0.7499999999999999] \n",
      " Test scores for LogCLass best model are : \n",
      " [0.741652021089631, 0.7608510638297873, 0.7673819742489271, 0.7456140350877194, 0.7817869415807561, 0.7721088435374149, 0.7775862068965518, 0.7834877843302444, 0.7574978577549272, 0.7600700525394045] \n",
      " Test scores for dtc best model are : \n",
      " [0.7999999999999999, 0.75, 0.7317073170731707, 0.6829268292682926, 0.8888888888888888, 0.7450980392156863, 0.7058823529411765, 0.7272727272727272, 0.7540983606557377, 0.7499999999999999] \n",
      " Test scores for rf best model are : \n",
      " [1.0, 0.4, 0.6666666666666666, 0.0, 1.0, 1.0, 0.0, 0.6666666666666666, 1.0, 1.0] \n"
     ]
    },
    {
     "name": "stderr",
     "output_type": "stream",
     "text": [
      "/Users/jd/opt/anaconda3/lib/python3.8/site-packages/seaborn/distributions.py:2557: FutureWarning:\n",
      "\n",
      "`distplot` is a deprecated function and will be removed in a future version. Please adapt your code to use either `displot` (a figure-level function with similar flexibility) or `kdeplot` (an axes-level function for kernel density plots).\n",
      "\n",
      "/Users/jd/opt/anaconda3/lib/python3.8/site-packages/seaborn/distributions.py:2557: FutureWarning:\n",
      "\n",
      "`distplot` is a deprecated function and will be removed in a future version. Please adapt your code to use either `displot` (a figure-level function with similar flexibility) or `kdeplot` (an axes-level function for kernel density plots).\n",
      "\n",
      "/Users/jd/opt/anaconda3/lib/python3.8/site-packages/seaborn/distributions.py:2557: FutureWarning:\n",
      "\n",
      "`distplot` is a deprecated function and will be removed in a future version. Please adapt your code to use either `displot` (a figure-level function with similar flexibility) or `kdeplot` (an axes-level function for kernel density plots).\n",
      "\n",
      "/Users/jd/opt/anaconda3/lib/python3.8/site-packages/seaborn/distributions.py:2557: FutureWarning:\n",
      "\n",
      "`distplot` is a deprecated function and will be removed in a future version. Please adapt your code to use either `displot` (a figure-level function with similar flexibility) or `kdeplot` (an axes-level function for kernel density plots).\n",
      "\n",
      "/Users/jd/opt/anaconda3/lib/python3.8/site-packages/seaborn/distributions.py:2557: FutureWarning:\n",
      "\n",
      "`distplot` is a deprecated function and will be removed in a future version. Please adapt your code to use either `displot` (a figure-level function with similar flexibility) or `kdeplot` (an axes-level function for kernel density plots).\n",
      "\n",
      "/Users/jd/opt/anaconda3/lib/python3.8/site-packages/seaborn/distributions.py:2557: FutureWarning:\n",
      "\n",
      "`distplot` is a deprecated function and will be removed in a future version. Please adapt your code to use either `displot` (a figure-level function with similar flexibility) or `kdeplot` (an axes-level function for kernel density plots).\n",
      "\n"
     ]
    },
    {
     "data": {
      "image/png": "[encoded data removed]",
      "text/plain": [
       "<Figure size 720x720 with 2 Axes>"
      ]
     },
     "metadata": {
      "needs_background": "light"
     },
     "output_type": "display_data"
    }
   ],
   "source": [
    "best_logClass_index = np.argmin(grid_logClass.cv_results_[\"rank_test_score\"])\n",
    "\n",
    "logClass_cv_train_scores = [grid_logClass.cv_results_[\"split0_train_score\"][best_logClass_index],\n",
    "    grid_logClass.cv_results_[\"split1_train_score\"][best_logClass_index],\n",
    "    grid_logClass.cv_results_[\"split2_train_score\"][best_logClass_index],\n",
    "    grid_logClass.cv_results_[\"split3_train_score\"][best_logClass_index],\n",
    "    grid_logClass.cv_results_[\"split4_train_score\"][best_logClass_index],\n",
    "    grid_logClass.cv_results_[\"split5_train_score\"][best_logClass_index],\n",
    "    grid_logClass.cv_results_[\"split6_train_score\"][best_logClass_index],\n",
    "    grid_logClass.cv_results_[\"split7_train_score\"][best_logClass_index],\n",
    "    grid_logClass.cv_results_[\"split8_train_score\"][best_logClass_index],\n",
    "    grid_logClass.cv_results_[\"split9_train_score\"][best_logClass_index]]\n",
    "\n",
    "logClass_cv_test_scores = [grid_logClass.cv_results_[\"split0_test_score\"][best_logClass_index],\n",
    "    grid_logClass.cv_results_[\"split1_test_score\"][best_logClass_index],\n",
    "    grid_logClass.cv_results_[\"split2_test_score\"][best_logClass_index],\n",
    "    grid_logClass.cv_results_[\"split3_test_score\"][best_logClass_index],\n",
    "    grid_logClass.cv_results_[\"split4_test_score\"][best_logClass_index],\n",
    "    grid_logClass.cv_results_[\"split5_test_score\"][best_logClass_index],\n",
    "    grid_logClass.cv_results_[\"split6_test_score\"][best_logClass_index],\n",
    "    grid_logClass.cv_results_[\"split7_test_score\"][best_logClass_index],\n",
    "    grid_logClass.cv_results_[\"split8_test_score\"][best_logClass_index],\n",
    "    grid_logClass.cv_results_[\"split9_test_score\"][best_logClass_index]]\n",
    "\n",
    "best_dtc_index = np.argmin(grid_dtc.cv_results_[\"rank_test_score\"])\n",
    "\n",
    "dtc_cv_train_scores = [grid_dtc.cv_results_[\"split0_train_score\"][best_dtc_index],\n",
    "    grid_dtc.cv_results_[\"split1_train_score\"][best_dtc_index],\n",
    "    grid_dtc.cv_results_[\"split2_train_score\"][best_dtc_index],\n",
    "    grid_dtc.cv_results_[\"split3_train_score\"][best_dtc_index],\n",
    "    grid_dtc.cv_results_[\"split4_train_score\"][best_dtc_index],\n",
    "    grid_dtc.cv_results_[\"split5_train_score\"][best_dtc_index],\n",
    "    grid_dtc.cv_results_[\"split6_train_score\"][best_dtc_index],\n",
    "    grid_dtc.cv_results_[\"split7_train_score\"][best_dtc_index],\n",
    "    grid_dtc.cv_results_[\"split8_train_score\"][best_dtc_index],\n",
    "    grid_dtc.cv_results_[\"split9_train_score\"][best_dtc_index]]\n",
    "\n",
    "dtc_cv_test_scores = [grid_dtc.cv_results_[\"split0_test_score\"][best_dtc_index],\n",
    "    grid_dtc.cv_results_[\"split1_test_score\"][best_dtc_index],\n",
    "    grid_dtc.cv_results_[\"split2_test_score\"][best_dtc_index],\n",
    "    grid_dtc.cv_results_[\"split3_test_score\"][best_dtc_index],\n",
    "    grid_dtc.cv_results_[\"split4_test_score\"][best_dtc_index],\n",
    "    grid_dtc.cv_results_[\"split5_test_score\"][best_dtc_index],\n",
    "    grid_dtc.cv_results_[\"split6_test_score\"][best_dtc_index],\n",
    "    grid_dtc.cv_results_[\"split7_test_score\"][best_dtc_index],\n",
    "    grid_dtc.cv_results_[\"split8_test_score\"][best_dtc_index],\n",
    "    grid_dtc.cv_results_[\"split9_test_score\"][best_dtc_index]]\n",
    "\n",
    "\n",
    "best_rf_index = np.argmin(grid_rfc.cv_results_[\"rank_test_score\"])\n",
    "\n",
    "rf_cv_train_scores = [grid_rfc.cv_results_[\"split0_train_score\"][best_rf_index],\n",
    "    grid_rfc.cv_results_[\"split1_train_score\"][best_rf_index],\n",
    "    grid_rfc.cv_results_[\"split2_train_score\"][best_rf_index],\n",
    "    grid_rfc.cv_results_[\"split3_train_score\"][best_rf_index],\n",
    "    grid_rfc.cv_results_[\"split4_train_score\"][best_rf_index],\n",
    "    grid_rfc.cv_results_[\"split5_train_score\"][best_rf_index],\n",
    "    grid_rfc.cv_results_[\"split6_train_score\"][best_rf_index],\n",
    "    grid_rfc.cv_results_[\"split7_train_score\"][best_rf_index],\n",
    "    grid_rfc.cv_results_[\"split8_train_score\"][best_rf_index],\n",
    "    grid_rfc.cv_results_[\"split9_train_score\"][best_rf_index]]\n",
    "\n",
    "rf_cv_test_scores = [grid_rfc.cv_results_[\"split0_test_score\"][best_rf_index],\n",
    "    grid_rfc.cv_results_[\"split1_test_score\"][best_rf_index],\n",
    "    grid_rfc.cv_results_[\"split2_test_score\"][best_rf_index],\n",
    "    grid_rfc.cv_results_[\"split3_test_score\"][best_rf_index],\n",
    "    grid_rfc.cv_results_[\"split4_test_score\"][best_rf_index],\n",
    "    grid_rfc.cv_results_[\"split5_test_score\"][best_rf_index],\n",
    "    grid_rfc.cv_results_[\"split6_test_score\"][best_rf_index],\n",
    "    grid_rfc.cv_results_[\"split7_test_score\"][best_rf_index],\n",
    "    grid_rfc.cv_results_[\"split8_test_score\"][best_rf_index],\n",
    "    grid_rfc.cv_results_[\"split9_test_score\"][best_rf_index]]\n",
    "\n",
    "\n",
    "print(\"Train scores for LogClass best model are : \\n {0} \\n Train scores for rf best model are : \\n {1} \\n Train scores for dtc best model are : \\n {2} \\n Test scores for LogCLass best model are : \\n {3} \\n Test scores for dtc best model are : \\n {4} \\n Test scores for rf best model are : \\n {5} \".format(logClass_cv_train_scores,dtc_cv_train_scores,rf_cv_train_scores,logClass_cv_test_scores,dtc_cv_test_scores,rf_cv_test_scores))\n",
    "\n",
    "fig, ax = plt.subplots(2,1, figsize = (10,10))\n",
    "sns.distplot(logClass_cv_train_scores, hist=False, color = \"green\", ax = ax[0])\n",
    "sns.distplot(dtc_cv_train_scores, hist=False, color = \"red\", ax = ax[0])\n",
    "sns.distplot(rf_cv_train_scores, hist=False, color = \"blue\", ax = ax[0])\n",
    "ax[0].title.set_text('LogClass train score is green, dtc train score is red, rf train score is blue')\n",
    "\n",
    "sns.distplot(logClass_cv_test_scores, hist=False, color = \"green\", ax = ax[1])\n",
    "sns.distplot(dtc_cv_test_scores, hist=False, color = \"red\", ax = ax[1])\n",
    "sns.distplot(rf_cv_test_scores, hist=False, color = \"blue\", ax = ax[1])\n",
    "ax[1].title.set_text('LogClass test score is green,dtc test score is red, rf test score is blue')"
   ]
  },
  {
   "cell_type": "code",
   "execution_count": 53,
   "metadata": {},
   "outputs": [
    {
     "name": "stdout",
     "output_type": "stream",
     "text": [
      "best logistic regression score on the hold out test set : \n",
      " 0.9859324852999742 \n",
      " best dtc score on the hold out test set : \n",
      " 0.9850071450324455 \n",
      " best rf score on the hold out test set : \n",
      " 0.9526319488368824 \n",
      " best svm score on the hold out test set : \n",
      " 0.9855928034296155\n"
     ]
    }
   ],
   "source": [
    "print(\"best logistic regression score on the hold out test set : \\n {0} \\n best dtc score on the hold out test set : \\n {1} \\n best rf score on the hold out test set : \\n {2} \\n best svm score on the hold out test set : \\n {3}\".format(grid_logClass.best_estimator_.score(X_test,Y_test),grid_dtc.best_estimator_.score(X_test,Y_test),grid_rfc.best_estimator_.score(X_test,Y_test), grid_svm.score(X_test,Y_test)))"
   ]
  },
  {
   "cell_type": "code",
   "execution_count": 54,
   "metadata": {},
   "outputs": [
    {
     "name": "stdout",
     "output_type": "stream",
     "text": [
      "Predictions on training set with best LogisticRegression model...\n",
      "...Done.\n",
      "[0 0 0 ... 0 0 0]\n",
      "\n",
      "Predictions on training set with best DecisionTreeClassifier model...\n",
      "...Done.\n",
      "[0 0 0 ... 0 0 0]\n",
      "\n",
      "Predictions on training set with best RandomForestClassifier model...\n",
      "...Done.\n",
      "[0 0 0 ... 0 1 0]\n",
      "\n",
      "Predictions on training set with best SVM model...\n",
      "...Done.\n",
      "[0 0 0 ... 0 0 0]\n",
      "\n",
      "Predictions on testing set with LogisticRegression model...\n",
      "...Done.\n",
      "\n",
      "Predictions on testing set with DecisionTreeClassifier model...\n",
      "...Done.\n",
      "\n",
      "Predictions on testing set with RandomForestClassifier model...\n",
      "...Done.\n",
      "\n",
      "Predictions on testing set with SVM model...\n",
      "...Done.\n",
      "\n",
      "f1-score on train set for best LogisticRegression :  0.7648983809851878\n",
      "f1-score on test set for best LogisticRegression:  0.7591738520152397\n",
      "f1-score on train set for best DecisionTreeClassifier :  0.770758431775381\n",
      "f1-score on test set for best DecisionTreeClassifier:  0.7452229299363057\n",
      "f1-score on train set for best RandomForestClassifier :  0.5683039502215518\n",
      "f1-score on test set for best RandomForestClassifier:  0.5539377895433488\n",
      "f1-score on train set for best SVM :  0.7449877528803411\n",
      "f1-score on test set for best SVM:  0.7413793103448275\n"
     ]
    }
   ],
   "source": [
    "# Predictions on training set with LogisticRegression model\n",
    "grid_logClass = grid_logClass.best_estimator_\n",
    "print(\"Predictions on training set with best LogisticRegression model...\")\n",
    "Y_train_pred_grid_logClass = grid_logClass.predict(X_train)\n",
    "print(\"...Done.\")\n",
    "print(Y_train_pred_grid_logClass)\n",
    "print()\n",
    "\n",
    "# Predictions on training set with DecisionTreeClassifier model\n",
    "grid_dtc = grid_dtc.best_estimator_\n",
    "print(\"Predictions on training set with best DecisionTreeClassifier model...\")\n",
    "Y_train_pred_grid_dtc = grid_dtc.predict(X_train)\n",
    "print(\"...Done.\")\n",
    "print(Y_train_pred_grid_dtc)\n",
    "print()\n",
    "\n",
    "# Predictions on training set with RandomForestClassifier model\n",
    "grid_rfc = grid_rfc.best_estimator_\n",
    "print(\"Predictions on training set with best RandomForestClassifier model...\")\n",
    "Y_train_pred_grid_rfc = grid_rfc.predict(X_train)\n",
    "print(\"...Done.\")\n",
    "print(Y_train_pred_grid_rfc)\n",
    "print()\n",
    "\n",
    "# Predictions on training set with SVM model\n",
    "grid_svm = grid_svm.best_estimator_\n",
    "print(\"Predictions on training set with best SVM model...\")\n",
    "Y_train_pred_grid_svm = grid_svm.predict(X_train)\n",
    "print(\"...Done.\")\n",
    "print(Y_train_pred_grid_svm)\n",
    "print()\n",
    "\n",
    "# Predictions on testing set with LogisticRegression model\n",
    "print(\"Predictions on testing set with LogisticRegression model...\")\n",
    "Y_test_pred_grid_logClass = grid_logClass.predict(X_test)\n",
    "print(\"...Done.\")\n",
    "print()\n",
    "\n",
    "# Predictions on testing set with DecisionTreeClassifier model\n",
    "print(\"Predictions on testing set with DecisionTreeClassifier model...\")\n",
    "Y_test_pred_grid_dtc = grid_dtc.predict(X_test)\n",
    "print(\"...Done.\")\n",
    "print()\n",
    "\n",
    "# Predictions on testing set with RandomForestClassifier model\n",
    "print(\"Predictions on testing set with RandomForestClassifier model...\")\n",
    "Y_test_pred_grid_rfc = grid_rfc.predict(X_test)\n",
    "print(\"...Done.\")\n",
    "print()\n",
    "\n",
    "# Predictions on testing set with SVM model\n",
    "print(\"Predictions on testing set with SVM model...\")\n",
    "Y_test_pred_grid_svm = grid_svm.predict(X_test)\n",
    "print(\"...Done.\")\n",
    "print()\n",
    "\n",
    "# WARNING : Use the same score as the one that will be used by Kaggle !\n",
    "# Here, the f1-score will be used to assess the performances on the leaderboard\n",
    "print(\"f1-score on train set for best LogisticRegression : \", f1_score(Y_train, Y_train_pred_grid_logClass))\n",
    "print(\"f1-score on test set for best LogisticRegression: \", f1_score(Y_test, Y_test_pred_grid_logClass))\n",
    "print(\"f1-score on train set for best DecisionTreeClassifier : \", f1_score(Y_train, Y_train_pred_grid_dtc))\n",
    "print(\"f1-score on test set for best DecisionTreeClassifier: \", f1_score(Y_test, Y_test_pred_grid_dtc))\n",
    "print(\"f1-score on train set for best RandomForestClassifier : \", f1_score(Y_train, Y_train_pred_grid_rfc))\n",
    "print(\"f1-score on test set for best RandomForestClassifier: \", f1_score(Y_test, Y_test_pred_grid_rfc))\n",
    "print(\"f1-score on train set for best SVM : \", f1_score(Y_train, Y_train_pred_grid_svm))\n",
    "print(\"f1-score on test set for best SVM: \", f1_score(Y_test, Y_test_pred_grid_svm))"
   ]
  },
  {
   "cell_type": "code",
   "execution_count": 55,
   "metadata": {},
   "outputs": [
    {
     "data": {
      "image/png": "[encoded data removed]",
      "text/plain": [
       "<Figure size 1440x1440 with 16 Axes>"
      ]
     },
     "metadata": {
      "needs_background": "light"
     },
     "output_type": "display_data"
    }
   ],
   "source": [
    "fig, axs = plt.subplots(4, 2, figsize=(20, 20))\n",
    "\n",
    "\n",
    "cm = confusion_matrix(Y_train, Y_train_pred_grid_logClass, normalize=\"true\")\n",
    "sns.heatmap(cm, annot=True, fmt=\".2f\", ax=axs[0, 0])\n",
    "axs[0, 0].set_title(\"Classifier on train\")\n",
    "\n",
    "cm2 = confusion_matrix(Y_test, Y_test_pred_grid_logClass, normalize=\"true\")\n",
    "sns.heatmap(cm2, annot=True, fmt=\".2f\", ax=axs[0, 1])\n",
    "axs[0, 1].set_title(\"Classifier on test\")\n",
    "\n",
    "cm3 = confusion_matrix(Y_train, Y_train_pred_grid_dtc, normalize=\"true\")\n",
    "sns.heatmap(cm3, annot=True, fmt=\".2f\", ax=axs[1, 0])\n",
    "axs[1, 0].set_title(\"dtc on train\")\n",
    "\n",
    "cm4 = confusion_matrix(Y_test, Y_test_pred_grid_dtc, normalize=\"true\")\n",
    "sns.heatmap(cm4, annot=True, fmt=\".2f\", ax=axs[1, 1])\n",
    "axs[1, 1].set_title(\"dtc on test\")\n",
    "\n",
    "cm5 = confusion_matrix(Y_train, Y_train_pred_grid_rfc, normalize=\"true\")\n",
    "sns.heatmap(cm5, annot=True, fmt=\".2f\", ax=axs[2, 0])\n",
    "axs[2, 0].set_title(\"rfc on train\")\n",
    "\n",
    "cm6 = confusion_matrix(Y_test, Y_test_pred_grid_rfc, normalize=\"true\")\n",
    "sns.heatmap(cm6, annot=True, fmt=\".2f\", ax=axs[2, 1])\n",
    "axs[2, 1].set_title(\"rfc on test\")\n",
    "\n",
    "cm7 = confusion_matrix(Y_train, Y_train_pred_grid_svm, normalize=\"true\")\n",
    "sns.heatmap(cm7, annot=True, fmt=\".2f\", ax=axs[3, 0])\n",
    "axs[3, 0].set_title(\"svm on train\")\n",
    "\n",
    "cm8 = confusion_matrix(Y_test, Y_test_pred_grid_svm, normalize=\"true\")\n",
    "sns.heatmap(cm8, annot=True, fmt=\".2f\", ax=axs[3, 1])\n",
    "axs[3, 1].set_title(\"svm on test\")\n",
    "\n",
    "plt.show()"
   ]
  },
  {
   "cell_type": "code",
   "execution_count": 56,
   "metadata": {},
   "outputs": [
    {
     "data": {
      "text/html": [
       "<iframe\n",
       "    scrolling=\"no\"\n",
       "    width=\"100%\"\n",
       "    height=\"545px\"\n",
       "    src=\"iframe_figures/figure_56.html\"\n",
       "    frameborder=\"0\"\n",
       "    allowfullscreen\n",
       "></iframe>\n"
      ]
     },
     "metadata": {},
     "output_type": "display_data"
    }
   ],
   "source": [
    "# Visualize precision recall curves for the best logistic regression\n",
    "probas_train = grid_logClass.predict_proba(X_train)[:,1]\n",
    "precisions, recalls, thresholds = precision_recall_curve(Y_train, probas_train)\n",
    "fig = go.Figure(\n",
    "    data = go.Scatter(\n",
    "        name = 'train',\n",
    "        x = recalls, \n",
    "        y = precisions, \n",
    "        mode = 'lines'\n",
    "    ),\n",
    "    layout = go.Layout(\n",
    "        title = go.layout.Title(text = \"precision_recall_curve for logistic regression\", x = 0.5),\n",
    "        xaxis = go.layout.XAxis(title = 'False Positive Rate'),\n",
    "        yaxis = go.layout.YAxis(title = 'True Positive Rate')\n",
    "    )\n",
    ")\n",
    "\n",
    "probas_test = grid_logClass.predict_proba(X_test)[:,1]\n",
    "precisions, recalls, thresholds = precision_recall_curve(Y_test, probas_test)\n",
    "fig.add_trace(go.Scatter(\n",
    "    name = 'test',\n",
    "    x = recalls, \n",
    "    y = precisions, \n",
    "    mode = 'lines'\n",
    "    )\n",
    ")\n",
    "fig.show()"
   ]
  },
  {
   "cell_type": "code",
   "execution_count": 57,
   "metadata": {},
   "outputs": [
    {
     "data": {
      "text/html": [
       "<iframe\n",
       "    scrolling=\"no\"\n",
       "    width=\"100%\"\n",
       "    height=\"545px\"\n",
       "    src=\"iframe_figures/figure_57.html\"\n",
       "    frameborder=\"0\"\n",
       "    allowfullscreen\n",
       "></iframe>\n"
      ]
     },
     "metadata": {},
     "output_type": "display_data"
    }
   ],
   "source": [
    "# Visualize ROC curves for the best Decision Tree classifier\n",
    "probas_train = grid_dtc.predict_proba(X_train)[:,1]\n",
    "precisions, recalls, thresholds = precision_recall_curve(Y_train, probas_train)\n",
    "fig = go.Figure(\n",
    "    data = go.Scatter(\n",
    "        name = 'train',\n",
    "        x = recalls, \n",
    "        y = precisions, \n",
    "        mode = 'lines'\n",
    "    ),\n",
    "    layout = go.Layout(\n",
    "        title = go.layout.Title(text = \"precision_recall_curve for Decision tree classifier\", x = 0.5),\n",
    "        xaxis = go.layout.XAxis(title = 'False Positive Rate'),\n",
    "        yaxis = go.layout.YAxis(title = 'True Positive Rate')\n",
    "    )\n",
    ")\n",
    "\n",
    "probas_test = grid_dtc.predict_proba(X_test)[:,1]\n",
    "precisions, recalls, thresholds = precision_recall_curve(Y_test, probas_test)\n",
    "fig.add_trace(go.Scatter(\n",
    "    name = 'test',\n",
    "    x = recalls, \n",
    "    y = precisions, \n",
    "    mode = 'lines'\n",
    "    )\n",
    ")\n",
    "fig.show()"
   ]
  },
  {
   "cell_type": "code",
   "execution_count": 58,
   "metadata": {},
   "outputs": [
    {
     "data": {
      "text/html": [
       "<iframe\n",
       "    scrolling=\"no\"\n",
       "    width=\"100%\"\n",
       "    height=\"545px\"\n",
       "    src=\"iframe_figures/figure_58.html\"\n",
       "    frameborder=\"0\"\n",
       "    allowfullscreen\n",
       "></iframe>\n"
      ]
     },
     "metadata": {},
     "output_type": "display_data"
    }
   ],
   "source": [
    "# Visualize ROC curves for the best random forest classifier\n",
    "probas_train = grid_rfc.predict_proba(X_train)[:,1]\n",
    "precisions, recalls, thresholds = precision_recall_curve(Y_train, probas_train)\n",
    "fig = go.Figure(\n",
    "    data = go.Scatter(\n",
    "        name = 'train',\n",
    "        x = recalls, \n",
    "        y = precisions, \n",
    "        mode = 'lines'\n",
    "    ),\n",
    "    layout = go.Layout(\n",
    "        title = go.layout.Title(text = \"precision_recall_curve for random forest classifier\", x = 0.5),\n",
    "        xaxis = go.layout.XAxis(title = 'False Positive Rate'),\n",
    "        yaxis = go.layout.YAxis(title = 'True Positive Rate')\n",
    "    )\n",
    ")\n",
    "\n",
    "probas_test = grid_rfc.predict_proba(X_test)[:,1]\n",
    "precisions, recalls, thresholds = precision_recall_curve(Y_test, probas_test)\n",
    "fig.add_trace(go.Scatter(\n",
    "    name = 'test',\n",
    "    x = recalls, \n",
    "    y = precisions, \n",
    "    mode = 'lines'\n",
    "    )\n",
    ")\n",
    "fig.show()"
   ]
  },
  {
   "cell_type": "code",
   "execution_count": 59,
   "metadata": {},
   "outputs": [
    {
     "data": {
      "text/plain": [
       "Text(0.5, 1.0, 'Precision-Recall curve: AP=0.79')"
      ]
     },
     "execution_count": 59,
     "metadata": {},
     "output_type": "execute_result"
    },
    {
     "data": {
      "image/png": "[encoded data removed]",
      "text/plain": [
       "<Figure size 432x288 with 1 Axes>"
      ]
     },
     "metadata": {
      "needs_background": "light"
     },
     "output_type": "display_data"
    }
   ],
   "source": [
    "y_train_score = grid_svm.decision_function(X_train)\n",
    "\n",
    "train_average_precision = average_precision_score(Y_train, y_train_score)\n",
    "\n",
    "disp = plot_precision_recall_curve(grid_svm, X_train, Y_train)\n",
    "disp.ax_.set_title('Precision-Recall curve: '\n",
    "                   'AP={0:0.2f}'.format(train_average_precision))\n"
   ]
  },
  {
   "cell_type": "code",
   "execution_count": 60,
   "metadata": {},
   "outputs": [
    {
     "data": {
      "text/plain": [
       "Text(0.5, 1.0, 'Precision-Recall curve: AP=0.79')"
      ]
     },
     "execution_count": 60,
     "metadata": {},
     "output_type": "execute_result"
    },
    {
     "data": {
      "image/png": "[encoded data removed]",
      "text/plain": [
       "<Figure size 432x288 with 1 Axes>"
      ]
     },
     "metadata": {
      "needs_background": "light"
     },
     "output_type": "display_data"
    }
   ],
   "source": [
    "y_test_score = grid_svm.decision_function(X_test)\n",
    "\n",
    "test_average_precision = average_precision_score(Y_test, y_test_score)\n",
    "\n",
    "disp = plot_precision_recall_curve(grid_svm, X_test, Y_test)\n",
    "disp.ax_.set_title('Precision-Recall curve: '\n",
    "                   'AP={0:0.2f}'.format(test_average_precision))"
   ]
  },
  {
   "cell_type": "code",
   "execution_count": 61,
   "metadata": {},
   "outputs": [
    {
     "name": "stdout",
     "output_type": "stream",
     "text": [
      "              precision    recall  f1-score   support\n",
      "\n",
      "           0       0.99      1.00      0.99    192780\n",
      "           1       0.86      0.69      0.76      6426\n",
      "\n",
      "    accuracy                           0.99    199206\n",
      "   macro avg       0.92      0.84      0.88    199206\n",
      "weighted avg       0.99      0.99      0.99    199206\n",
      "\n"
     ]
    }
   ],
   "source": [
    "print(classification_report(Y_train,Y_train_pred_grid_logClass))"
   ]
  },
  {
   "cell_type": "code",
   "execution_count": 62,
   "metadata": {},
   "outputs": [
    {
     "name": "stdout",
     "output_type": "stream",
     "text": [
      "              precision    recall  f1-score   support\n",
      "\n",
      "           0       0.99      1.00      0.99     82620\n",
      "           1       0.85      0.69      0.76      2754\n",
      "\n",
      "    accuracy                           0.99     85374\n",
      "   macro avg       0.92      0.84      0.88     85374\n",
      "weighted avg       0.99      0.99      0.99     85374\n",
      "\n"
     ]
    }
   ],
   "source": [
    "print(classification_report(Y_test,Y_test_pred_grid_logClass))"
   ]
  },
  {
   "cell_type": "code",
   "execution_count": 63,
   "metadata": {},
   "outputs": [
    {
     "name": "stdout",
     "output_type": "stream",
     "text": [
      "              precision    recall  f1-score   support\n",
      "\n",
      "           0       0.99      1.00      0.99    192780\n",
      "           1       0.86      0.70      0.77      6426\n",
      "\n",
      "    accuracy                           0.99    199206\n",
      "   macro avg       0.92      0.85      0.88    199206\n",
      "weighted avg       0.99      0.99      0.99    199206\n",
      "\n"
     ]
    }
   ],
   "source": [
    "print(classification_report(Y_train,Y_train_pred_grid_dtc))"
   ]
  },
  {
   "cell_type": "code",
   "execution_count": 64,
   "metadata": {},
   "outputs": [
    {
     "name": "stdout",
     "output_type": "stream",
     "text": [
      "              precision    recall  f1-score   support\n",
      "\n",
      "           0       0.99      1.00      0.99     82620\n",
      "           1       0.82      0.68      0.75      2754\n",
      "\n",
      "    accuracy                           0.99     85374\n",
      "   macro avg       0.91      0.84      0.87     85374\n",
      "weighted avg       0.98      0.99      0.98     85374\n",
      "\n"
     ]
    }
   ],
   "source": [
    "print(classification_report(Y_test,Y_test_pred_grid_dtc))"
   ]
  },
  {
   "cell_type": "code",
   "execution_count": 65,
   "metadata": {},
   "outputs": [
    {
     "name": "stdout",
     "output_type": "stream",
     "text": [
      "              precision    recall  f1-score   support\n",
      "\n",
      "           0       1.00      0.95      0.98    192780\n",
      "           1       0.41      0.94      0.57      6426\n",
      "\n",
      "    accuracy                           0.95    199206\n",
      "   macro avg       0.70      0.95      0.77    199206\n",
      "weighted avg       0.98      0.95      0.96    199206\n",
      "\n"
     ]
    }
   ],
   "source": [
    "print(classification_report(Y_train,Y_train_pred_grid_rfc))"
   ]
  },
  {
   "cell_type": "code",
   "execution_count": 66,
   "metadata": {},
   "outputs": [
    {
     "name": "stdout",
     "output_type": "stream",
     "text": [
      "              precision    recall  f1-score   support\n",
      "\n",
      "           0       1.00      0.95      0.97     82620\n",
      "           1       0.40      0.91      0.55      2754\n",
      "\n",
      "    accuracy                           0.95     85374\n",
      "   macro avg       0.70      0.93      0.76     85374\n",
      "weighted avg       0.98      0.95      0.96     85374\n",
      "\n"
     ]
    }
   ],
   "source": [
    "print(classification_report(Y_test,Y_test_pred_grid_rfc))"
   ]
  },
  {
   "cell_type": "code",
   "execution_count": 67,
   "metadata": {},
   "outputs": [
    {
     "name": "stdout",
     "output_type": "stream",
     "text": [
      "              precision    recall  f1-score   support\n",
      "\n",
      "           0       0.99      1.00      0.99    192780\n",
      "           1       0.89      0.64      0.74      6426\n",
      "\n",
      "    accuracy                           0.99    199206\n",
      "   macro avg       0.94      0.82      0.87    199206\n",
      "weighted avg       0.99      0.99      0.98    199206\n",
      "\n"
     ]
    }
   ],
   "source": [
    "print(classification_report(Y_train,Y_train_pred_grid_svm))"
   ]
  },
  {
   "cell_type": "code",
   "execution_count": 68,
   "metadata": {},
   "outputs": [
    {
     "name": "stdout",
     "output_type": "stream",
     "text": [
      "              precision    recall  f1-score   support\n",
      "\n",
      "           0       0.99      1.00      0.99     82620\n",
      "           1       0.88      0.64      0.74      2754\n",
      "\n",
      "    accuracy                           0.99     85374\n",
      "   macro avg       0.93      0.82      0.87     85374\n",
      "weighted avg       0.98      0.99      0.98     85374\n",
      "\n"
     ]
    }
   ],
   "source": [
    "print(classification_report(Y_test,Y_test_pred_grid_svm))"
   ]
  },
  {
   "cell_type": "markdown",
   "metadata": {},
   "source": [
    "## Optimisation with gradient boosting Decision Tree"
   ]
  },
  {
   "cell_type": "code",
   "execution_count": 69,
   "metadata": {},
   "outputs": [
    {
     "name": "stdout",
     "output_type": "stream",
     "text": [
      "HalvingGridSearchCV(cv=10, estimator=HistGradientBoostingClassifier(),\n",
      "                    n_jobs=-1,\n",
      "                    param_grid={'learning_rate': [0.7, 0.5, 0.3, 0.1],\n",
      "                                'max_depth': array([ 3,  5,  7,  9, 11, 13, 15, 17, 19]),\n",
      "                                'max_iter': array([ 50, 150, 250, 350, 450, 550]),\n",
      "                                'min_samples_leaf': array([1, 3, 5]),\n",
      "                                'random_state': [1], 'scoring': ['f1']},\n",
      "                    refit=<function _refit_callable at 0x7ffd9061e820>,\n",
      "                    scoring='f1', verbose=1)\n",
      "n_iterations: 5\n",
      "n_required_iterations: 6\n",
      "n_possible_iterations: 5\n",
      "min_resources_: 819\n",
      "max_resources_: 199206\n",
      "aggressive_elimination: False\n",
      "factor: 3\n",
      "----------\n",
      "iter: 0\n",
      "n_candidates: 648\n",
      "n_resources: 819\n",
      "Fitting 10 folds for each of 648 candidates, totalling 6480 fits\n",
      "----------\n",
      "iter: 1\n",
      "n_candidates: 216\n",
      "n_resources: 2457\n",
      "Fitting 10 folds for each of 216 candidates, totalling 2160 fits\n",
      "----------\n",
      "iter: 2\n",
      "n_candidates: 72\n",
      "n_resources: 7371\n",
      "Fitting 10 folds for each of 72 candidates, totalling 720 fits\n",
      "----------\n",
      "iter: 3\n",
      "n_candidates: 24\n",
      "n_resources: 22113\n",
      "Fitting 10 folds for each of 24 candidates, totalling 240 fits\n",
      "----------\n",
      "iter: 4\n",
      "n_candidates: 8\n",
      "n_resources: 66339\n",
      "Fitting 10 folds for each of 8 candidates, totalling 80 fits\n"
     ]
    },
    {
     "name": "stderr",
     "output_type": "stream",
     "text": [
      "/Users/jd/opt/anaconda3/lib/python3.8/site-packages/joblib/externals/loky/process_executor.py:688: UserWarning:\n",
      "\n",
      "A worker stopped while some jobs were given to the executor. This can be caused by a too short worker timeout or by a memory leak.\n",
      "\n"
     ]
    },
    {
     "name": "stdout",
     "output_type": "stream",
     "text": [
      "CPU times: user 19.9 s, sys: 2.69 s, total: 22.6 s\n",
      "Wall time: 6min 34s\n",
      "the best set of parameters for the gradient boosting is : \n",
      " {'learning_rate': 0.1, 'max_depth': 5, 'max_iter': 150, 'min_samples_leaf': 1, 'random_state': 1, 'scoring': 'f1'}\n",
      "HistGradientBoostingClassifier(max_depth=5, max_iter=150, min_samples_leaf=1,\n",
      "                               random_state=1, scoring='f1')\n",
      "CPU times: user 8.01 s, sys: 1.06 s, total: 9.07 s\n",
      "Wall time: 1.17 s\n",
      "HistGradientBoostingClassifier(max_depth=5, max_iter=150, min_samples_leaf=1,\n",
      "                               random_state=1, scoring='f1')\n",
      "Predictions on training set with best_gbc model...\n",
      "...Done.\n",
      "\n",
      "Predictions on training set with best_gbc model...\n",
      "...Done.\n",
      "\n",
      "f1-score on train set for best best_gbc :  0.7674718473308689\n",
      "f1-score on test set for best best_gbc:  0.7539476314211473\n",
      "\n",
      "              precision    recall  f1-score   support\n",
      "\n",
      "           0       0.99      1.00      0.99    192780\n",
      "           1       0.86      0.69      0.77      6426\n",
      "\n",
      "    accuracy                           0.99    199206\n",
      "   macro avg       0.92      0.85      0.88    199206\n",
      "weighted avg       0.99      0.99      0.99    199206\n",
      "\n",
      "              precision    recall  f1-score   support\n",
      "\n",
      "           0       0.99      1.00      0.99     82620\n",
      "           1       0.84      0.68      0.75      2754\n",
      "\n",
      "    accuracy                           0.99     85374\n",
      "   macro avg       0.91      0.84      0.87     85374\n",
      "weighted avg       0.98      0.99      0.98     85374\n",
      "\n"
     ]
    },
    {
     "data": {
      "image/png": "[encoded data removed]",
      "text/plain": [
       "<Figure size 720x288 with 4 Axes>"
      ]
     },
     "metadata": {
      "needs_background": "light"
     },
     "output_type": "display_data"
    }
   ],
   "source": [
    "gbc = HistGradientBoostingClassifier()\n",
    "\n",
    "\n",
    "#learning rate and  ccp_alpha for later ccp_alpha\n",
    "param_grid_gbc = {\"learning_rate\": [0.7, 0.5, 0.3, 0.1],\n",
    "                  \"max_iter\" : np.arange(50,551,100),\n",
    "                  \"min_samples_leaf\": np.arange(1,6,2),\n",
    "                  \"max_depth\": np.arange(3,20,2),\n",
    "                  \"scoring\":['f1'],\n",
    "                  \"random_state\": [1]\n",
    "                  }\n",
    "\n",
    "grid_gbc = HalvingGridSearchCV(gbc, param_grid=param_grid_gbc, \n",
    "                cv=10, verbose=1, n_jobs=-1, \n",
    "                return_train_score=True, scoring='f1')\n",
    "\n",
    "print(grid_gbc)\n",
    "\n",
    "%time grid_gbc.fit(X_train, Y_train)\n",
    "\n",
    "print(\"the best set of parameters for the gradient boosting is : \\n {}\".format(grid_gbc.best_params_))\n",
    "\n",
    "best_gbc = grid_gbc.best_estimator_\n",
    "print(best_gbc)\n",
    "\n",
    "%time best_gbc.fit(X_train, Y_train)\n",
    "\n",
    "# Predictions on training set with best_gbc model\n",
    "print(best_gbc)\n",
    "print(\"Predictions on training set with best_gbc model...\")\n",
    "Y_train_pred = best_gbc.predict(X_train)\n",
    "print(\"...Done.\")\n",
    "print()\n",
    "\n",
    "# Predictions on testing set with best_gbc model\n",
    "print(\"Predictions on training set with best_gbc model...\")\n",
    "Y_test_pred = best_gbc.predict(X_test)\n",
    "print(\"...Done.\")\n",
    "print()\n",
    "\n",
    "print(\"f1-score on train set for best best_gbc : \", f1_score(Y_train, Y_train_pred))\n",
    "print(\"f1-score on test set for best best_gbc: \", f1_score(Y_test, Y_test_pred))\n",
    "print()\n",
    "print(classification_report(Y_train,Y_train_pred))\n",
    "print(classification_report(Y_test,Y_test_pred))\n",
    "\n",
    "fig, (ax1,ax2) = plt.subplots(1, 2, figsize=(10, 4))\n",
    "\n",
    "cm_train = confusion_matrix(Y_train, Y_train_pred, normalize=\"true\")\n",
    "g1 = sns.heatmap(cm_train, annot=True, fmt=\".2f\",ax=ax1)\n",
    "g1.set_title(\"Train\")\n",
    "\n",
    "cm_test = confusion_matrix(Y_test, Y_test_pred, normalize=\"true\")\n",
    "g2 = sns.heatmap(cm_test, annot=True, fmt=\".2f\",ax=ax2)\n",
    "g2.set_title(\"Test\")\n",
    "plt.show()"
   ]
  },
  {
   "cell_type": "markdown",
   "metadata": {},
   "source": [
    "## Resample of the imbalanced train sample with SMOTE, SMOTEENN, SMOTETomek and Tomeklinks"
   ]
  },
  {
   "cell_type": "code",
   "execution_count": 70,
   "metadata": {},
   "outputs": [
    {
     "name": "stdout",
     "output_type": "stream",
     "text": [
      "Collecting imbalanced-learn\n",
      "  Downloading imbalanced_learn-0.8.0-py3-none-any.whl (206 kB)\n",
      "\u001b[K     |████████████████████████████████| 206 kB 9.9 MB/s eta 0:00:01\n",
      "\u001b[?25hRequirement already satisfied: joblib>=0.11 in /Users/jd/opt/anaconda3/lib/python3.8/site-packages (from imbalanced-learn) (1.0.1)\n",
      "Requirement already satisfied: scikit-learn>=0.24 in /Users/jd/opt/anaconda3/lib/python3.8/site-packages (from imbalanced-learn) (0.24.2)\n",
      "Requirement already satisfied: numpy>=1.13.3 in /Users/jd/opt/anaconda3/lib/python3.8/site-packages (from imbalanced-learn) (1.19.5)\n",
      "Requirement already satisfied: scipy>=0.19.1 in /Users/jd/opt/anaconda3/lib/python3.8/site-packages (from imbalanced-learn) (1.6.2)\n",
      "Requirement already satisfied: threadpoolctl>=2.0.0 in /Users/jd/opt/anaconda3/lib/python3.8/site-packages (from scikit-learn>=0.24->imbalanced-learn) (2.1.0)\n",
      "Installing collected packages: imbalanced-learn\n",
      "Successfully installed imbalanced-learn-0.8.0\n"
     ]
    }
   ],
   "source": [
    "!pip install -U imbalanced-learn"
   ]
  },
  {
   "cell_type": "code",
   "execution_count": 71,
   "metadata": {},
   "outputs": [],
   "source": [
    "from imblearn.under_sampling import TomekLinks\n",
    "from imblearn.over_sampling import SMOTE\n",
    "from imblearn.combine import SMOTEENN, SMOTETomek"
   ]
  },
  {
   "cell_type": "code",
   "execution_count": 72,
   "metadata": {},
   "outputs": [
    {
     "name": "stdout",
     "output_type": "stream",
     "text": [
      "HalvingGridSearchCV(cv=10, estimator=HistGradientBoostingClassifier(),\n",
      "                    n_jobs=-1,\n",
      "                    param_grid={'learning_rate': [0.7, 0.5, 0.3, 0.1],\n",
      "                                'max_depth': array([ 3,  5,  7,  9, 11, 13, 15, 17, 19]),\n",
      "                                'max_iter': array([ 50, 150, 250, 350, 450, 550]),\n",
      "                                'min_samples_leaf': array([1, 3, 5]),\n",
      "                                'random_state': [1], 'scoring': ['f1']},\n",
      "                    refit=<function _refit_callable at 0x7ffd9061e820>,\n",
      "                    scoring='f1', verbose=1)\n",
      "n_iterations: 5\n",
      "n_required_iterations: 6\n",
      "n_possible_iterations: 5\n",
      "min_resources_: 1586\n",
      "max_resources_: 385560\n",
      "aggressive_elimination: False\n",
      "factor: 3\n",
      "----------\n",
      "iter: 0\n",
      "n_candidates: 648\n",
      "n_resources: 1586\n",
      "Fitting 10 folds for each of 648 candidates, totalling 6480 fits\n",
      "----------\n",
      "iter: 1\n",
      "n_candidates: 216\n",
      "n_resources: 4758\n",
      "Fitting 10 folds for each of 216 candidates, totalling 2160 fits\n",
      "----------\n",
      "iter: 2\n",
      "n_candidates: 72\n",
      "n_resources: 14274\n",
      "Fitting 10 folds for each of 72 candidates, totalling 720 fits\n",
      "----------\n",
      "iter: 3\n",
      "n_candidates: 24\n",
      "n_resources: 42822\n",
      "Fitting 10 folds for each of 24 candidates, totalling 240 fits\n",
      "----------\n",
      "iter: 4\n",
      "n_candidates: 8\n",
      "n_resources: 128466\n",
      "Fitting 10 folds for each of 8 candidates, totalling 80 fits\n"
     ]
    },
    {
     "name": "stderr",
     "output_type": "stream",
     "text": [
      "/Users/jd/opt/anaconda3/lib/python3.8/site-packages/joblib/externals/loky/process_executor.py:688: UserWarning:\n",
      "\n",
      "A worker stopped while some jobs were given to the executor. This can be caused by a too short worker timeout or by a memory leak.\n",
      "\n"
     ]
    },
    {
     "name": "stdout",
     "output_type": "stream",
     "text": [
      "CPU times: user 1min 5s, sys: 7.49 s, total: 1min 12s\n",
      "Wall time: 13min 32s\n",
      "the best set of parameters for this gradient boosting is : \n",
      " {'learning_rate': 0.3, 'max_depth': 5, 'max_iter': 250, 'min_samples_leaf': 1, 'random_state': 1, 'scoring': 'f1'}\n",
      "CPU times: user 48.5 s, sys: 5.32 s, total: 53.8 s\n",
      "Wall time: 6.93 s\n",
      "HistGradientBoostingClassifier(learning_rate=0.3, max_depth=5, max_iter=250,\n",
      "                               min_samples_leaf=1, random_state=1,\n",
      "                               scoring='f1')\n",
      "Predictions on training set with best_hgbc_SMOTE model...\n",
      "...Done.\n",
      "\n",
      "Predictions on training set with best_hgbc_SMOTE model...\n",
      "...Done.\n",
      "\n",
      "f1-score on train set for best_hgbc_SMOTE :  0.9611717640985934\n",
      "f1-score on test set for best_hgbc_SMOTE:  0.563768928771733\n",
      "Train\n",
      "              precision    recall  f1-score   support\n",
      "\n",
      "           0       0.97      0.96      0.96    192780\n",
      "           1       0.96      0.97      0.96    192780\n",
      "\n",
      "    accuracy                           0.96    385560\n",
      "   macro avg       0.96      0.96      0.96    385560\n",
      "weighted avg       0.96      0.96      0.96    385560\n",
      "\n",
      "Test\n",
      "              precision    recall  f1-score   support\n",
      "\n",
      "           0       1.00      0.96      0.98     82620\n",
      "           1       0.41      0.91      0.56      2754\n",
      "\n",
      "    accuracy                           0.95     85374\n",
      "   macro avg       0.70      0.93      0.77     85374\n",
      "weighted avg       0.98      0.95      0.96     85374\n",
      "\n"
     ]
    },
    {
     "data": {
      "image/png": "[encoded data removed]",
      "text/plain": [
       "<Figure size 720x288 with 4 Axes>"
      ]
     },
     "metadata": {
      "needs_background": "light"
     },
     "output_type": "display_data"
    }
   ],
   "source": [
    "smote = SMOTE()\n",
    "X_smote, y_smote = smote.fit_resample(X_train, Y_train)\n",
    "\n",
    "gbc = HistGradientBoostingClassifier()\n",
    "\n",
    "param_grid_hgbc_SMOTE = {\"learning_rate\": [0.7, 0.5, 0.3, 0.1],\n",
    "                                         \"max_iter\" : np.arange(50,551,100),\n",
    "                                         \"min_samples_leaf\": np.arange(1,6,2),\n",
    "                                         \"max_depth\": np.arange(3,20,2),\n",
    "                                          \"scoring\":['f1'],\n",
    "                                          \"random_state\": [1]\n",
    "                                        }\n",
    "\n",
    "hgbc_SMOTE = HalvingGridSearchCV(gbc, param_grid=param_grid_hgbc_SMOTE, \n",
    "                        cv=10, verbose=1, n_jobs=-1, \n",
    "                        return_train_score=True, scoring='f1')\n",
    "print(hgbc_SMOTE)\n",
    "\n",
    "%time hgbc_SMOTE.fit(X_smote, y_smote)\n",
    "\n",
    "print(\"the best set of parameters for this gradient boosting is : \\n {}\".format(hgbc_SMOTE.best_params_))                                   \n",
    " \n",
    "best_hgbc_SMOTE = hgbc_SMOTE.best_estimator_    \n",
    "\n",
    "%time best_hgbc_SMOTE.fit(X_smote, y_smote)\n",
    "\n",
    "# Predictions on training set with best_hgbc_SMOTE model\n",
    "print(best_hgbc_SMOTE)\n",
    "print(\"Predictions on training set with best_hgbc_SMOTE model...\")\n",
    "Y_train_pred = best_hgbc_SMOTE.predict(X_smote)\n",
    "print(\"...Done.\")\n",
    "print()\n",
    "\n",
    "# Predictions on testing set with best_hgbc_SMOTE model\n",
    "print(\"Predictions on training set with best_hgbc_SMOTE model...\")\n",
    "Y_test_pred = best_hgbc_SMOTE.predict(X_test)\n",
    "print(\"...Done.\")\n",
    "print()\n",
    "\n",
    "print(\"f1-score on train set for best_hgbc_SMOTE : \", f1_score(y_smote, Y_train_pred))\n",
    "print(\"f1-score on test set for best_hgbc_SMOTE: \", f1_score(Y_test, Y_test_pred))\n",
    "\n",
    "print(\"Train\")\n",
    "print(classification_report(y_smote, Y_train_pred))\n",
    "print(\"Test\")\n",
    "print(classification_report(Y_test,Y_test_pred))\n",
    "\n",
    "fig, (ax1,ax2) = plt.subplots(1, 2, figsize=(10, 4))\n",
    "\n",
    "cm_train = confusion_matrix(y_smote, Y_train_pred, normalize=\"true\")\n",
    "g1 = sns.heatmap(cm_train, annot=True, fmt=\".2f\",ax=ax1)\n",
    "g1.set_title(\"Train\")\n",
    "\n",
    "cm_test = confusion_matrix(Y_test, Y_test_pred, normalize=\"true\")\n",
    "g2 = sns.heatmap(cm_test, annot=True, fmt=\".2f\",ax=ax2)\n",
    "g2.set_title(\"Test\")\n",
    "plt.show()"
   ]
  },
  {
   "cell_type": "code",
   "execution_count": 73,
   "metadata": {},
   "outputs": [
    {
     "name": "stdout",
     "output_type": "stream",
     "text": [
      "HalvingGridSearchCV(cv=10, estimator=HistGradientBoostingClassifier(),\n",
      "                    n_jobs=-1,\n",
      "                    param_grid={'learning_rate': [0.7, 0.5, 0.3, 0.1],\n",
      "                                'max_depth': array([ 3,  5,  7,  9, 11, 13, 15, 17, 19]),\n",
      "                                'max_iter': array([ 50, 150, 250, 350, 450, 550]),\n",
      "                                'min_samples_leaf': array([1, 3, 5]),\n",
      "                                'random_state': [1], 'scoring': ['f1']},\n",
      "                    refit=<function _refit_callable at 0x7ffd9061e820>,\n",
      "                    scoring='f1', verbose=1)\n",
      "n_iterations: 5\n",
      "n_required_iterations: 6\n",
      "n_possible_iterations: 5\n",
      "min_resources_: 1467\n",
      "max_resources_: 356703\n",
      "aggressive_elimination: False\n",
      "factor: 3\n",
      "----------\n",
      "iter: 0\n",
      "n_candidates: 648\n",
      "n_resources: 1467\n",
      "Fitting 10 folds for each of 648 candidates, totalling 6480 fits\n"
     ]
    },
    {
     "name": "stderr",
     "output_type": "stream",
     "text": [
      "/Users/jd/opt/anaconda3/lib/python3.8/site-packages/joblib/externals/loky/process_executor.py:688: UserWarning:\n",
      "\n",
      "A worker stopped while some jobs were given to the executor. This can be caused by a too short worker timeout or by a memory leak.\n",
      "\n"
     ]
    },
    {
     "name": "stdout",
     "output_type": "stream",
     "text": [
      "----------\n",
      "iter: 1\n",
      "n_candidates: 216\n",
      "n_resources: 4401\n",
      "Fitting 10 folds for each of 216 candidates, totalling 2160 fits\n"
     ]
    },
    {
     "name": "stderr",
     "output_type": "stream",
     "text": [
      "/Users/jd/opt/anaconda3/lib/python3.8/site-packages/joblib/externals/loky/process_executor.py:688: UserWarning:\n",
      "\n",
      "A worker stopped while some jobs were given to the executor. This can be caused by a too short worker timeout or by a memory leak.\n",
      "\n"
     ]
    },
    {
     "name": "stdout",
     "output_type": "stream",
     "text": [
      "----------\n",
      "iter: 2\n",
      "n_candidates: 72\n",
      "n_resources: 13203\n",
      "Fitting 10 folds for each of 72 candidates, totalling 720 fits\n",
      "----------\n",
      "iter: 3\n",
      "n_candidates: 24\n",
      "n_resources: 39609\n",
      "Fitting 10 folds for each of 24 candidates, totalling 240 fits\n",
      "----------\n",
      "iter: 4\n",
      "n_candidates: 8\n",
      "n_resources: 118827\n",
      "Fitting 10 folds for each of 8 candidates, totalling 80 fits\n"
     ]
    },
    {
     "name": "stderr",
     "output_type": "stream",
     "text": [
      "/Users/jd/opt/anaconda3/lib/python3.8/site-packages/joblib/externals/loky/process_executor.py:688: UserWarning:\n",
      "\n",
      "A worker stopped while some jobs were given to the executor. This can be caused by a too short worker timeout or by a memory leak.\n",
      "\n"
     ]
    },
    {
     "name": "stdout",
     "output_type": "stream",
     "text": [
      "CPU times: user 1min 21s, sys: 8.64 s, total: 1min 30s\n",
      "Wall time: 12min 48s\n",
      "the best set of parameters for this gradient boosting is : \n",
      " {'learning_rate': 0.3, 'max_depth': 7, 'max_iter': 350, 'min_samples_leaf': 3, 'random_state': 1, 'scoring': 'f1'}\n",
      "CPU times: user 1min 5s, sys: 6.17 s, total: 1min 11s\n",
      "Wall time: 9.13 s\n",
      "HistGradientBoostingClassifier(learning_rate=0.3, max_depth=7, max_iter=350,\n",
      "                               min_samples_leaf=3, random_state=1,\n",
      "                               scoring='f1')\n",
      "Predictions on training set with best_hgbc_SMOTEENN model...\n",
      "...Done.\n",
      "\n",
      "Predictions on training set with best_hgbc_SMOTEENN model...\n",
      "...Done.\n",
      "\n",
      "f1-score on train set for best_hgbc_SMOTEENN :  0.9902020079835491\n",
      "f1-score on test set for best_hgbc_SMOTEENN:  0.5589778690394708\n",
      "Train\n",
      "              precision    recall  f1-score   support\n",
      "\n",
      "           0       0.98      1.00      0.99    181995\n",
      "           1       1.00      0.98      0.99    174708\n",
      "\n",
      "    accuracy                           0.99    356703\n",
      "   macro avg       0.99      0.99      0.99    356703\n",
      "weighted avg       0.99      0.99      0.99    356703\n",
      "\n",
      "Test\n",
      "              precision    recall  f1-score   support\n",
      "\n",
      "           0       1.00      0.96      0.98     82620\n",
      "           1       0.41      0.89      0.56      2754\n",
      "\n",
      "    accuracy                           0.95     85374\n",
      "   macro avg       0.70      0.92      0.77     85374\n",
      "weighted avg       0.98      0.95      0.96     85374\n",
      "\n"
     ]
    },
    {
     "data": {
      "image/png": "[encoded data removed]",
      "text/plain": [
       "<Figure size 720x288 with 4 Axes>"
      ]
     },
     "metadata": {
      "needs_background": "light"
     },
     "output_type": "display_data"
    }
   ],
   "source": [
    "smoteenn = SMOTEENN()\n",
    "X_smoteenn, y_smoteenn = smoteenn.fit_resample(X_train, Y_train)\n",
    "\n",
    "gbc = HistGradientBoostingClassifier()\n",
    "\n",
    "param_grid_hgbc_SMOTEENN = {\"learning_rate\": [0.7, 0.5, 0.3, 0.1],\n",
    "                                         \"max_iter\" : np.arange(50,551,100),\n",
    "                                         \"min_samples_leaf\": np.arange(1,6,2),\n",
    "                                         \"max_depth\": np.arange(3,20,2),\n",
    "                                          \"scoring\":['f1'],\n",
    "                                          \"random_state\": [1]\n",
    "                                        }\n",
    "\n",
    "hgbc_SMOTEENN = HalvingGridSearchCV(gbc, param_grid=param_grid_hgbc_SMOTEENN, \n",
    "                        cv=10, verbose=1, n_jobs=-1, \n",
    "                        return_train_score=True, scoring='f1')\n",
    "print(hgbc_SMOTEENN)\n",
    "\n",
    "%time hgbc_SMOTEENN.fit(X_smoteenn, y_smoteenn)\n",
    "\n",
    "print(\"the best set of parameters for this gradient boosting is : \\n {}\".format(hgbc_SMOTEENN.best_params_))                                   \n",
    " \n",
    "best_hgbc_SMOTEENN = hgbc_SMOTEENN.best_estimator_    \n",
    "\n",
    "%time best_hgbc_SMOTEENN.fit(X_smoteenn, y_smoteenn)\n",
    "\n",
    "\n",
    "\n",
    "# Predictions on training set with best_hgbc_SMOTEENN model\n",
    "print(best_hgbc_SMOTEENN)\n",
    "print(\"Predictions on training set with best_hgbc_SMOTEENN model...\")\n",
    "Y_train_pred = best_hgbc_SMOTEENN.predict(X_smoteenn)\n",
    "print(\"...Done.\")\n",
    "print()\n",
    "\n",
    "# Predictions on testing set with best_hgbc_SMOTEENN model\n",
    "print(\"Predictions on training set with best_hgbc_SMOTEENN model...\")\n",
    "Y_test_pred = best_hgbc_SMOTEENN.predict(X_test)\n",
    "print(\"...Done.\")\n",
    "print()\n",
    "\n",
    "print(\"f1-score on train set for best_hgbc_SMOTEENN : \", f1_score(y_smoteenn, Y_train_pred))\n",
    "print(\"f1-score on test set for best_hgbc_SMOTEENN: \", f1_score(Y_test, Y_test_pred))\n",
    "\n",
    "print(\"Train\")\n",
    "print(classification_report(y_smoteenn, Y_train_pred))\n",
    "print(\"Test\")\n",
    "print(classification_report(Y_test,Y_test_pred))\n",
    "\n",
    "fig, (ax1,ax2) = plt.subplots(1, 2, figsize=(10, 4))\n",
    "\n",
    "cm_train = confusion_matrix(y_smoteenn, Y_train_pred, normalize=\"true\")\n",
    "g1 = sns.heatmap(cm_train, annot=True, fmt=\".2f\",ax=ax1)\n",
    "g1.set_title(\"Train\")\n",
    "\n",
    "cm_test = confusion_matrix(Y_test, Y_test_pred, normalize=\"true\")\n",
    "g2 = sns.heatmap(cm_test, annot=True, fmt=\".2f\",ax=ax2)\n",
    "g2.set_title(\"Test\")\n",
    "plt.show()"
   ]
  },
  {
   "cell_type": "code",
   "execution_count": 74,
   "metadata": {},
   "outputs": [
    {
     "name": "stdout",
     "output_type": "stream",
     "text": [
      "HalvingGridSearchCV(cv=10, estimator=HistGradientBoostingClassifier(),\n",
      "                    n_jobs=-1,\n",
      "                    param_grid={'learning_rate': [0.7, 0.5, 0.3, 0.1],\n",
      "                                'max_depth': array([ 3,  5,  7,  9, 11, 13, 15, 17, 19]),\n",
      "                                'max_iter': array([ 50, 150, 250, 350, 450, 550]),\n",
      "                                'min_samples_leaf': array([1, 3, 5]),\n",
      "                                'random_state': [1], 'scoring': ['f1']},\n",
      "                    refit=<function _refit_callable at 0x7ffd9061e820>,\n",
      "                    scoring='f1', verbose=1)\n",
      "n_iterations: 5\n",
      "n_required_iterations: 6\n",
      "n_possible_iterations: 5\n",
      "min_resources_: 1586\n",
      "max_resources_: 385482\n",
      "aggressive_elimination: False\n",
      "factor: 3\n",
      "----------\n",
      "iter: 0\n",
      "n_candidates: 648\n",
      "n_resources: 1586\n",
      "Fitting 10 folds for each of 648 candidates, totalling 6480 fits\n",
      "----------\n",
      "iter: 1\n",
      "n_candidates: 216\n",
      "n_resources: 4758\n",
      "Fitting 10 folds for each of 216 candidates, totalling 2160 fits\n",
      "----------\n",
      "iter: 2\n",
      "n_candidates: 72\n",
      "n_resources: 14274\n",
      "Fitting 10 folds for each of 72 candidates, totalling 720 fits\n",
      "----------\n",
      "iter: 3\n",
      "n_candidates: 24\n",
      "n_resources: 42822\n",
      "Fitting 10 folds for each of 24 candidates, totalling 240 fits\n",
      "----------\n",
      "iter: 4\n",
      "n_candidates: 8\n",
      "n_resources: 128466\n",
      "Fitting 10 folds for each of 8 candidates, totalling 80 fits\n"
     ]
    },
    {
     "name": "stderr",
     "output_type": "stream",
     "text": [
      "/Users/jd/opt/anaconda3/lib/python3.8/site-packages/joblib/externals/loky/process_executor.py:688: UserWarning:\n",
      "\n",
      "A worker stopped while some jobs were given to the executor. This can be caused by a too short worker timeout or by a memory leak.\n",
      "\n"
     ]
    },
    {
     "name": "stdout",
     "output_type": "stream",
     "text": [
      "CPU times: user 1min 23s, sys: 8.91 s, total: 1min 32s\n",
      "Wall time: 15min 37s\n",
      "the best set of parameters for this gradient boosting is : \n",
      " {'learning_rate': 0.3, 'max_depth': 7, 'max_iter': 250, 'min_samples_leaf': 3, 'random_state': 1, 'scoring': 'f1'}\n",
      "CPU times: user 1min 6s, sys: 6.55 s, total: 1min 12s\n",
      "Wall time: 9.37 s\n",
      "HistGradientBoostingClassifier(learning_rate=0.3, max_depth=7, max_iter=250,\n",
      "                               min_samples_leaf=3, random_state=1,\n",
      "                               scoring='f1')\n",
      "Predictions on training set with best_hgbc_SMOTETomek model...\n",
      "...Done.\n",
      "\n",
      "Predictions on training set with best_hgbc_SMOTETomek model...\n",
      "...Done.\n",
      "\n",
      "f1-score on train set for best_hgbc_SMOTETomek :  0.95993809646634\n",
      "f1-score on test set for best_hgbc_SMOTETomek:  0.5525104143828108\n",
      "Train\n",
      "              precision    recall  f1-score   support\n",
      "\n",
      "           0       0.97      0.95      0.96    192741\n",
      "           1       0.95      0.97      0.96    192741\n",
      "\n",
      "    accuracy                           0.96    385482\n",
      "   macro avg       0.96      0.96      0.96    385482\n",
      "weighted avg       0.96      0.96      0.96    385482\n",
      "\n",
      "Test\n",
      "              precision    recall  f1-score   support\n",
      "\n",
      "           0       1.00      0.95      0.97     82620\n",
      "           1       0.40      0.92      0.55      2754\n",
      "\n",
      "    accuracy                           0.95     85374\n",
      "   macro avg       0.70      0.93      0.76     85374\n",
      "weighted avg       0.98      0.95      0.96     85374\n",
      "\n"
     ]
    },
    {
     "data": {
      "image/png": "[encoded data removed]",
      "text/plain": [
       "<Figure size 720x288 with 4 Axes>"
      ]
     },
     "metadata": {
      "needs_background": "light"
     },
     "output_type": "display_data"
    }
   ],
   "source": [
    "smotetomek = SMOTETomek()\n",
    "X_smotetomek, y_smotetomek = smotetomek.fit_resample(X_train, Y_train)\n",
    "\n",
    "gbc = HistGradientBoostingClassifier()\n",
    "\n",
    "param_grid_hgbc_SMOTETomek = {\"learning_rate\": [0.7, 0.5, 0.3, 0.1],\n",
    "                                         \"max_iter\" : np.arange(50,551,100),\n",
    "                                         \"min_samples_leaf\": np.arange(1,6,2),\n",
    "                                         \"max_depth\": np.arange(3,20,2),\n",
    "                                          \"scoring\":['f1'],\n",
    "                                          \"random_state\": [1]\n",
    "                                        }\n",
    "\n",
    "hgbc_SMOTETomek = HalvingGridSearchCV(gbc, param_grid=param_grid_hgbc_SMOTETomek, \n",
    "                        cv=10, verbose=1, n_jobs=-1, \n",
    "                        return_train_score=True, scoring='f1')\n",
    "print(hgbc_SMOTETomek)\n",
    "\n",
    "%time hgbc_SMOTETomek.fit(X_smotetomek, y_smotetomek)\n",
    "\n",
    "print(\"the best set of parameters for this gradient boosting is : \\n {}\".format(hgbc_SMOTETomek.best_params_))                                   \n",
    " \n",
    "best_hgbc_SMOTETomek = hgbc_SMOTETomek.best_estimator_    \n",
    "\n",
    "%time best_hgbc_SMOTETomek.fit(X_smotetomek, y_smotetomek)\n",
    "\n",
    "\n",
    "\n",
    "# Predictions on training set with best_hgbc_SMOTETomek model\n",
    "print(best_hgbc_SMOTETomek)\n",
    "print(\"Predictions on training set with best_hgbc_SMOTETomek model...\")\n",
    "Y_train_pred = best_hgbc_SMOTETomek.predict(X_smotetomek)\n",
    "print(\"...Done.\")\n",
    "print()\n",
    "\n",
    "# Predictions on testing set with best_hgbc_SMOTETomek model\n",
    "print(\"Predictions on training set with best_hgbc_SMOTETomek model...\")\n",
    "Y_test_pred = best_hgbc_SMOTETomek.predict(X_test)\n",
    "print(\"...Done.\")\n",
    "print()\n",
    "\n",
    "print(\"f1-score on train set for best_hgbc_SMOTETomek : \", f1_score(y_smotetomek, Y_train_pred))\n",
    "print(\"f1-score on test set for best_hgbc_SMOTETomek: \", f1_score(Y_test, Y_test_pred))\n",
    "\n",
    "print(\"Train\")\n",
    "print(classification_report(y_smotetomek, Y_train_pred))\n",
    "print(\"Test\")\n",
    "print(classification_report(Y_test,Y_test_pred))\n",
    "\n",
    "fig, (ax1,ax2) = plt.subplots(1, 2, figsize=(10, 4))\n",
    "\n",
    "cm_train = confusion_matrix(y_smotetomek, Y_train_pred, normalize=\"true\")\n",
    "g1 = sns.heatmap(cm_train, annot=True, fmt=\".2f\",ax=ax1)\n",
    "g1.set_title(\"Train\")\n",
    "\n",
    "cm_test = confusion_matrix(Y_test, Y_test_pred, normalize=\"true\")\n",
    "g2 = sns.heatmap(cm_test, annot=True, fmt=\".2f\",ax=ax2)\n",
    "g2.set_title(\"Test\")\n",
    "plt.show()"
   ]
  },
  {
   "cell_type": "code",
   "execution_count": 75,
   "metadata": {},
   "outputs": [
    {
     "name": "stdout",
     "output_type": "stream",
     "text": [
      "HalvingGridSearchCV(cv=10, estimator=HistGradientBoostingClassifier(),\n",
      "                    n_jobs=-1,\n",
      "                    param_grid={'learning_rate': [0.7, 0.5, 0.3, 0.1],\n",
      "                                'max_depth': array([ 3,  5,  7,  9, 11, 13, 15, 17, 19]),\n",
      "                                'max_iter': array([ 50, 150, 250, 350, 450, 550]),\n",
      "                                'min_samples_leaf': array([1, 3, 5]),\n",
      "                                'random_state': [1], 'scoring': ['f1']},\n",
      "                    refit=<function _refit_callable at 0x7ffd9061e820>,\n",
      "                    scoring='f1', verbose=1)\n",
      "n_iterations: 5\n",
      "n_required_iterations: 6\n",
      "n_possible_iterations: 5\n",
      "min_resources_: 819\n",
      "max_resources_: 199183\n",
      "aggressive_elimination: False\n",
      "factor: 3\n",
      "----------\n",
      "iter: 0\n",
      "n_candidates: 648\n",
      "n_resources: 819\n",
      "Fitting 10 folds for each of 648 candidates, totalling 6480 fits\n",
      "----------\n",
      "iter: 1\n",
      "n_candidates: 216\n",
      "n_resources: 2457\n",
      "Fitting 10 folds for each of 216 candidates, totalling 2160 fits\n",
      "----------\n",
      "iter: 2\n",
      "n_candidates: 72\n",
      "n_resources: 7371\n",
      "Fitting 10 folds for each of 72 candidates, totalling 720 fits\n",
      "----------\n",
      "iter: 3\n",
      "n_candidates: 24\n",
      "n_resources: 22113\n",
      "Fitting 10 folds for each of 24 candidates, totalling 240 fits\n",
      "----------\n",
      "iter: 4\n",
      "n_candidates: 8\n",
      "n_resources: 66339\n",
      "Fitting 10 folds for each of 8 candidates, totalling 80 fits\n",
      "CPU times: user 26 s, sys: 4.27 s, total: 30.3 s\n",
      "Wall time: 6min 33s\n",
      "the best set of parameters for this gradient boosting is : \n",
      " {'learning_rate': 0.1, 'max_depth': 11, 'max_iter': 150, 'min_samples_leaf': 3, 'random_state': 1, 'scoring': 'f1'}\n",
      "CPU times: user 16.5 s, sys: 3.62 s, total: 20.1 s\n",
      "Wall time: 3.08 s\n",
      "HistGradientBoostingClassifier(max_depth=11, max_iter=150, min_samples_leaf=3,\n",
      "                               random_state=1, scoring='f1')\n",
      "Predictions on training set with best_hgbc_TomekLinks model...\n",
      "...Done.\n",
      "\n",
      "Predictions on training set with best_hgbc_TomekLinks model...\n",
      "...Done.\n",
      "\n",
      "f1-score on train set for best_hgbc_TomekLinks :  0.7737575913095543\n",
      "f1-score on test set for best_hgbc_TomekLinks :  0.7538705835649067\n",
      "Train\n",
      "              precision    recall  f1-score   support\n",
      "\n",
      "           0       0.99      1.00      0.99    192757\n",
      "           1       0.86      0.70      0.77      6426\n",
      "\n",
      "    accuracy                           0.99    199183\n",
      "   macro avg       0.92      0.85      0.88    199183\n",
      "weighted avg       0.99      0.99      0.99    199183\n",
      "\n",
      "Test\n",
      "              precision    recall  f1-score   support\n",
      "\n",
      "           0       0.99      1.00      0.99     82620\n",
      "           1       0.83      0.69      0.75      2754\n",
      "\n",
      "    accuracy                           0.99     85374\n",
      "   macro avg       0.91      0.84      0.87     85374\n",
      "weighted avg       0.98      0.99      0.98     85374\n",
      "\n"
     ]
    },
    {
     "data": {
      "image/png": "[encoded data removed]",
      "text/plain": [
       "<Figure size 720x288 with 4 Axes>"
      ]
     },
     "metadata": {
      "needs_background": "light"
     },
     "output_type": "display_data"
    }
   ],
   "source": [
    "TomekLinks = TomekLinks()\n",
    "X_TomekLinks, y_TomekLinks = TomekLinks.fit_resample(X_train, Y_train)\n",
    "\n",
    "gbc = HistGradientBoostingClassifier()\n",
    "\n",
    "param_grid_hgbc_TomekLinks = {\"learning_rate\": [0.7, 0.5, 0.3, 0.1],\n",
    "                                         \"max_iter\" : np.arange(50,551,100),\n",
    "                                         \"min_samples_leaf\": np.arange(1,6,2),\n",
    "                                         \"max_depth\": np.arange(3,20,2),\n",
    "                                          \"scoring\":['f1'],\n",
    "                                          \"random_state\": [1]\n",
    "                                        }\n",
    "\n",
    "hgbc_TomekLinks = HalvingGridSearchCV(gbc, param_grid=param_grid_hgbc_TomekLinks, \n",
    "                        cv=10, verbose=1, n_jobs=-1, \n",
    "                        return_train_score=True, scoring='f1')\n",
    "print(hgbc_TomekLinks)\n",
    "\n",
    "%time hgbc_TomekLinks.fit(X_TomekLinks, y_TomekLinks)\n",
    "\n",
    "print(\"the best set of parameters for this gradient boosting is : \\n {}\".format(hgbc_TomekLinks.best_params_))                                   \n",
    " \n",
    "best_hgbc_TomekLinks = hgbc_TomekLinks.best_estimator_    \n",
    "\n",
    "%time best_hgbc_TomekLinks.fit(X_TomekLinks, y_TomekLinks)\n",
    "\n",
    "\n",
    "\n",
    "# Predictions on training set with best_hgbc_TomekLinks model\n",
    "print(best_hgbc_TomekLinks)\n",
    "print(\"Predictions on training set with best_hgbc_TomekLinks model...\")\n",
    "Y_train_pred = best_hgbc_TomekLinks.predict(X_TomekLinks)\n",
    "print(\"...Done.\")\n",
    "print()\n",
    "\n",
    "# Predictions on testing set with best_hgbc_TomekLinks model\n",
    "print(\"Predictions on training set with best_hgbc_TomekLinks model...\")\n",
    "Y_test_pred = best_hgbc_TomekLinks.predict(X_test)\n",
    "print(\"...Done.\")\n",
    "print()\n",
    "\n",
    "print(\"f1-score on train set for best_hgbc_TomekLinks : \", f1_score(y_TomekLinks, Y_train_pred))\n",
    "print(\"f1-score on test set for best_hgbc_TomekLinks : \", f1_score(Y_test, Y_test_pred))\n",
    "\n",
    "print(\"Train\")\n",
    "print(classification_report(y_TomekLinks,Y_train_pred))\n",
    "print(\"Test\")\n",
    "print(classification_report(Y_test,Y_test_pred))\n",
    "      \n",
    "fig, (ax1,ax2) = plt.subplots(1, 2, figsize=(10, 4))\n",
    "\n",
    "cm_train = confusion_matrix(y_TomekLinks, Y_train_pred, normalize=\"true\")\n",
    "g1 = sns.heatmap(cm_train, annot=True, fmt=\".2f\",ax=ax1)\n",
    "g1.set_title(\"Train\")\n",
    "\n",
    "cm_test = confusion_matrix(Y_test, Y_test_pred, normalize=\"true\")\n",
    "g2 = sns.heatmap(cm_test, annot=True, fmt=\".2f\",ax=ax2)\n",
    "g2.set_title(\"Test\")\n",
    "plt.show()"
   ]
  },
  {
   "cell_type": "code",
   "execution_count": 76,
   "metadata": {},
   "outputs": [
    {
     "name": "stdout",
     "output_type": "stream",
     "text": [
      "HalvingGridSearchCV(cv=10, estimator=BalancedRandomForestClassifier(),\n",
      "                    n_jobs=-1,\n",
      "                    param_grid={'class_weight': ['balanced_subsample',\n",
      "                                                 'balanced'],\n",
      "                                'criterion': ['gini', 'entropy'],\n",
      "                                'max_depth': array([ 3,  7, 11, 15]),\n",
      "                                'min_samples_leaf': array([1, 3, 5]),\n",
      "                                'min_samples_split': array([2, 5, 8]),\n",
      "                                'n_estimators': array([ 30,  60,  90, 120]),\n",
      "                                'random_state': [1],\n",
      "                                'sampling_strategy': [0.8, 0.5, 0.1]},\n",
      "                    refit=<function _refit_callable at 0x7ffd9061e820>,\n",
      "                    scoring='f1', verbose=1)\n",
      "n_iterations: 7\n",
      "n_required_iterations: 7\n",
      "n_possible_iterations: 7\n",
      "min_resources_: 273\n",
      "max_resources_: 199206\n",
      "aggressive_elimination: False\n",
      "factor: 3\n",
      "----------\n",
      "iter: 0\n",
      "n_candidates: 1728\n",
      "n_resources: 273\n",
      "Fitting 10 folds for each of 1728 candidates, totalling 17280 fits\n"
     ]
    },
    {
     "name": "stderr",
     "output_type": "stream",
     "text": [
      "/Users/jd/opt/anaconda3/lib/python3.8/site-packages/joblib/externals/loky/process_executor.py:688: UserWarning:\n",
      "\n",
      "A worker stopped while some jobs were given to the executor. This can be caused by a too short worker timeout or by a memory leak.\n",
      "\n"
     ]
    },
    {
     "name": "stdout",
     "output_type": "stream",
     "text": [
      "----------\n",
      "iter: 1\n",
      "n_candidates: 576\n",
      "n_resources: 819\n",
      "Fitting 10 folds for each of 576 candidates, totalling 5760 fits\n",
      "----------\n",
      "iter: 2\n",
      "n_candidates: 192\n",
      "n_resources: 2457\n",
      "Fitting 10 folds for each of 192 candidates, totalling 1920 fits\n"
     ]
    },
    {
     "name": "stderr",
     "output_type": "stream",
     "text": [
      "/Users/jd/opt/anaconda3/lib/python3.8/site-packages/joblib/externals/loky/process_executor.py:688: UserWarning:\n",
      "\n",
      "A worker stopped while some jobs were given to the executor. This can be caused by a too short worker timeout or by a memory leak.\n",
      "\n"
     ]
    },
    {
     "name": "stdout",
     "output_type": "stream",
     "text": [
      "----------\n",
      "iter: 3\n",
      "n_candidates: 64\n",
      "n_resources: 7371\n",
      "Fitting 10 folds for each of 64 candidates, totalling 640 fits\n"
     ]
    },
    {
     "name": "stderr",
     "output_type": "stream",
     "text": [
      "/Users/jd/opt/anaconda3/lib/python3.8/site-packages/joblib/externals/loky/process_executor.py:688: UserWarning:\n",
      "\n",
      "A worker stopped while some jobs were given to the executor. This can be caused by a too short worker timeout or by a memory leak.\n",
      "\n"
     ]
    },
    {
     "name": "stdout",
     "output_type": "stream",
     "text": [
      "----------\n",
      "iter: 4\n",
      "n_candidates: 22\n",
      "n_resources: 22113\n",
      "Fitting 10 folds for each of 22 candidates, totalling 220 fits\n"
     ]
    },
    {
     "name": "stderr",
     "output_type": "stream",
     "text": [
      "/Users/jd/opt/anaconda3/lib/python3.8/site-packages/joblib/externals/loky/process_executor.py:688: UserWarning:\n",
      "\n",
      "A worker stopped while some jobs were given to the executor. This can be caused by a too short worker timeout or by a memory leak.\n",
      "\n"
     ]
    },
    {
     "name": "stdout",
     "output_type": "stream",
     "text": [
      "----------\n",
      "iter: 5\n",
      "n_candidates: 8\n",
      "n_resources: 66339\n",
      "Fitting 10 folds for each of 8 candidates, totalling 80 fits\n"
     ]
    },
    {
     "name": "stderr",
     "output_type": "stream",
     "text": [
      "/Users/jd/opt/anaconda3/lib/python3.8/site-packages/joblib/externals/loky/process_executor.py:688: UserWarning:\n",
      "\n",
      "A worker stopped while some jobs were given to the executor. This can be caused by a too short worker timeout or by a memory leak.\n",
      "\n"
     ]
    },
    {
     "name": "stdout",
     "output_type": "stream",
     "text": [
      "----------\n",
      "iter: 6\n",
      "n_candidates: 3\n",
      "n_resources: 199017\n",
      "Fitting 10 folds for each of 3 candidates, totalling 30 fits\n"
     ]
    },
    {
     "name": "stderr",
     "output_type": "stream",
     "text": [
      "/Users/jd/opt/anaconda3/lib/python3.8/site-packages/joblib/externals/loky/process_executor.py:688: UserWarning:\n",
      "\n",
      "A worker stopped while some jobs were given to the executor. This can be caused by a too short worker timeout or by a memory leak.\n",
      "\n"
     ]
    },
    {
     "name": "stdout",
     "output_type": "stream",
     "text": [
      "CPU times: user 36.7 s, sys: 4.01 s, total: 40.8 s\n",
      "Wall time: 12min 38s\n",
      "the best set of parameters for the balanced random forest is : \n",
      " {'class_weight': 'balanced_subsample', 'criterion': 'entropy', 'max_depth': 11, 'min_samples_leaf': 3, 'min_samples_split': 5, 'n_estimators': 120, 'random_state': 1, 'sampling_strategy': 0.1}\n",
      "CPU times: user 7.66 s, sys: 46.9 ms, total: 7.71 s\n",
      "Wall time: 7.71 s\n",
      "BalancedRandomForestClassifier(class_weight='balanced_subsample',\n",
      "                               criterion='entropy', max_depth=11,\n",
      "                               min_samples_leaf=3, min_samples_split=5,\n",
      "                               n_estimators=120, random_state=1,\n",
      "                               sampling_strategy=0.1)\n",
      "Predictions on training set with best_Brfc model...\n",
      "...Done.\n",
      "\n",
      "Predictions on training set with best_Brfc model...\n",
      "...Done.\n",
      "\n",
      "f1-score on train set for best best_Brfc :  0.5485610695671879\n",
      "f1-score on test set for best best_Brfc:  0.5377278507842306\n",
      "\n",
      "              precision    recall  f1-score   support\n",
      "\n",
      "           0       1.00      0.95      0.97    192780\n",
      "           1       0.39      0.94      0.55      6426\n",
      "\n",
      "    accuracy                           0.95    199206\n",
      "   macro avg       0.69      0.95      0.76    199206\n",
      "weighted avg       0.98      0.95      0.96    199206\n",
      "\n",
      "              precision    recall  f1-score   support\n",
      "\n",
      "           0       1.00      0.95      0.97     82620\n",
      "           1       0.38      0.92      0.54      2754\n",
      "\n",
      "    accuracy                           0.95     85374\n",
      "   macro avg       0.69      0.94      0.76     85374\n",
      "weighted avg       0.98      0.95      0.96     85374\n",
      "\n"
     ]
    },
    {
     "data": {
      "image/png": "[encoded data removed]",
      "text/plain": [
       "<Figure size 720x288 with 4 Axes>"
      ]
     },
     "metadata": {
      "needs_background": "light"
     },
     "output_type": "display_data"
    }
   ],
   "source": [
    "from imblearn.ensemble import BalancedRandomForestClassifier\n",
    "\n",
    "Brfc = BalancedRandomForestClassifier()\n",
    "\n",
    "\n",
    "param_grid_Brfc = {\"n_estimators\": np.arange(30,121,30),\n",
    "                 \"max_depth\": np.arange(3,17,4),\n",
    "                 \"criterion\" : [\"gini\", \"entropy\"],\n",
    "                 'min_samples_split': np.arange(2,9,3),\n",
    "                  \"min_samples_leaf\": np.arange(1,6,2),\n",
    "                  \"class_weight\": [\"balanced_subsample\",\"balanced\"],\n",
    "                  \"sampling_strategy\": [0.8, 0.5, 0.1],\n",
    "                  \"random_state\": [1]\n",
    "                  }\n",
    "\n",
    "grid_Brfc = HalvingGridSearchCV(Brfc, param_grid=param_grid_Brfc, \n",
    "                cv=10, verbose=1, n_jobs=-1, \n",
    "                return_train_score=True, scoring='f1')\n",
    "\n",
    "print(grid_Brfc)\n",
    "\n",
    "%time grid_Brfc.fit(X_train, Y_train)\n",
    "\n",
    "print(\"the best set of parameters for the balanced random forest is : \\n {}\".format(grid_Brfc.best_params_))\n",
    "\n",
    "best_Brfc = grid_Brfc.best_estimator_\n",
    "\n",
    "%time best_Brfc.fit(X_train, Y_train)\n",
    "\n",
    "# Predictions on training set with grid_gbc model\n",
    "print(best_Brfc)\n",
    "print(\"Predictions on training set with best_Brfc model...\")\n",
    "Y_train_pred = best_Brfc.predict(X_train)\n",
    "print(\"...Done.\")\n",
    "print()\n",
    "\n",
    "# Predictions on testing set with grid_gbc model\n",
    "print(\"Predictions on training set with best_Brfc model...\")\n",
    "Y_test_pred = best_Brfc.predict(X_test)\n",
    "print(\"...Done.\")\n",
    "print()\n",
    "\n",
    "print(\"f1-score on train set for best best_Brfc : \", f1_score(Y_train, Y_train_pred))\n",
    "print(\"f1-score on test set for best best_Brfc: \", f1_score(Y_test, Y_test_pred))\n",
    "print()\n",
    "print(classification_report(Y_train,Y_train_pred))\n",
    "print(classification_report(Y_test,Y_test_pred))\n",
    "\n",
    "fig, (ax1,ax2) = plt.subplots(1, 2, figsize=(10, 4))\n",
    "\n",
    "cm_train = confusion_matrix(Y_train, Y_train_pred, normalize=\"true\")\n",
    "g1 = sns.heatmap(cm_train, annot=True, fmt=\".2f\",ax=ax1)\n",
    "g1.set_title(\"Train\")\n",
    "\n",
    "cm_test = confusion_matrix(Y_test, Y_test_pred, normalize=\"true\")\n",
    "g2 = sns.heatmap(cm_test, annot=True, fmt=\".2f\",ax=ax2)\n",
    "g2.set_title(\"Test\")\n",
    "plt.show()\n",
    "\n"
   ]
  },
  {
   "cell_type": "markdown",
   "metadata": {
    "colab_type": "text",
    "id": "6tVVDRABv91O"
   },
   "source": [
    "# Train best classifier on all data and use it to make predictions on X_without_labels\n",
    "**Before making predictions on the file conversion_data_test.csv, let's train our model on ALL the data that was in conversion_data_train.csv. Sometimes, this allows to make tiny improvements in the score because we're using more examples to train the model.**"
   ]
  },
  {
   "cell_type": "code",
   "execution_count": 77,
   "metadata": {
    "colab": {
     "base_uri": "https://localhost:8080/",
     "height": 154
    },
    "colab_type": "code",
    "id": "M14RHUadzE2p",
    "outputId": "abcfcfec-9461-4579-adbd-f23270f984eb"
   },
   "outputs": [
    {
     "name": "stdout",
     "output_type": "stream",
     "text": [
      "CPU times: user 372 ms, sys: 904 ms, total: 1.28 s\n",
      "Wall time: 224 ms\n",
      "CPU times: user 397 ms, sys: 994 ms, total: 1.39 s\n",
      "Wall time: 225 ms\n",
      "CPU times: user 23min 6s, sys: 3.37 s, total: 23min 9s\n",
      "Wall time: 23min 8s\n",
      "CPU times: user 129 ms, sys: 389 µs, total: 129 ms\n",
      "Wall time: 129 ms\n",
      "CPU times: user 5.62 s, sys: 13.6 ms, total: 5.64 s\n",
      "Wall time: 5.64 s\n",
      "CPU times: user 10min 34s, sys: 2.08 s, total: 10min 36s\n",
      "Wall time: 10min 36s\n",
      "CPU times: user 16.3 s, sys: 1.82 s, total: 18.1 s\n",
      "Wall time: 2.44 s\n",
      "CPU times: user 1min 41s, sys: 9.86 s, total: 1min 51s\n",
      "Wall time: 14.4 s\n",
      "CPU times: user 49.9 s, sys: 4.87 s, total: 54.7 s\n",
      "Wall time: 7.15 s\n",
      "CPU times: user 45 s, sys: 4.76 s, total: 49.8 s\n",
      "Wall time: 6.59 s\n",
      "CPU times: user 12.8 s, sys: 1.48 s, total: 14.2 s\n",
      "Wall time: 1.94 s\n",
      "CPU times: user 11.8 s, sys: 305 ms, total: 12.1 s\n",
      "Wall time: 10.9 s\n"
     ]
    },
    {
     "data": {
      "text/plain": [
       "BalancedRandomForestClassifier(class_weight='balanced_subsample',\n",
       "                               criterion='entropy', max_depth=11,\n",
       "                               min_samples_leaf=3, min_samples_split=5,\n",
       "                               n_estimators=120, random_state=1,\n",
       "                               sampling_strategy=0.1)"
      ]
     },
     "execution_count": 77,
     "metadata": {},
     "output_type": "execute_result"
    }
   ],
   "source": [
    "# Concatenate our train and test set to train your best classifier on all data with labels\n",
    "X = np.append(X_train,X_test,axis=0)\n",
    "Y = np.append(Y_train,Y_test)\n",
    "\n",
    "\n",
    "# basic logistic regression\n",
    "%time classifier.fit(X,Y)\n",
    "# logistic regression with optimized parameter: C = 10\n",
    "%time grid_logClass.fit(X,Y)\n",
    "# basic SVC\n",
    "%time svm.fit(X,Y)\n",
    "# Decision Tree with parameters optimized\n",
    "%time grid_dtc.fit(X,Y)\n",
    "# Random forest with parameters optimized \n",
    "%time grid_rfc.fit(X,Y)\n",
    "# SVC with parameters optimized\n",
    "%time grid_svm.fit(X,Y)\n",
    "# Gradient Boosting with parameters optimized\n",
    "%time best_gbc.fit(X,Y)\n",
    "# Gradient Boosting train with SMOTE resampling\n",
    "X_smote, y_smote = smote.fit_resample(X,Y)\n",
    "%time best_hgbc_SMOTE.fit(X_smote, y_smote)\n",
    "# Gradient Boosting train with smoteenn resampling\n",
    "X_smoteenn, y_smoteenn = smoteenn.fit_resample(X,Y)\n",
    "%time best_hgbc_SMOTEENN.fit(X_smoteenn, y_smoteenn)\n",
    "# Gradient Boosting train with smotetomek resampling\n",
    "X_smotetomek, y_smotetomek = smotetomek.fit_resample(X,Y)\n",
    "%time  best_hgbc_SMOTETomek.fit(X_smotetomek, y_smotetomek)\n",
    "# Gradient Boosting train with TomekLinks resampling\n",
    "X_TomekLinks, y_TomekLinks = TomekLinks.fit_resample(X,Y)\n",
    "%time best_hgbc_TomekLinks.fit(X_TomekLinks, y_TomekLinks)\n",
    "# Balanced Randon Forest with parameters optimized \n",
    "%time best_Brfc.fit(X,Y)"
   ]
  },
  {
   "cell_type": "code",
   "execution_count": 78,
   "metadata": {},
   "outputs": [
    {
     "name": "stdout",
     "output_type": "stream",
     "text": [
      "LogisticRegression()\n",
      "Predictions on training set with basic logistic regression model...\n",
      "...Done.\n",
      "\n",
      "f1-score on train set for basic logistic regression :  0.7623469818488814\n",
      "              precision    recall  f1-score   support\n",
      "\n",
      "           0       0.99      1.00      0.99    275400\n",
      "           1       0.85      0.69      0.76      9180\n",
      "\n",
      "    accuracy                           0.99    284580\n",
      "   macro avg       0.92      0.84      0.88    284580\n",
      "weighted avg       0.99      0.99      0.99    284580\n",
      "\n"
     ]
    },
    {
     "data": {
      "image/png": "[encoded data removed]",
      "text/plain": [
       "<Figure size 432x288 with 2 Axes>"
      ]
     },
     "metadata": {
      "needs_background": "light"
     },
     "output_type": "display_data"
    }
   ],
   "source": [
    "# Predictions on training set with basic logistic regression model\n",
    "print(classifier)\n",
    "print(\"Predictions on training set with basic logistic regression model...\")\n",
    "Y_pred = classifier.predict(X)\n",
    "print(\"...Done.\")\n",
    "print()\n",
    "print(\"f1-score on train set for basic logistic regression : \", f1_score(Y, Y_pred))\n",
    "print(classification_report(Y,Y_pred))\n",
    "cm_train = confusion_matrix(Y, Y_pred, normalize=\"true\")\n",
    "g = sns.heatmap(cm_train, annot=True, fmt=\".2f\")"
   ]
  },
  {
   "cell_type": "code",
   "execution_count": 79,
   "metadata": {},
   "outputs": [
    {
     "name": "stdout",
     "output_type": "stream",
     "text": [
      "LogisticRegression(C=100.0)\n",
      "Predictions on training set with logistic regression with optimized parameter model...\n",
      "...Done.\n",
      "\n",
      "f1-score on train set for logistic regression with optimized parameter :  0.7626914265042807\n",
      "              precision    recall  f1-score   support\n",
      "\n",
      "           0       0.99      1.00      0.99    275400\n",
      "           1       0.85      0.69      0.76      9180\n",
      "\n",
      "    accuracy                           0.99    284580\n",
      "   macro avg       0.92      0.84      0.88    284580\n",
      "weighted avg       0.99      0.99      0.99    284580\n",
      "\n"
     ]
    },
    {
     "data": {
      "image/png": "[encoded data removed]",
      "text/plain": [
       "<Figure size 432x288 with 2 Axes>"
      ]
     },
     "metadata": {
      "needs_background": "light"
     },
     "output_type": "display_data"
    }
   ],
   "source": [
    "# Predictions on training set with logistic regression with optimized parameter model\n",
    "print(grid_logClass)\n",
    "print(\"Predictions on training set with logistic regression with optimized parameter model...\")\n",
    "Y_pred = grid_logClass.predict(X)\n",
    "print(\"...Done.\")\n",
    "print()\n",
    "print(\"f1-score on train set for logistic regression with optimized parameter : \", f1_score(Y, Y_pred))\n",
    "print(classification_report(Y,Y_pred))\n",
    "cm_train = confusion_matrix(Y, Y_pred, normalize=\"true\")\n",
    "g = sns.heatmap(cm_train, annot=True, fmt=\".2f\")"
   ]
  },
  {
   "cell_type": "code",
   "execution_count": 80,
   "metadata": {},
   "outputs": [
    {
     "name": "stdout",
     "output_type": "stream",
     "text": [
      "SVC()\n",
      "Predictions on training set with basic SVC model...\n",
      "...Done.\n",
      "\n",
      "f1-score on train set for basic SVC :  0.7533354017995657\n",
      "              precision    recall  f1-score   support\n",
      "\n",
      "           0       0.99      1.00      0.99    275400\n",
      "           1       0.88      0.66      0.75      9180\n",
      "\n",
      "    accuracy                           0.99    284580\n",
      "   macro avg       0.93      0.83      0.87    284580\n",
      "weighted avg       0.99      0.99      0.99    284580\n",
      "\n"
     ]
    },
    {
     "data": {
      "image/png": "[encoded data removed]",
      "text/plain": [
       "<Figure size 432x288 with 2 Axes>"
      ]
     },
     "metadata": {
      "needs_background": "light"
     },
     "output_type": "display_data"
    }
   ],
   "source": [
    "# Predictions on training set with basic SVC model\n",
    "print(svm)\n",
    "print(\"Predictions on training set with basic SVC model...\")\n",
    "Y_pred = svm.predict(X)\n",
    "print(\"...Done.\")\n",
    "print()\n",
    "print(\"f1-score on train set for basic SVC : \", f1_score(Y, Y_pred))\n",
    "print(classification_report(Y,Y_pred))\n",
    "cm_train = confusion_matrix(Y, Y_pred, normalize=\"true\")\n",
    "g = sns.heatmap(cm_train, annot=True, fmt=\".2f\")"
   ]
  },
  {
   "cell_type": "code",
   "execution_count": 81,
   "metadata": {},
   "outputs": [
    {
     "name": "stdout",
     "output_type": "stream",
     "text": [
      "DecisionTreeClassifier(criterion='entropy', max_depth=9, min_samples_leaf=5,\n",
      "                       min_samples_split=6)\n",
      "Predictions on training set with Decision Tree with parameters optimized model...\n",
      "...Done.\n",
      "\n",
      "f1-score on train set for Decision Tree with parameters optimized :  0.7644985964283582\n",
      "              precision    recall  f1-score   support\n",
      "\n",
      "           0       0.99      1.00      0.99    275400\n",
      "           1       0.85      0.70      0.76      9180\n",
      "\n",
      "    accuracy                           0.99    284580\n",
      "   macro avg       0.92      0.85      0.88    284580\n",
      "weighted avg       0.99      0.99      0.99    284580\n",
      "\n"
     ]
    },
    {
     "data": {
      "image/png": "[encoded data removed]",
      "text/plain": [
       "<Figure size 432x288 with 2 Axes>"
      ]
     },
     "metadata": {
      "needs_background": "light"
     },
     "output_type": "display_data"
    }
   ],
   "source": [
    "# Predictions on training set with Decision Tree with parameters optimized model\n",
    "print(grid_dtc)\n",
    "print(\"Predictions on training set with Decision Tree with parameters optimized model...\")\n",
    "Y_pred = grid_dtc.predict(X)\n",
    "print(\"...Done.\")\n",
    "print()\n",
    "print(\"f1-score on train set for Decision Tree with parameters optimized : \", f1_score(Y, Y_pred))\n",
    "print(classification_report(Y,Y_pred))\n",
    "cm_train = confusion_matrix(Y, Y_pred, normalize=\"true\")\n",
    "g = sns.heatmap(cm_train, annot=True, fmt=\".2f\")"
   ]
  },
  {
   "cell_type": "code",
   "execution_count": 82,
   "metadata": {},
   "outputs": [
    {
     "name": "stdout",
     "output_type": "stream",
     "text": [
      "RandomForestClassifier(class_weight='balanced', criterion='entropy',\n",
      "                       max_depth=11, min_samples_leaf=3)\n",
      "Predictions on training set with Random forest with parameters optimized  model...\n",
      "...Done.\n",
      "\n",
      "f1-score on train set for Random forest with parameters optimized  :  0.5486461606831095\n",
      "              precision    recall  f1-score   support\n",
      "\n",
      "           0       1.00      0.95      0.97    275400\n",
      "           1       0.39      0.94      0.55      9180\n",
      "\n",
      "    accuracy                           0.95    284580\n",
      "   macro avg       0.69      0.95      0.76    284580\n",
      "weighted avg       0.98      0.95      0.96    284580\n",
      "\n"
     ]
    },
    {
     "data": {
      "image/png": "[encoded data removed]",
      "text/plain": [
       "<Figure size 432x288 with 2 Axes>"
      ]
     },
     "metadata": {
      "needs_background": "light"
     },
     "output_type": "display_data"
    }
   ],
   "source": [
    "# Predictions on training set with Random forest with parameters optimized  model\n",
    "print(grid_rfc)\n",
    "print(\"Predictions on training set with Random forest with parameters optimized  model...\")\n",
    "Y_pred = grid_rfc.predict(X)\n",
    "print(\"...Done.\")\n",
    "print()\n",
    "print(\"f1-score on train set for Random forest with parameters optimized  : \", f1_score(Y, Y_pred))\n",
    "print(classification_report(Y,Y_pred))\n",
    "cm_train = confusion_matrix(Y, Y_pred, normalize=\"true\")\n",
    "g = sns.heatmap(cm_train, annot=True, fmt=\".2f\")"
   ]
  },
  {
   "cell_type": "code",
   "execution_count": 83,
   "metadata": {},
   "outputs": [
    {
     "name": "stdout",
     "output_type": "stream",
     "text": [
      "SVC(C=0.0001, gamma=10.0, kernel='poly')\n",
      "Predictions on training set with SVC with parameters optimized model...\n",
      "...Done.\n",
      "\n",
      "f1-score on train set for SVC with parameters optimized :  0.7425742574257425\n",
      "              precision    recall  f1-score   support\n",
      "\n",
      "           0       0.99      1.00      0.99    275400\n",
      "           1       0.89      0.64      0.74      9180\n",
      "\n",
      "    accuracy                           0.99    284580\n",
      "   macro avg       0.94      0.82      0.87    284580\n",
      "weighted avg       0.98      0.99      0.98    284580\n",
      "\n"
     ]
    },
    {
     "data": {
      "image/png": "[encoded data removed]",
      "text/plain": [
       "<Figure size 432x288 with 2 Axes>"
      ]
     },
     "metadata": {
      "needs_background": "light"
     },
     "output_type": "display_data"
    }
   ],
   "source": [
    "# Predictions on training set with SVC with parameters optimized model\n",
    "print(grid_svm)\n",
    "print(\"Predictions on training set with SVC with parameters optimized model...\")\n",
    "Y_pred = grid_svm.predict(X)\n",
    "print(\"...Done.\")\n",
    "print()\n",
    "print(\"f1-score on train set for SVC with parameters optimized : \", f1_score(Y, Y_pred))\n",
    "print(classification_report(Y,Y_pred))\n",
    "cm_train = confusion_matrix(Y, Y_pred, normalize=\"true\")\n",
    "g = sns.heatmap(cm_train, annot=True, fmt=\".2f\")"
   ]
  },
  {
   "cell_type": "code",
   "execution_count": 84,
   "metadata": {},
   "outputs": [
    {
     "name": "stdout",
     "output_type": "stream",
     "text": [
      "HistGradientBoostingClassifier(max_depth=5, max_iter=150, min_samples_leaf=1,\n",
      "                               random_state=1, scoring='f1')\n",
      "Predictions on training set with Gradient Boosting with parameters optimized model...\n",
      "...Done.\n",
      "\n",
      "f1-score on train set for Gradient Boosting with parameters optimized :  0.7637375938029534\n",
      "              precision    recall  f1-score   support\n",
      "\n",
      "           0       0.99      1.00      0.99    275400\n",
      "           1       0.86      0.69      0.76      9180\n",
      "\n",
      "    accuracy                           0.99    284580\n",
      "   macro avg       0.92      0.84      0.88    284580\n",
      "weighted avg       0.99      0.99      0.99    284580\n",
      "\n"
     ]
    },
    {
     "data": {
      "image/png": "[encoded data removed]",
      "text/plain": [
       "<Figure size 432x288 with 2 Axes>"
      ]
     },
     "metadata": {
      "needs_background": "light"
     },
     "output_type": "display_data"
    }
   ],
   "source": [
    "# Predictions on training set with Gradient Boosting with parameters optimized model\n",
    "print(best_gbc)\n",
    "print(\"Predictions on training set with Gradient Boosting with parameters optimized model...\")\n",
    "Y_pred = best_gbc.predict(X)\n",
    "print(\"...Done.\")\n",
    "print()\n",
    "print(\"f1-score on train set for Gradient Boosting with parameters optimized : \", f1_score(Y, Y_pred))\n",
    "print(classification_report(Y,Y_pred))\n",
    "cm_train = confusion_matrix(Y, Y_pred, normalize=\"true\")\n",
    "g = sns.heatmap(cm_train, annot=True, fmt=\".2f\")"
   ]
  },
  {
   "cell_type": "code",
   "execution_count": 85,
   "metadata": {},
   "outputs": [
    {
     "name": "stdout",
     "output_type": "stream",
     "text": [
      "HistGradientBoostingClassifier(learning_rate=0.3, max_depth=5, max_iter=250,\n",
      "                               min_samples_leaf=1, random_state=1,\n",
      "                               scoring='f1')\n",
      "Predictions on training set with Gradient Boosting train with SMOTE resampling model...\n",
      "...Done.\n",
      "\n",
      "f1-score on train set for Gradient Boosting train with SMOTE resampling :  0.9572960236386355\n",
      "              precision    recall  f1-score   support\n",
      "\n",
      "           0       0.96      0.95      0.96    275400\n",
      "           1       0.95      0.96      0.96    275400\n",
      "\n",
      "    accuracy                           0.96    550800\n",
      "   macro avg       0.96      0.96      0.96    550800\n",
      "weighted avg       0.96      0.96      0.96    550800\n",
      "\n"
     ]
    },
    {
     "data": {
      "image/png": "[encoded data removed]",
      "text/plain": [
       "<Figure size 432x288 with 2 Axes>"
      ]
     },
     "metadata": {
      "needs_background": "light"
     },
     "output_type": "display_data"
    }
   ],
   "source": [
    "# Predictions on training set with Gradient Boosting train with SMOTE resampling model\n",
    "print(best_hgbc_SMOTE)\n",
    "print(\"Predictions on training set with Gradient Boosting train with SMOTE resampling model...\")\n",
    "Y_pred = best_hgbc_SMOTE.predict(X_smote)\n",
    "print(\"...Done.\")\n",
    "print()\n",
    "print(\"f1-score on train set for Gradient Boosting train with SMOTE resampling : \", f1_score(y_smote, Y_pred))\n",
    "print(classification_report(y_smote,Y_pred))\n",
    "cm_train = confusion_matrix(y_smote, Y_pred, normalize=\"true\")\n",
    "g = sns.heatmap(cm_train, annot=True, fmt=\".2f\")"
   ]
  },
  {
   "cell_type": "code",
   "execution_count": 86,
   "metadata": {},
   "outputs": [
    {
     "name": "stdout",
     "output_type": "stream",
     "text": [
      "HistGradientBoostingClassifier(learning_rate=0.3, max_depth=7, max_iter=350,\n",
      "                               min_samples_leaf=3, random_state=1,\n",
      "                               scoring='f1')\n",
      "Predictions on training set with Gradient Boosting train with smoteenn resampling model...\n",
      "...Done.\n",
      "\n",
      "f1-score on train set for Gradient Boosting train with smoteenn resampling :  0.9904379614941742\n",
      "              precision    recall  f1-score   support\n",
      "\n",
      "           0       0.99      1.00      0.99    254353\n",
      "           1       1.00      0.99      0.99    249535\n",
      "\n",
      "    accuracy                           0.99    503888\n",
      "   macro avg       0.99      0.99      0.99    503888\n",
      "weighted avg       0.99      0.99      0.99    503888\n",
      "\n"
     ]
    },
    {
     "data": {
      "image/png": "[encoded data removed]",
      "text/plain": [
       "<Figure size 432x288 with 2 Axes>"
      ]
     },
     "metadata": {
      "needs_background": "light"
     },
     "output_type": "display_data"
    }
   ],
   "source": [
    "# Predictions on training set with Gradient Boosting train with smoteenn resampling model\n",
    "print(best_hgbc_SMOTEENN)\n",
    "print(\"Predictions on training set with Gradient Boosting train with smoteenn resampling model...\")\n",
    "Y_pred = best_hgbc_SMOTEENN.predict(X_smoteenn)\n",
    "print(\"...Done.\")\n",
    "print()\n",
    "print(\"f1-score on train set for Gradient Boosting train with smoteenn resampling : \", f1_score(y_smoteenn, Y_pred))\n",
    "print(classification_report(y_smoteenn,Y_pred))\n",
    "cm_train = confusion_matrix(y_smoteenn, Y_pred, normalize=\"true\")\n",
    "g = sns.heatmap(cm_train, annot=True, fmt=\".2f\")"
   ]
  },
  {
   "cell_type": "code",
   "execution_count": 87,
   "metadata": {},
   "outputs": [
    {
     "name": "stdout",
     "output_type": "stream",
     "text": [
      "HistGradientBoostingClassifier(learning_rate=0.3, max_depth=7, max_iter=250,\n",
      "                               min_samples_leaf=3, random_state=1,\n",
      "                               scoring='f1')\n",
      "Predictions on training set with Gradient Boosting train with smotetomek resampling model...\n",
      "...Done.\n",
      "\n",
      "f1-score on train set for Gradient Boosting train with smotetomek resampling :  0.9552812973973596\n",
      "              precision    recall  f1-score   support\n",
      "\n",
      "           0       0.96      0.95      0.95    275367\n",
      "           1       0.95      0.96      0.96    275367\n",
      "\n",
      "    accuracy                           0.96    550734\n",
      "   macro avg       0.96      0.96      0.96    550734\n",
      "weighted avg       0.96      0.96      0.96    550734\n",
      "\n"
     ]
    },
    {
     "data": {
      "image/png": "[encoded data removed]",
      "text/plain": [
       "<Figure size 432x288 with 2 Axes>"
      ]
     },
     "metadata": {
      "needs_background": "light"
     },
     "output_type": "display_data"
    }
   ],
   "source": [
    "# Predictions on training set with Gradient Boosting train with smotetomek resampling model\n",
    "print(best_hgbc_SMOTETomek)\n",
    "print(\"Predictions on training set with Gradient Boosting train with smotetomek resampling model...\")\n",
    "Y_pred = best_hgbc_SMOTETomek.predict(X_smotetomek)\n",
    "print(\"...Done.\")\n",
    "print()\n",
    "print(\"f1-score on train set for Gradient Boosting train with smotetomek resampling : \", f1_score(y_smotetomek, Y_pred))\n",
    "print(classification_report(y_smotetomek,Y_pred))\n",
    "cm_train = confusion_matrix(y_smotetomek, Y_pred, normalize=\"true\")\n",
    "g = sns.heatmap(cm_train, annot=True, fmt=\".2f\")"
   ]
  },
  {
   "cell_type": "code",
   "execution_count": 88,
   "metadata": {},
   "outputs": [
    {
     "name": "stdout",
     "output_type": "stream",
     "text": [
      "HistGradientBoostingClassifier(max_depth=11, max_iter=150, min_samples_leaf=3,\n",
      "                               random_state=1, scoring='f1')\n",
      "Predictions on training set with Gradient Boosting train with TomekLinks resampling model...\n",
      "...Done.\n",
      "\n",
      "f1-score on train set for Gradient Boosting train with TomekLinks resampling :  0.7676102699144174\n",
      "              precision    recall  f1-score   support\n",
      "\n",
      "           0       0.99      1.00      0.99    275376\n",
      "           1       0.85      0.70      0.77      9180\n",
      "\n",
      "    accuracy                           0.99    284556\n",
      "   macro avg       0.92      0.85      0.88    284556\n",
      "weighted avg       0.99      0.99      0.99    284556\n",
      "\n"
     ]
    },
    {
     "data": {
      "image/png": "[encoded data removed]",
      "text/plain": [
       "<Figure size 432x288 with 2 Axes>"
      ]
     },
     "metadata": {
      "needs_background": "light"
     },
     "output_type": "display_data"
    }
   ],
   "source": [
    "# Predictions on training set with Gradient Boosting train with TomekLinks resampling model\n",
    "print(best_hgbc_TomekLinks)\n",
    "print(\"Predictions on training set with Gradient Boosting train with TomekLinks resampling model...\")\n",
    "Y_pred = best_hgbc_TomekLinks.predict(X_TomekLinks)\n",
    "print(\"...Done.\")\n",
    "print()\n",
    "print(\"f1-score on train set for Gradient Boosting train with TomekLinks resampling : \", f1_score(y_TomekLinks, Y_pred))\n",
    "print(classification_report(y_TomekLinks,Y_pred))\n",
    "cm_train = confusion_matrix(y_TomekLinks, Y_pred, normalize=\"true\")\n",
    "g = sns.heatmap(cm_train, annot=True, fmt=\".2f\")"
   ]
  },
  {
   "cell_type": "code",
   "execution_count": 89,
   "metadata": {},
   "outputs": [
    {
     "name": "stdout",
     "output_type": "stream",
     "text": [
      "BalancedRandomForestClassifier(class_weight='balanced_subsample',\n",
      "                               criterion='entropy', max_depth=11,\n",
      "                               min_samples_leaf=3, min_samples_split=5,\n",
      "                               n_estimators=120, random_state=1,\n",
      "                               sampling_strategy=0.1)\n",
      "Predictions on training set with Balanced Randon Forest with parameters optimized model...\n",
      "...Done.\n",
      "\n",
      "f1-score on train set for Balanced Randon Forest with parameters optimized :  0.5394945938366622\n",
      "              precision    recall  f1-score   support\n",
      "\n",
      "           0       1.00      0.95      0.97    275400\n",
      "           1       0.38      0.94      0.54      9180\n",
      "\n",
      "    accuracy                           0.95    284580\n",
      "   macro avg       0.69      0.95      0.76    284580\n",
      "weighted avg       0.98      0.95      0.96    284580\n",
      "\n"
     ]
    },
    {
     "data": {
      "image/png": "[encoded data removed]",
      "text/plain": [
       "<Figure size 432x288 with 2 Axes>"
      ]
     },
     "metadata": {
      "needs_background": "light"
     },
     "output_type": "display_data"
    }
   ],
   "source": [
    "# Predictions on training set with Balanced Random Forest with parameters optimized model\n",
    "print(best_Brfc)\n",
    "print(\"Predictions on training set with Balanced Randon Forest with parameters optimized model...\")\n",
    "Y_pred = best_Brfc.predict(X)\n",
    "print(\"...Done.\")\n",
    "print()\n",
    "print(\"f1-score on train set for Balanced Randon Forest with parameters optimized : \", f1_score(Y, Y_pred))\n",
    "print(classification_report(Y,Y_pred))\n",
    "cm_train = confusion_matrix(Y, Y_pred, normalize=\"true\")\n",
    "g = sns.heatmap(cm_train, annot=True, fmt=\".2f\")"
   ]
  },
  {
   "cell_type": "code",
   "execution_count": 90,
   "metadata": {
    "colab": {
     "base_uri": "https://localhost:8080/",
     "height": 151
    },
    "colab_type": "code",
    "id": "Tr4CEaPzzbP-",
    "outputId": "f0d1c8ed-be4b-4974-d7b9-f23a49344d9d"
   },
   "outputs": [
    {
     "name": "stdout",
     "output_type": "stream",
     "text": [
      "Prediction set (without labels) : (31620, 5)\n",
      "Convert pandas DataFrames to numpy arrays...\n",
      "...Done\n",
      "[['UK' 28 0 'Seo' 16]\n",
      " ['UK' 22 1 'Direct' 5]\n",
      " ['China' 32 1 'Seo' 1]\n",
      " ['US' 32 1 'Ads' 6]\n",
      " ['China' 25 0 'Seo' 3]]\n"
     ]
    }
   ],
   "source": [
    "# Read data without labels\n",
    "data_without_labels = pd.read_csv('conversion_data_test.csv')\n",
    "print('Prediction set (without labels) :', data_without_labels.shape)\n",
    "\n",
    "# Warning : check consistency of features_list (must be the same than the features \n",
    "# used by your best classifier)\n",
    "X_without_labels_df = data_without_labels.loc[:, features_list]\n",
    "\n",
    "# Convert pandas DataFrames to numpy arrays before using scikit-learn\n",
    "print(\"Convert pandas DataFrames to numpy arrays...\")\n",
    "X_without_labels = X_without_labels_df.values\n",
    "print(\"...Done\")\n",
    "\n",
    "print(X_without_labels[0:5,:])"
   ]
  },
  {
   "cell_type": "code",
   "execution_count": 91,
   "metadata": {},
   "outputs": [
    {
     "data": {
      "text/html": [
       "<div>\n",
       "<style scoped>\n",
       "    .dataframe tbody tr th:only-of-type {\n",
       "        vertical-align: middle;\n",
       "    }\n",
       "\n",
       "    .dataframe tbody tr th {\n",
       "        vertical-align: top;\n",
       "    }\n",
       "\n",
       "    .dataframe thead th {\n",
       "        text-align: right;\n",
       "    }\n",
       "</style>\n",
       "<table border=\"1\" class=\"dataframe\">\n",
       "  <thead>\n",
       "    <tr style=\"text-align: right;\">\n",
       "      <th></th>\n",
       "      <th>country</th>\n",
       "      <th>age</th>\n",
       "      <th>new_user</th>\n",
       "      <th>source</th>\n",
       "      <th>total_pages_visited</th>\n",
       "    </tr>\n",
       "  </thead>\n",
       "  <tbody>\n",
       "    <tr>\n",
       "      <th>0</th>\n",
       "      <td>UK</td>\n",
       "      <td>28</td>\n",
       "      <td>0</td>\n",
       "      <td>Seo</td>\n",
       "      <td>16</td>\n",
       "    </tr>\n",
       "    <tr>\n",
       "      <th>1</th>\n",
       "      <td>UK</td>\n",
       "      <td>22</td>\n",
       "      <td>1</td>\n",
       "      <td>Direct</td>\n",
       "      <td>5</td>\n",
       "    </tr>\n",
       "    <tr>\n",
       "      <th>2</th>\n",
       "      <td>China</td>\n",
       "      <td>32</td>\n",
       "      <td>1</td>\n",
       "      <td>Seo</td>\n",
       "      <td>1</td>\n",
       "    </tr>\n",
       "    <tr>\n",
       "      <th>3</th>\n",
       "      <td>US</td>\n",
       "      <td>32</td>\n",
       "      <td>1</td>\n",
       "      <td>Ads</td>\n",
       "      <td>6</td>\n",
       "    </tr>\n",
       "    <tr>\n",
       "      <th>4</th>\n",
       "      <td>China</td>\n",
       "      <td>25</td>\n",
       "      <td>0</td>\n",
       "      <td>Seo</td>\n",
       "      <td>3</td>\n",
       "    </tr>\n",
       "  </tbody>\n",
       "</table>\n",
       "</div>"
      ],
      "text/plain": [
       "  country  age  new_user  source  total_pages_visited\n",
       "0      UK   28         0     Seo                   16\n",
       "1      UK   22         1  Direct                    5\n",
       "2   China   32         1     Seo                    1\n",
       "3      US   32         1     Ads                    6\n",
       "4   China   25         0     Seo                    3"
      ]
     },
     "execution_count": 91,
     "metadata": {},
     "output_type": "execute_result"
    }
   ],
   "source": [
    "data_without_labels.head()"
   ]
  },
  {
   "cell_type": "code",
   "execution_count": 92,
   "metadata": {},
   "outputs": [
    {
     "name": "stdout",
     "output_type": "stream",
     "text": [
      "Number of rows : 31620\n",
      "\n",
      "Display of dataset: \n"
     ]
    },
    {
     "data": {
      "text/html": [
       "<div>\n",
       "<style scoped>\n",
       "    .dataframe tbody tr th:only-of-type {\n",
       "        vertical-align: middle;\n",
       "    }\n",
       "\n",
       "    .dataframe tbody tr th {\n",
       "        vertical-align: top;\n",
       "    }\n",
       "\n",
       "    .dataframe thead th {\n",
       "        text-align: right;\n",
       "    }\n",
       "</style>\n",
       "<table border=\"1\" class=\"dataframe\">\n",
       "  <thead>\n",
       "    <tr style=\"text-align: right;\">\n",
       "      <th></th>\n",
       "      <th>country</th>\n",
       "      <th>age</th>\n",
       "      <th>new_user</th>\n",
       "      <th>source</th>\n",
       "      <th>total_pages_visited</th>\n",
       "    </tr>\n",
       "  </thead>\n",
       "  <tbody>\n",
       "    <tr>\n",
       "      <th>0</th>\n",
       "      <td>UK</td>\n",
       "      <td>28</td>\n",
       "      <td>0</td>\n",
       "      <td>Seo</td>\n",
       "      <td>16</td>\n",
       "    </tr>\n",
       "    <tr>\n",
       "      <th>1</th>\n",
       "      <td>UK</td>\n",
       "      <td>22</td>\n",
       "      <td>1</td>\n",
       "      <td>Direct</td>\n",
       "      <td>5</td>\n",
       "    </tr>\n",
       "    <tr>\n",
       "      <th>2</th>\n",
       "      <td>China</td>\n",
       "      <td>32</td>\n",
       "      <td>1</td>\n",
       "      <td>Seo</td>\n",
       "      <td>1</td>\n",
       "    </tr>\n",
       "    <tr>\n",
       "      <th>3</th>\n",
       "      <td>US</td>\n",
       "      <td>32</td>\n",
       "      <td>1</td>\n",
       "      <td>Ads</td>\n",
       "      <td>6</td>\n",
       "    </tr>\n",
       "    <tr>\n",
       "      <th>4</th>\n",
       "      <td>China</td>\n",
       "      <td>25</td>\n",
       "      <td>0</td>\n",
       "      <td>Seo</td>\n",
       "      <td>3</td>\n",
       "    </tr>\n",
       "  </tbody>\n",
       "</table>\n",
       "</div>"
      ],
      "text/plain": [
       "  country  age  new_user  source  total_pages_visited\n",
       "0      UK   28         0     Seo                   16\n",
       "1      UK   22         1  Direct                    5\n",
       "2   China   32         1     Seo                    1\n",
       "3      US   32         1     Ads                    6\n",
       "4   China   25         0     Seo                    3"
      ]
     },
     "metadata": {},
     "output_type": "display_data"
    },
    {
     "name": "stdout",
     "output_type": "stream",
     "text": [
      "\n",
      "Basics statistics: \n"
     ]
    },
    {
     "data": {
      "text/html": [
       "<div>\n",
       "<style scoped>\n",
       "    .dataframe tbody tr th:only-of-type {\n",
       "        vertical-align: middle;\n",
       "    }\n",
       "\n",
       "    .dataframe tbody tr th {\n",
       "        vertical-align: top;\n",
       "    }\n",
       "\n",
       "    .dataframe thead th {\n",
       "        text-align: right;\n",
       "    }\n",
       "</style>\n",
       "<table border=\"1\" class=\"dataframe\">\n",
       "  <thead>\n",
       "    <tr style=\"text-align: right;\">\n",
       "      <th></th>\n",
       "      <th>country</th>\n",
       "      <th>age</th>\n",
       "      <th>new_user</th>\n",
       "      <th>source</th>\n",
       "      <th>total_pages_visited</th>\n",
       "    </tr>\n",
       "  </thead>\n",
       "  <tbody>\n",
       "    <tr>\n",
       "      <th>0</th>\n",
       "      <td>UK</td>\n",
       "      <td>28</td>\n",
       "      <td>0</td>\n",
       "      <td>Seo</td>\n",
       "      <td>16</td>\n",
       "    </tr>\n",
       "    <tr>\n",
       "      <th>1</th>\n",
       "      <td>UK</td>\n",
       "      <td>22</td>\n",
       "      <td>1</td>\n",
       "      <td>Direct</td>\n",
       "      <td>5</td>\n",
       "    </tr>\n",
       "    <tr>\n",
       "      <th>2</th>\n",
       "      <td>China</td>\n",
       "      <td>32</td>\n",
       "      <td>1</td>\n",
       "      <td>Seo</td>\n",
       "      <td>1</td>\n",
       "    </tr>\n",
       "    <tr>\n",
       "      <th>3</th>\n",
       "      <td>US</td>\n",
       "      <td>32</td>\n",
       "      <td>1</td>\n",
       "      <td>Ads</td>\n",
       "      <td>6</td>\n",
       "    </tr>\n",
       "    <tr>\n",
       "      <th>4</th>\n",
       "      <td>China</td>\n",
       "      <td>25</td>\n",
       "      <td>0</td>\n",
       "      <td>Seo</td>\n",
       "      <td>3</td>\n",
       "    </tr>\n",
       "    <tr>\n",
       "      <th>...</th>\n",
       "      <td>...</td>\n",
       "      <td>...</td>\n",
       "      <td>...</td>\n",
       "      <td>...</td>\n",
       "      <td>...</td>\n",
       "    </tr>\n",
       "    <tr>\n",
       "      <th>31615</th>\n",
       "      <td>Germany</td>\n",
       "      <td>25</td>\n",
       "      <td>1</td>\n",
       "      <td>Seo</td>\n",
       "      <td>3</td>\n",
       "    </tr>\n",
       "    <tr>\n",
       "      <th>31616</th>\n",
       "      <td>US</td>\n",
       "      <td>36</td>\n",
       "      <td>1</td>\n",
       "      <td>Ads</td>\n",
       "      <td>7</td>\n",
       "    </tr>\n",
       "    <tr>\n",
       "      <th>31617</th>\n",
       "      <td>UK</td>\n",
       "      <td>33</td>\n",
       "      <td>1</td>\n",
       "      <td>Seo</td>\n",
       "      <td>5</td>\n",
       "    </tr>\n",
       "    <tr>\n",
       "      <th>31618</th>\n",
       "      <td>UK</td>\n",
       "      <td>25</td>\n",
       "      <td>1</td>\n",
       "      <td>Seo</td>\n",
       "      <td>14</td>\n",
       "    </tr>\n",
       "    <tr>\n",
       "      <th>31619</th>\n",
       "      <td>US</td>\n",
       "      <td>22</td>\n",
       "      <td>1</td>\n",
       "      <td>Seo</td>\n",
       "      <td>2</td>\n",
       "    </tr>\n",
       "  </tbody>\n",
       "</table>\n",
       "<p>31620 rows × 5 columns</p>\n",
       "</div>"
      ],
      "text/plain": [
       "       country  age  new_user  source  total_pages_visited\n",
       "0           UK   28         0     Seo                   16\n",
       "1           UK   22         1  Direct                    5\n",
       "2        China   32         1     Seo                    1\n",
       "3           US   32         1     Ads                    6\n",
       "4        China   25         0     Seo                    3\n",
       "...        ...  ...       ...     ...                  ...\n",
       "31615  Germany   25         1     Seo                    3\n",
       "31616       US   36         1     Ads                    7\n",
       "31617       UK   33         1     Seo                    5\n",
       "31618       UK   25         1     Seo                   14\n",
       "31619       US   22         1     Seo                    2\n",
       "\n",
       "[31620 rows x 5 columns]"
      ]
     },
     "metadata": {},
     "output_type": "display_data"
    },
    {
     "name": "stdout",
     "output_type": "stream",
     "text": [
      "\n",
      "Percentage of missing values: \n"
     ]
    },
    {
     "data": {
      "text/plain": [
       "country                0.0\n",
       "age                    0.0\n",
       "new_user               0.0\n",
       "source                 0.0\n",
       "total_pages_visited    0.0\n",
       "dtype: float64"
      ]
     },
     "metadata": {},
     "output_type": "display_data"
    }
   ],
   "source": [
    "# Basic stats\n",
    "print(\"Number of rows : {}\".format(X_without_labels_df.shape[0]))\n",
    "print()\n",
    "\n",
    "print(\"Display of dataset: \")\n",
    "display(X_without_labels_df.head())\n",
    "print()\n",
    "\n",
    "print(\"Basics statistics: \")\n",
    "data_desc = X_without_labels_df.describe(include='all')\n",
    "display(X_without_labels_df)\n",
    "print()\n",
    "\n",
    "print(\"Percentage of missing values: \")\n",
    "display(100*X_without_labels_df.isnull().sum()/X_without_labels_df.shape[0])"
   ]
  },
  {
   "cell_type": "code",
   "execution_count": 93,
   "metadata": {},
   "outputs": [
    {
     "data": {
      "text/plain": [
       "<AxesSubplot:xlabel='country', ylabel='count'>"
      ]
     },
     "execution_count": 93,
     "metadata": {},
     "output_type": "execute_result"
    },
    {
     "data": {
      "image/png": "[encoded data removed]",
      "text/plain": [
       "<Figure size 432x288 with 1 Axes>"
      ]
     },
     "metadata": {
      "needs_background": "light"
     },
     "output_type": "display_data"
    }
   ],
   "source": [
    "sns.countplot(x=data['country'])"
   ]
  },
  {
   "cell_type": "code",
   "execution_count": 94,
   "metadata": {},
   "outputs": [
    {
     "data": {
      "text/plain": [
       "<AxesSubplot:xlabel='country', ylabel='count'>"
      ]
     },
     "execution_count": 94,
     "metadata": {},
     "output_type": "execute_result"
    },
    {
     "data": {
      "image/png": "[encoded data removed]",
      "text/plain": [
       "<Figure size 432x288 with 1 Axes>"
      ]
     },
     "metadata": {
      "needs_background": "light"
     },
     "output_type": "display_data"
    }
   ],
   "source": [
    "sns.countplot(x=X_without_labels_df['country'])"
   ]
  },
  {
   "cell_type": "code",
   "execution_count": 95,
   "metadata": {},
   "outputs": [
    {
     "data": {
      "text/plain": [
       "<AxesSubplot:xlabel='new_user', ylabel='count'>"
      ]
     },
     "execution_count": 95,
     "metadata": {},
     "output_type": "execute_result"
    },
    {
     "data": {
      "image/png": "[encoded data removed]",
      "text/plain": [
       "<Figure size 432x288 with 1 Axes>"
      ]
     },
     "metadata": {
      "needs_background": "light"
     },
     "output_type": "display_data"
    }
   ],
   "source": [
    "sns.countplot(x=data['new_user'])"
   ]
  },
  {
   "cell_type": "code",
   "execution_count": 96,
   "metadata": {},
   "outputs": [
    {
     "data": {
      "text/plain": [
       "<AxesSubplot:xlabel='new_user', ylabel='count'>"
      ]
     },
     "execution_count": 96,
     "metadata": {},
     "output_type": "execute_result"
    },
    {
     "data": {
      "image/png": "[encoded data removed]",
      "text/plain": [
       "<Figure size 432x288 with 1 Axes>"
      ]
     },
     "metadata": {
      "needs_background": "light"
     },
     "output_type": "display_data"
    }
   ],
   "source": [
    "sns.countplot(x=X_without_labels_df['new_user'])"
   ]
  },
  {
   "cell_type": "code",
   "execution_count": 97,
   "metadata": {},
   "outputs": [
    {
     "data": {
      "text/plain": [
       "<AxesSubplot:xlabel='source', ylabel='count'>"
      ]
     },
     "execution_count": 97,
     "metadata": {},
     "output_type": "execute_result"
    },
    {
     "data": {
      "image/png": "[encoded data removed]",
      "text/plain": [
       "<Figure size 432x288 with 1 Axes>"
      ]
     },
     "metadata": {
      "needs_background": "light"
     },
     "output_type": "display_data"
    }
   ],
   "source": [
    "sns.countplot(x=data['source'])"
   ]
  },
  {
   "cell_type": "code",
   "execution_count": 98,
   "metadata": {},
   "outputs": [
    {
     "data": {
      "text/plain": [
       "<AxesSubplot:xlabel='source', ylabel='count'>"
      ]
     },
     "execution_count": 98,
     "metadata": {},
     "output_type": "execute_result"
    },
    {
     "data": {
      "image/png": "[encoded data removed]",
      "text/plain": [
       "<Figure size 432x288 with 1 Axes>"
      ]
     },
     "metadata": {
      "needs_background": "light"
     },
     "output_type": "display_data"
    }
   ],
   "source": [
    "sns.countplot(x=X_without_labels_df['source'])"
   ]
  },
  {
   "cell_type": "code",
   "execution_count": 99,
   "metadata": {},
   "outputs": [
    {
     "data": {
      "text/plain": [
       "<AxesSubplot:xlabel='age'>"
      ]
     },
     "execution_count": 99,
     "metadata": {},
     "output_type": "execute_result"
    },
    {
     "data": {
      "image/png": "[encoded data removed]",
      "text/plain": [
       "<Figure size 432x288 with 1 Axes>"
      ]
     },
     "metadata": {
      "needs_background": "light"
     },
     "output_type": "display_data"
    }
   ],
   "source": [
    "sns.boxplot(x=data[\"age\"])"
   ]
  },
  {
   "cell_type": "code",
   "execution_count": 100,
   "metadata": {},
   "outputs": [
    {
     "data": {
      "text/plain": [
       "<AxesSubplot:xlabel='age'>"
      ]
     },
     "execution_count": 100,
     "metadata": {},
     "output_type": "execute_result"
    },
    {
     "data": {
      "image/png": "[encoded data removed]",
      "text/plain": [
       "<Figure size 432x288 with 1 Axes>"
      ]
     },
     "metadata": {
      "needs_background": "light"
     },
     "output_type": "display_data"
    }
   ],
   "source": [
    "sns.boxplot(x=X_without_labels_df[\"age\"])"
   ]
  },
  {
   "cell_type": "code",
   "execution_count": 101,
   "metadata": {},
   "outputs": [
    {
     "data": {
      "text/plain": [
       "<AxesSubplot:xlabel='total_pages_visited'>"
      ]
     },
     "execution_count": 101,
     "metadata": {},
     "output_type": "execute_result"
    },
    {
     "data": {
      "image/png": "[encoded data removed]",
      "text/plain": [
       "<Figure size 432x288 with 1 Axes>"
      ]
     },
     "metadata": {
      "needs_background": "light"
     },
     "output_type": "display_data"
    }
   ],
   "source": [
    "sns.boxplot(x=data[\"total_pages_visited\"])"
   ]
  },
  {
   "cell_type": "code",
   "execution_count": 102,
   "metadata": {},
   "outputs": [
    {
     "data": {
      "text/plain": [
       "<AxesSubplot:xlabel='total_pages_visited'>"
      ]
     },
     "execution_count": 102,
     "metadata": {},
     "output_type": "execute_result"
    },
    {
     "data": {
      "image/png": "[encoded data removed]",
      "text/plain": [
       "<Figure size 432x288 with 1 Axes>"
      ]
     },
     "metadata": {
      "needs_background": "light"
     },
     "output_type": "display_data"
    }
   ],
   "source": [
    "sns.boxplot(x=X_without_labels_df[\"total_pages_visited\"])"
   ]
  },
  {
   "cell_type": "code",
   "execution_count": 103,
   "metadata": {
    "colab": {
     "base_uri": "https://localhost:8080/",
     "height": 134
    },
    "colab_type": "code",
    "id": "LoUISfsT0HMR",
    "outputId": "e42dc389-5e77-4e13-ccbc-1fef4aa2c0ca"
   },
   "outputs": [
    {
     "name": "stdout",
     "output_type": "stream",
     "text": [
      "Encoding categorical features and standardizing numerical features, inpute missing values...\n",
      "...Done\n",
      "[[-0.31198878  3.32962962  0.          1.          0.          0.        ]\n",
      " [-1.03710458  0.03697365  0.          1.          0.          1.        ]\n",
      " [ 0.17142175 -1.1603558   0.          0.          0.          1.        ]\n",
      " [ 0.17142175  0.33630601  0.          0.          1.          1.        ]\n",
      " [-0.67454668 -0.56169108  0.          0.          0.          0.        ]]\n"
     ]
    }
   ],
   "source": [
    "# WARNING : PUT HERE THE SAME PREPROCESSING AS FOR YOUR TEST SET\n",
    "# CHECK YOU ARE USING X_without_labels\n",
    "print(\"Encoding categorical features and standardizing numerical features, inpute missing values...\")\n",
    "X_without_labels = preprocessor.transform(X_without_labels)\n",
    "X_without_labels = imputer.transform(X_without_labels)\n",
    "print(\"...Done\")\n",
    "print(X_without_labels[0:5,:])"
   ]
  },
  {
   "cell_type": "code",
   "execution_count": 104,
   "metadata": {
    "colab": {},
    "colab_type": "code",
    "id": "7DuWSEHuwEQJ"
   },
   "outputs": [],
   "source": [
    "# Make predictions and dump to file\n",
    "# WARNING : MAKE SURE THE FILE IS A CSV WITH ONE COLUMN NAMED 'converted' AND NO INDEX !\n",
    "# WARNING : FILE NAME MUST HAVE FORMAT 'conversion_data_test_predictions_[name].csv'\n",
    "# where [name] is the name of your team/model separated by a '-'\n",
    "# For example : [name] = AURELIE-model1\n",
    "data_final_classifier = {\n",
    "    'converted': classifier.predict(X_without_labels)\n",
    "}\n",
    "data_final_grid_logClass = {\n",
    "    'converted': grid_logClass.predict(X_without_labels)\n",
    "}\n",
    "\n",
    "data_final_svm = {\n",
    "    'converted': svm.predict(X_without_labels)\n",
    "}\n",
    "\n",
    "data_final_grid_dtc = {\n",
    "    'converted': grid_dtc.predict(X_without_labels)\n",
    "}\n",
    "\n",
    "data_final_grid_rfc = {\n",
    "    'converted': grid_rfc.predict(X_without_labels)\n",
    "}\n",
    "\n",
    "data_final_grid_svm = {\n",
    "    'converted': grid_svm.predict(X_without_labels)\n",
    "}\n",
    "\n",
    "data_final_best_gbc = {\n",
    "    'converted': best_gbc.predict(X_without_labels)\n",
    "}\n",
    "\n",
    "data_final_best_hgbc_SMOTE = {\n",
    "    'converted': best_hgbc_SMOTE.predict(X_without_labels)\n",
    "}\n",
    "\n",
    "data_final_best_hgbc_SMOTEENN = {\n",
    "    'converted': best_hgbc_SMOTEENN.predict(X_without_labels)\n",
    "}\n",
    "\n",
    "data_final_best_hgbc_SMOTETomek = {\n",
    "    'converted': best_hgbc_SMOTETomek.predict(X_without_labels)\n",
    "}\n",
    "\n",
    "data_final_best_hgbc_TomekLinks = {\n",
    "    'converted': best_hgbc_TomekLinks.predict(X_without_labels)\n",
    "}\n",
    "\n",
    "data_final_best_Brfc = {\n",
    "    'converted': best_Brfc.predict(X_without_labels)\n",
    "}\n",
    "\n",
    "\n",
    "Y_predictions_1 = pd.DataFrame(columns=['converted'],data=data_final_classifier)\n",
    "Y_predictions_1.to_csv('conversion_data_test_predictions_JULIEN-model1.csv', index=False)\n",
    "\n",
    "Y_predictions_2 = pd.DataFrame(columns=['converted'],data=data_final_grid_logClass)\n",
    "Y_predictions_2.to_csv('conversion_data_test_predictions_JULIEN-model2.csv', index=False)\n",
    "\n",
    "Y_predictions_3 = pd.DataFrame(columns=['converted'],data=data_final_svm)\n",
    "Y_predictions_3.to_csv('conversion_data_test_predictions_JULIEN-model3.csv', index=False)\n",
    "\n",
    "Y_predictions_4 = pd.DataFrame(columns=['converted'],data=data_final_grid_dtc)\n",
    "Y_predictions_4.to_csv('conversion_data_test_predictions_JULIEN-model4.csv', index=False)\n",
    "\n",
    "Y_predictions_5 = pd.DataFrame(columns=['converted'],data=data_final_grid_rfc)\n",
    "Y_predictions_5.to_csv('conversion_data_test_predictions_JULIEN-model5.csv', index=False)\n",
    "\n",
    "Y_predictions_6 = pd.DataFrame(columns=['converted'],data=data_final_grid_svm)\n",
    "Y_predictions_6.to_csv('conversion_data_test_predictions_JULIEN-model6.csv', index=False)\n",
    "\n",
    "Y_predictions_7 = pd.DataFrame(columns=['converted'],data=data_final_best_gbc)\n",
    "Y_predictions_7.to_csv('conversion_data_test_predictions_JULIEN-model7.csv', index=False)\n",
    "\n",
    "Y_predictions_8 = pd.DataFrame(columns=['converted'],data=data_final_best_hgbc_SMOTE)\n",
    "Y_predictions_8.to_csv('conversion_data_test_predictions_JULIEN-model8.csv', index=False)\n",
    "\n",
    "Y_predictions_9 = pd.DataFrame(columns=['converted'],data=data_final_best_hgbc_SMOTEENN)\n",
    "Y_predictions_9.to_csv('conversion_data_test_predictions_JULIEN-model9.csv', index=False)\n",
    "\n",
    "Y_predictions_10 = pd.DataFrame(columns=['converted'],data=data_final_best_hgbc_SMOTETomek)\n",
    "Y_predictions_10.to_csv('conversion_data_test_predictions_JULIEN-model10.csv', index=False)\n",
    "\n",
    "Y_predictions_11 = pd.DataFrame(columns=['converted'],data=data_final_best_hgbc_TomekLinks)\n",
    "Y_predictions_11.to_csv('conversion_data_test_predictions_JULIEN-model11.csv', index=False)\n",
    "\n",
    "Y_predictions_12 = pd.DataFrame(columns=['converted'],data=data_final_best_Brfc)\n",
    "Y_predictions_12.to_csv('conversion_data_test_predictions_JULIEN-model12.csv', index=False)"
   ]
  },
  {
   "cell_type": "code",
   "execution_count": 105,
   "metadata": {},
   "outputs": [
    {
     "name": "stdout",
     "output_type": "stream",
     "text": [
      "the time to completed this program was 2.2804451930522918\n"
     ]
    }
   ],
   "source": [
    "print(\"the time to completed this program was {}\".format((time.time() - start_time)/3600))"
   ]
  },
  {
   "cell_type": "markdown",
   "metadata": {
    "tags": []
   },
   "source": [
    "## Analyzing the coefficients and interpreting the result\n",
    "**Here we trained the models and checked the scores. there was no analysis about the feature importance 🤔**\n",
    "\n",
    "**We'll take some time to analyze the model's parameters and try to find some lever for action to improve the newsletter's conversion rate 😎😎**"
   ]
  },
  {
   "cell_type": "code",
   "execution_count": 119,
   "metadata": {},
   "outputs": [
    {
     "name": "stdout",
     "output_type": "stream",
     "text": [
      "Train LogisticRegression model...\n",
      "CPU times: user 286 ms, sys: 589 ms, total: 875 ms\n",
      "Wall time: 185 ms\n",
      "...Done.\n",
      "Predictions on training set with LogisticRegression model...\n",
      "CPU times: user 2.18 ms, sys: 3.79 ms, total: 5.97 ms\n",
      "Wall time: 1.17 ms\n",
      "...Done.\n",
      "[0 0 0 ... 0 0 0]\n",
      "\n",
      "Predictions on testing set with LogisticRegression model...\n",
      "CPU times: user 1.42 ms, sys: 3.08 ms, total: 4.5 ms\n",
      "Wall time: 821 µs\n",
      "...Done.\n",
      "\n",
      "f1-score on train set for LogisticRegression :  0.7646602944975459\n",
      "f1-score on test set for LogisticRegression:  0.7590216519647153\n"
     ]
    }
   ],
   "source": [
    "# Train model\n",
    "print(\"Train LogisticRegression model...\")\n",
    "classifier = LogisticRegression()  \n",
    "%time classifier.fit(X_train, Y_train)\n",
    "print(\"...Done.\")\n",
    "\n",
    "# Predictions on training set with LogisticRegression model\n",
    "print(\"Predictions on training set with LogisticRegression model...\")\n",
    "%time Y_train_pred_classifier = classifier.predict(X_train)\n",
    "print(\"...Done.\")\n",
    "print(Y_train_pred_classifier)\n",
    "print()\n",
    "\n",
    "# Predictions on testing set with LogisticRegression model\n",
    "print(\"Predictions on testing set with LogisticRegression model...\")\n",
    "%time Y_test_pred_classifier = classifier.predict(X_test)\n",
    "print(\"...Done.\")\n",
    "print()\n",
    "\n",
    "print(\"f1-score on train set for LogisticRegression : \", f1_score(Y_train, Y_train_pred_classifier))\n",
    "print(\"f1-score on test set for LogisticRegression: \", f1_score(Y_test, Y_test_pred_classifier))"
   ]
  },
  {
   "cell_type": "code",
   "execution_count": 120,
   "metadata": {},
   "outputs": [
    {
     "data": {
      "text/html": [
       "<div>\n",
       "<style scoped>\n",
       "    .dataframe tbody tr th:only-of-type {\n",
       "        vertical-align: middle;\n",
       "    }\n",
       "\n",
       "    .dataframe tbody tr th {\n",
       "        vertical-align: top;\n",
       "    }\n",
       "\n",
       "    .dataframe thead th {\n",
       "        text-align: right;\n",
       "    }\n",
       "</style>\n",
       "<table border=\"1\" class=\"dataframe\">\n",
       "  <thead>\n",
       "    <tr style=\"text-align: right;\">\n",
       "      <th></th>\n",
       "      <th>features</th>\n",
       "      <th>coef</th>\n",
       "    </tr>\n",
       "  </thead>\n",
       "  <tbody>\n",
       "    <tr>\n",
       "      <th>0</th>\n",
       "      <td>country</td>\n",
       "      <td>-0.593317</td>\n",
       "    </tr>\n",
       "    <tr>\n",
       "      <th>1</th>\n",
       "      <td>age</td>\n",
       "      <td>2.536036</td>\n",
       "    </tr>\n",
       "    <tr>\n",
       "      <th>2</th>\n",
       "      <td>new_user</td>\n",
       "      <td>3.546926</td>\n",
       "    </tr>\n",
       "    <tr>\n",
       "      <th>3</th>\n",
       "      <td>source</td>\n",
       "      <td>3.400213</td>\n",
       "    </tr>\n",
       "    <tr>\n",
       "      <th>4</th>\n",
       "      <td>total_pages_visited</td>\n",
       "      <td>3.048680</td>\n",
       "    </tr>\n",
       "  </tbody>\n",
       "</table>\n",
       "</div>"
      ],
      "text/plain": [
       "              features      coef\n",
       "0              country -0.593317\n",
       "1                  age  2.536036\n",
       "2             new_user  3.546926\n",
       "3               source  3.400213\n",
       "4  total_pages_visited  3.048680"
      ]
     },
     "execution_count": 120,
     "metadata": {},
     "output_type": "execute_result"
    }
   ],
   "source": [
    "X = data.loc[:, features_list]\n",
    "pd.DataFrame(zip(X.columns, np.transpose(classifier.coef_.tolist()[0])), columns=['features', 'coef'])"
   ]
  },
  {
   "cell_type": "markdown",
   "metadata": {},
   "source": [
    "### Conclusion\n",
    "\n",
    "    As we can see here in the coef analysis,the most important factors are new_user and then the source. Datascienceweekly can concentrate their marketing power on this two factors first, the total_pages_visited is not very usefull even if the coef is high because they can know this only after a customer visit their site(or if they really want to use this feature they have to find a way that the user spend a lot of time on their site, adding a lot of different pages to maximize the number of pages visited by each user (specially the new ones)."
   ]
  },
  {
   "cell_type": "code",
   "execution_count": null,
   "metadata": {},
   "outputs": [],
   "source": []
  },
  {
   "cell_type": "code",
   "execution_count": null,
   "metadata": {},
   "outputs": [],
   "source": []
  },
  {
   "cell_type": "code",
   "execution_count": null,
   "metadata": {},
   "outputs": [],
   "source": []
  },
  {
   "cell_type": "code",
   "execution_count": null,
   "metadata": {},
   "outputs": [],
   "source": []
  },
  {
   "cell_type": "code",
   "execution_count": null,
   "metadata": {},
   "outputs": [],
   "source": []
  },
  {
   "cell_type": "code",
   "execution_count": null,
   "metadata": {},
   "outputs": [],
   "source": []
  },
  {
   "cell_type": "code",
   "execution_count": null,
   "metadata": {},
   "outputs": [],
   "source": []
  },
  {
   "cell_type": "code",
   "execution_count": null,
   "metadata": {},
   "outputs": [],
   "source": []
  },
  {
   "cell_type": "code",
   "execution_count": null,
   "metadata": {},
   "outputs": [],
   "source": []
  }
 ],
 "metadata": {
  "colab": {
   "collapsed_sections": [],
   "name": "Projets_template.ipynb",
   "provenance": []
  },
  "kernelspec": {
   "display_name": "Python 3",
   "language": "python",
   "name": "python3"
  },
  "language_info": {
   "codemirror_mode": {
    "name": "ipython",
    "version": 3
   },
   "file_extension": ".py",
   "mimetype": "text/x-python",
   "name": "python",
   "nbconvert_exporter": "python",
   "pygments_lexer": "ipython3",
   "version": "3.8.8"
  }
 },
 "nbformat": 4,
 "nbformat_minor": 4
}
